{
 "cells": [
  {
   "cell_type": "markdown",
   "metadata": {
    "tags": []
   },
   "source": [
    "# Data Analysis 3 - Assignment 2"
   ]
  },
  {
   "cell_type": "markdown",
   "metadata": {},
   "source": [
    "In this project, it's aimed to determine a nightly price for its new apartments to a company operating in Florence / Italy, which can accommodate 2-6 people and rents small and medium-sized apartments. For this purpose, price and feature information of airbnb houses operating in Florence will be obtained from http://insideairbnb.com/get-the-data.html, Machine Learning price prediction models will be created and then these models will be compared with the models previously obtained for London."
   ]
  },
  {
   "cell_type": "markdown",
   "metadata": {},
   "source": [
    "### Sample Selection"
   ]
  },
  {
   "cell_type": "markdown",
   "metadata": {},
   "source": [
    "First of all, data will be downloaded and cleaned for Exploratory Data Analysis (EDA) by applying filters we need."
   ]
  },
  {
   "cell_type": "code",
   "execution_count": 970,
   "metadata": {
    "tags": []
   },
   "outputs": [],
   "source": [
    "#importing the packages\n",
    "\n",
    "import warnings\n",
    "warnings.filterwarnings('ignore')\n",
    "import pandas as pd\n",
    "import numpy as np\n",
    "import os\n",
    "from pathlib import Path\n",
    "import sys\n",
    "from patsy import dmatrices\n",
    "from sklearn.model_selection import train_test_split\n",
    "import matplotlib.pyplot as plt\n",
    "\n",
    "from sklearn.ensemble import RandomForestRegressor\n",
    "from sklearn.model_selection import GridSearchCV\n",
    "from sklearn.model_selection import RandomizedSearchCV\n",
    "from sklearn.impute import SimpleImputer\n",
    "from sklearn.inspection import permutation_importance\n",
    "from sklearn.inspection import PartialDependenceDisplay\n",
    "from sklearn.inspection import partial_dependence\n",
    "from sklearn.compose import ColumnTransformer\n",
    "from sklearn.pipeline import Pipeline\n",
    "from sklearn.preprocessing import OneHotEncoder\n",
    "from sklearn.metrics import mean_squared_error"
   ]
  },
  {
   "cell_type": "markdown",
   "metadata": {},
   "source": [
    "## Downloading and Cleaning the Data"
   ]
  },
  {
   "cell_type": "code",
   "execution_count": 971,
   "metadata": {},
   "outputs": [],
   "source": [
    "# importing helper functions\n",
    "from py_helper_functions import *"
   ]
  },
  {
   "cell_type": "code",
   "execution_count": 972,
   "metadata": {},
   "outputs": [],
   "source": [
    "# importing the data from Github for Florence\n",
    "data = pd.read_csv('https://raw.githubusercontent.com/ab-dum/DA3/main/Assignment2/florence_listings.csv')\n",
    "\n"
   ]
  },
  {
   "cell_type": "code",
   "execution_count": 973,
   "metadata": {},
   "outputs": [
    {
     "data": {
      "text/html": [
       "<div>\n",
       "<style scoped>\n",
       "    .dataframe tbody tr th:only-of-type {\n",
       "        vertical-align: middle;\n",
       "    }\n",
       "\n",
       "    .dataframe tbody tr th {\n",
       "        vertical-align: top;\n",
       "    }\n",
       "\n",
       "    .dataframe thead th {\n",
       "        text-align: right;\n",
       "    }\n",
       "</style>\n",
       "<table border=\"1\" class=\"dataframe\">\n",
       "  <thead>\n",
       "    <tr style=\"text-align: right;\">\n",
       "      <th></th>\n",
       "      <th>id</th>\n",
       "      <th>listing_url</th>\n",
       "      <th>scrape_id</th>\n",
       "      <th>last_scraped</th>\n",
       "      <th>source</th>\n",
       "      <th>name</th>\n",
       "      <th>description</th>\n",
       "      <th>neighborhood_overview</th>\n",
       "      <th>picture_url</th>\n",
       "      <th>host_id</th>\n",
       "      <th>...</th>\n",
       "      <th>review_scores_communication</th>\n",
       "      <th>review_scores_location</th>\n",
       "      <th>review_scores_value</th>\n",
       "      <th>license</th>\n",
       "      <th>instant_bookable</th>\n",
       "      <th>calculated_host_listings_count</th>\n",
       "      <th>calculated_host_listings_count_entire_homes</th>\n",
       "      <th>calculated_host_listings_count_private_rooms</th>\n",
       "      <th>calculated_host_listings_count_shared_rooms</th>\n",
       "      <th>reviews_per_month</th>\n",
       "    </tr>\n",
       "  </thead>\n",
       "  <tbody>\n",
       "    <tr>\n",
       "      <th>0</th>\n",
       "      <td>31840</td>\n",
       "      <td>https://www.airbnb.com/rooms/31840</td>\n",
       "      <td>20231218165100</td>\n",
       "      <td>2023-12-19</td>\n",
       "      <td>city scrape</td>\n",
       "      <td>Serviced apartment in Florence · ★4.65 · 1 bed...</td>\n",
       "      <td>NaN</td>\n",
       "      <td>NaN</td>\n",
       "      <td>https://a0.muscache.com/pictures/prohost-api/H...</td>\n",
       "      <td>380378</td>\n",
       "      <td>...</td>\n",
       "      <td>4.91</td>\n",
       "      <td>4.91</td>\n",
       "      <td>4.70</td>\n",
       "      <td>NaN</td>\n",
       "      <td>t</td>\n",
       "      <td>29</td>\n",
       "      <td>20</td>\n",
       "      <td>9</td>\n",
       "      <td>0</td>\n",
       "      <td>0.78</td>\n",
       "    </tr>\n",
       "    <tr>\n",
       "      <th>1</th>\n",
       "      <td>222527</td>\n",
       "      <td>https://www.airbnb.com/rooms/222527</td>\n",
       "      <td>20231218165100</td>\n",
       "      <td>2023-12-18</td>\n",
       "      <td>city scrape</td>\n",
       "      <td>Rental unit in Sesto Fiorentino · ★4.85 · 1 be...</td>\n",
       "      <td>NaN</td>\n",
       "      <td>NaN</td>\n",
       "      <td>https://a0.muscache.com/pictures/7882444/afb8d...</td>\n",
       "      <td>804468</td>\n",
       "      <td>...</td>\n",
       "      <td>4.96</td>\n",
       "      <td>4.60</td>\n",
       "      <td>4.86</td>\n",
       "      <td>NaN</td>\n",
       "      <td>f</td>\n",
       "      <td>2</td>\n",
       "      <td>2</td>\n",
       "      <td>0</td>\n",
       "      <td>0</td>\n",
       "      <td>1.92</td>\n",
       "    </tr>\n",
       "    <tr>\n",
       "      <th>2</th>\n",
       "      <td>32120</td>\n",
       "      <td>https://www.airbnb.com/rooms/32120</td>\n",
       "      <td>20231218165100</td>\n",
       "      <td>2023-12-18</td>\n",
       "      <td>city scrape</td>\n",
       "      <td>Rental unit in Florence · ★4.88 · 1 bedroom · ...</td>\n",
       "      <td>NaN</td>\n",
       "      <td>NaN</td>\n",
       "      <td>https://a0.muscache.com/pictures/miso/Hosting-...</td>\n",
       "      <td>99235</td>\n",
       "      <td>...</td>\n",
       "      <td>4.96</td>\n",
       "      <td>4.63</td>\n",
       "      <td>4.63</td>\n",
       "      <td>NaN</td>\n",
       "      <td>f</td>\n",
       "      <td>1</td>\n",
       "      <td>1</td>\n",
       "      <td>0</td>\n",
       "      <td>0</td>\n",
       "      <td>0.16</td>\n",
       "    </tr>\n",
       "    <tr>\n",
       "      <th>3</th>\n",
       "      <td>224562</td>\n",
       "      <td>https://www.airbnb.com/rooms/224562</td>\n",
       "      <td>20231218165100</td>\n",
       "      <td>2023-12-19</td>\n",
       "      <td>city scrape</td>\n",
       "      <td>Condo in Florence · ★4.66 · 1 bedroom · 1 bed ...</td>\n",
       "      <td>NaN</td>\n",
       "      <td>A due passi dall'Appartamento Stella si trova ...</td>\n",
       "      <td>https://a0.muscache.com/pictures/prohost-api/H...</td>\n",
       "      <td>1168814</td>\n",
       "      <td>...</td>\n",
       "      <td>4.83</td>\n",
       "      <td>4.93</td>\n",
       "      <td>4.64</td>\n",
       "      <td>048017LTN2402</td>\n",
       "      <td>f</td>\n",
       "      <td>1</td>\n",
       "      <td>1</td>\n",
       "      <td>0</td>\n",
       "      <td>0</td>\n",
       "      <td>0.71</td>\n",
       "    </tr>\n",
       "    <tr>\n",
       "      <th>4</th>\n",
       "      <td>32180</td>\n",
       "      <td>https://www.airbnb.com/rooms/32180</td>\n",
       "      <td>20231218165100</td>\n",
       "      <td>2023-12-19</td>\n",
       "      <td>city scrape</td>\n",
       "      <td>Condo in Florence · ★4.76 · 2 bedrooms · 4 bed...</td>\n",
       "      <td>NaN</td>\n",
       "      <td>NaN</td>\n",
       "      <td>https://a0.muscache.com/pictures/bcb23395-7215...</td>\n",
       "      <td>13925330</td>\n",
       "      <td>...</td>\n",
       "      <td>4.71</td>\n",
       "      <td>4.81</td>\n",
       "      <td>4.84</td>\n",
       "      <td>NaN</td>\n",
       "      <td>f</td>\n",
       "      <td>1</td>\n",
       "      <td>1</td>\n",
       "      <td>0</td>\n",
       "      <td>0</td>\n",
       "      <td>0.21</td>\n",
       "    </tr>\n",
       "  </tbody>\n",
       "</table>\n",
       "<p>5 rows × 75 columns</p>\n",
       "</div>"
      ],
      "text/plain": [
       "       id                          listing_url       scrape_id last_scraped  \\\n",
       "0   31840   https://www.airbnb.com/rooms/31840  20231218165100   2023-12-19   \n",
       "1  222527  https://www.airbnb.com/rooms/222527  20231218165100   2023-12-18   \n",
       "2   32120   https://www.airbnb.com/rooms/32120  20231218165100   2023-12-18   \n",
       "3  224562  https://www.airbnb.com/rooms/224562  20231218165100   2023-12-19   \n",
       "4   32180   https://www.airbnb.com/rooms/32180  20231218165100   2023-12-19   \n",
       "\n",
       "        source                                               name  \\\n",
       "0  city scrape  Serviced apartment in Florence · ★4.65 · 1 bed...   \n",
       "1  city scrape  Rental unit in Sesto Fiorentino · ★4.85 · 1 be...   \n",
       "2  city scrape  Rental unit in Florence · ★4.88 · 1 bedroom · ...   \n",
       "3  city scrape  Condo in Florence · ★4.66 · 1 bedroom · 1 bed ...   \n",
       "4  city scrape  Condo in Florence · ★4.76 · 2 bedrooms · 4 bed...   \n",
       "\n",
       "   description                              neighborhood_overview  \\\n",
       "0          NaN                                                NaN   \n",
       "1          NaN                                                NaN   \n",
       "2          NaN                                                NaN   \n",
       "3          NaN  A due passi dall'Appartamento Stella si trova ...   \n",
       "4          NaN                                                NaN   \n",
       "\n",
       "                                         picture_url   host_id  ...  \\\n",
       "0  https://a0.muscache.com/pictures/prohost-api/H...    380378  ...   \n",
       "1  https://a0.muscache.com/pictures/7882444/afb8d...    804468  ...   \n",
       "2  https://a0.muscache.com/pictures/miso/Hosting-...     99235  ...   \n",
       "3  https://a0.muscache.com/pictures/prohost-api/H...   1168814  ...   \n",
       "4  https://a0.muscache.com/pictures/bcb23395-7215...  13925330  ...   \n",
       "\n",
       "  review_scores_communication review_scores_location review_scores_value  \\\n",
       "0                        4.91                   4.91                4.70   \n",
       "1                        4.96                   4.60                4.86   \n",
       "2                        4.96                   4.63                4.63   \n",
       "3                        4.83                   4.93                4.64   \n",
       "4                        4.71                   4.81                4.84   \n",
       "\n",
       "         license instant_bookable calculated_host_listings_count  \\\n",
       "0            NaN                t                             29   \n",
       "1            NaN                f                              2   \n",
       "2            NaN                f                              1   \n",
       "3  048017LTN2402                f                              1   \n",
       "4            NaN                f                              1   \n",
       "\n",
       "  calculated_host_listings_count_entire_homes  \\\n",
       "0                                          20   \n",
       "1                                           2   \n",
       "2                                           1   \n",
       "3                                           1   \n",
       "4                                           1   \n",
       "\n",
       "  calculated_host_listings_count_private_rooms  \\\n",
       "0                                            9   \n",
       "1                                            0   \n",
       "2                                            0   \n",
       "3                                            0   \n",
       "4                                            0   \n",
       "\n",
       "  calculated_host_listings_count_shared_rooms reviews_per_month  \n",
       "0                                           0              0.78  \n",
       "1                                           0              1.92  \n",
       "2                                           0              0.16  \n",
       "3                                           0              0.71  \n",
       "4                                           0              0.21  \n",
       "\n",
       "[5 rows x 75 columns]"
      ]
     },
     "execution_count": 973,
     "metadata": {},
     "output_type": "execute_result"
    }
   ],
   "source": [
    "# checking the data how it looks like\n",
    "data.head()"
   ]
  },
  {
   "cell_type": "code",
   "execution_count": 974,
   "metadata": {},
   "outputs": [
    {
     "data": {
      "text/plain": [
       "(12578, 75)"
      ]
     },
     "execution_count": 974,
     "metadata": {},
     "output_type": "execute_result"
    }
   ],
   "source": [
    "# there are 12578 rows and 75 columns\n",
    "data.shape"
   ]
  },
  {
   "cell_type": "markdown",
   "metadata": {},
   "source": [
    "### Exploratory Data Analysis (EDA)"
   ]
  },
  {
   "cell_type": "markdown",
   "metadata": {},
   "source": [
    "First off all, we need to deal with extreme and missing values. Hence ıt makes sense to check the null values for each column"
   ]
  },
  {
   "cell_type": "code",
   "execution_count": 975,
   "metadata": {},
   "outputs": [
    {
     "name": "stdout",
     "output_type": "stream",
     "text": [
      "<class 'pandas.core.frame.DataFrame'>\n",
      "RangeIndex: 12578 entries, 0 to 12577\n",
      "Data columns (total 75 columns):\n",
      " #   Column                                        Non-Null Count  Dtype  \n",
      "---  ------                                        --------------  -----  \n",
      " 0   id                                            12578 non-null  int64  \n",
      " 1   listing_url                                   12578 non-null  object \n",
      " 2   scrape_id                                     12578 non-null  int64  \n",
      " 3   last_scraped                                  12578 non-null  object \n",
      " 4   source                                        12578 non-null  object \n",
      " 5   name                                          12578 non-null  object \n",
      " 6   description                                   0 non-null      float64\n",
      " 7   neighborhood_overview                         7383 non-null   object \n",
      " 8   picture_url                                   12578 non-null  object \n",
      " 9   host_id                                       12578 non-null  int64  \n",
      " 10  host_url                                      12578 non-null  object \n",
      " 11  host_name                                     12578 non-null  object \n",
      " 12  host_since                                    12578 non-null  object \n",
      " 13  host_location                                 10142 non-null  object \n",
      " 14  host_about                                    7450 non-null   object \n",
      " 15  host_response_time                            10696 non-null  object \n",
      " 16  host_response_rate                            10696 non-null  object \n",
      " 17  host_acceptance_rate                          11333 non-null  object \n",
      " 18  host_is_superhost                             12525 non-null  object \n",
      " 19  host_thumbnail_url                            12578 non-null  object \n",
      " 20  host_picture_url                              12578 non-null  object \n",
      " 21  host_neighbourhood                            7458 non-null   object \n",
      " 22  host_listings_count                           12578 non-null  int64  \n",
      " 23  host_total_listings_count                     12578 non-null  int64  \n",
      " 24  host_verifications                            12578 non-null  object \n",
      " 25  host_has_profile_pic                          12578 non-null  object \n",
      " 26  host_identity_verified                        12578 non-null  object \n",
      " 27  neighbourhood                                 7383 non-null   object \n",
      " 28  neighbourhood_cleansed                        12578 non-null  object \n",
      " 29  neighbourhood_group_cleansed                  0 non-null      float64\n",
      " 30  latitude                                      12578 non-null  float64\n",
      " 31  longitude                                     12578 non-null  float64\n",
      " 32  property_type                                 12578 non-null  object \n",
      " 33  room_type                                     12578 non-null  object \n",
      " 34  accommodates                                  12578 non-null  int64  \n",
      " 35  bathrooms                                     0 non-null      float64\n",
      " 36  bathrooms_text                                12575 non-null  object \n",
      " 37  bedrooms                                      11 non-null     float64\n",
      " 38  beds                                          12468 non-null  float64\n",
      " 39  amenities                                     12578 non-null  object \n",
      " 40  price                                         11491 non-null  object \n",
      " 41  minimum_nights                                12578 non-null  int64  \n",
      " 42  maximum_nights                                12578 non-null  int64  \n",
      " 43  minimum_minimum_nights                        12578 non-null  int64  \n",
      " 44  maximum_minimum_nights                        12578 non-null  int64  \n",
      " 45  minimum_maximum_nights                        12578 non-null  int64  \n",
      " 46  maximum_maximum_nights                        12578 non-null  int64  \n",
      " 47  minimum_nights_avg_ntm                        12578 non-null  float64\n",
      " 48  maximum_nights_avg_ntm                        12578 non-null  float64\n",
      " 49  calendar_updated                              0 non-null      float64\n",
      " 50  has_availability                              11491 non-null  object \n",
      " 51  availability_30                               12578 non-null  int64  \n",
      " 52  availability_60                               12578 non-null  int64  \n",
      " 53  availability_90                               12578 non-null  int64  \n",
      " 54  availability_365                              12578 non-null  int64  \n",
      " 55  calendar_last_scraped                         12578 non-null  object \n",
      " 56  number_of_reviews                             12578 non-null  int64  \n",
      " 57  number_of_reviews_ltm                         12578 non-null  int64  \n",
      " 58  number_of_reviews_l30d                        12578 non-null  int64  \n",
      " 59  first_review                                  10943 non-null  object \n",
      " 60  last_review                                   10943 non-null  object \n",
      " 61  review_scores_rating                          10957 non-null  float64\n",
      " 62  review_scores_accuracy                        10955 non-null  float64\n",
      " 63  review_scores_cleanliness                     10954 non-null  float64\n",
      " 64  review_scores_checkin                         10954 non-null  float64\n",
      " 65  review_scores_communication                   10954 non-null  float64\n",
      " 66  review_scores_location                        10954 non-null  float64\n",
      " 67  review_scores_value                           10954 non-null  float64\n",
      " 68  license                                       2815 non-null   object \n",
      " 69  instant_bookable                              12578 non-null  object \n",
      " 70  calculated_host_listings_count                12578 non-null  int64  \n",
      " 71  calculated_host_listings_count_entire_homes   12578 non-null  int64  \n",
      " 72  calculated_host_listings_count_private_rooms  12578 non-null  int64  \n",
      " 73  calculated_host_listings_count_shared_rooms   12578 non-null  int64  \n",
      " 74  reviews_per_month                             10943 non-null  float64\n",
      "dtypes: float64(18), int64(23), object(34)\n",
      "memory usage: 7.2+ MB\n"
     ]
    }
   ],
   "source": [
    "# checking the columns, types and non-null counts\n",
    "data.info()"
   ]
  },
  {
   "cell_type": "markdown",
   "metadata": {},
   "source": [
    "- It is seen that some of the 75 columns have a high rate of missing values. In order to make more effective predictions, these values need to be cleaned or transformed."
   ]
  },
  {
   "cell_type": "code",
   "execution_count": 976,
   "metadata": {},
   "outputs": [
    {
     "name": "stdout",
     "output_type": "stream",
     "text": [
      "                          Column  NA Count  NA Percentage\n",
      "0                    description     12578     100.000000\n",
      "1          neighborhood_overview      5195      41.302274\n",
      "2                  host_location      2436      19.367149\n",
      "3                     host_about      5128      40.769598\n",
      "4             host_response_time      1882      14.962633\n",
      "5             host_response_rate      1882      14.962633\n",
      "6           host_acceptance_rate      1245       9.898235\n",
      "7              host_is_superhost        53       0.421371\n",
      "8             host_neighbourhood      5120      40.705995\n",
      "9                  neighbourhood      5195      41.302274\n",
      "10  neighbourhood_group_cleansed     12578     100.000000\n",
      "11                     bathrooms     12578     100.000000\n",
      "12                bathrooms_text         3       0.023851\n",
      "13                      bedrooms     12567      99.912546\n",
      "14                          beds       110       0.874543\n",
      "15                         price      1087       8.642073\n",
      "16              calendar_updated     12578     100.000000\n",
      "17              has_availability      1087       8.642073\n",
      "18                  first_review      1635      12.998887\n",
      "19                   last_review      1635      12.998887\n",
      "20          review_scores_rating      1621      12.887581\n",
      "21        review_scores_accuracy      1623      12.903482\n",
      "22     review_scores_cleanliness      1624      12.911433\n",
      "23         review_scores_checkin      1624      12.911433\n",
      "24   review_scores_communication      1624      12.911433\n",
      "25        review_scores_location      1624      12.911433\n",
      "26           review_scores_value      1624      12.911433\n",
      "27                       license      9763      77.619653\n",
      "28             reviews_per_month      1635      12.998887\n"
     ]
    }
   ],
   "source": [
    "# creating a function to find the percentange of null values for each column\n",
    "def null_percentage(df):\n",
    "    # finding the NA values in each column\n",
    "    null_counts = df.isna().sum()\n",
    "    \n",
    "    # excluding the columns with zero NA values\n",
    "    non_zero_na_columns = null_counts[null_counts > 0].index\n",
    "    null_counts = null_counts[non_zero_na_columns]\n",
    "\n",
    "    # calculating the percentage of NAs in each column\n",
    "    na_percentage = (null_counts / len(df)) * 100\n",
    "\n",
    "    # creating a DataFrame to display results\n",
    "    result_df = pd.DataFrame({\n",
    "        'Column': null_counts.index,\n",
    "        'NA Count': null_counts.values,\n",
    "        'NA Percentage': na_percentage.values\n",
    "    })\n",
    "\n",
    "    return result_df\n",
    "\n",
    "result = null_percentage(data)\n",
    "print(result)\n"
   ]
  },
  {
   "cell_type": "code",
   "execution_count": 977,
   "metadata": {},
   "outputs": [],
   "source": [
    "# calculating the percentage of missing values in each column\n",
    "missing_percentage = (data.isna().sum() / len(data)) * 100"
   ]
  },
  {
   "cell_type": "code",
   "execution_count": 978,
   "metadata": {},
   "outputs": [],
   "source": [
    "# identifying the columns with more than 70% missing values\n",
    "columns_to_drop = missing_percentage[missing_percentage > 70].index"
   ]
  },
  {
   "cell_type": "code",
   "execution_count": 979,
   "metadata": {},
   "outputs": [],
   "source": [
    "# dropping the columns with more than 70% missing values\n",
    "data = data.drop(columns=columns_to_drop)"
   ]
  },
  {
   "cell_type": "code",
   "execution_count": 980,
   "metadata": {},
   "outputs": [
    {
     "data": {
      "text/plain": [
       "(12578, 69)"
      ]
     },
     "execution_count": 980,
     "metadata": {},
     "output_type": "execute_result"
    }
   ],
   "source": [
    "# the number of columns decreased to 69\n",
    "data.shape"
   ]
  },
  {
   "cell_type": "code",
   "execution_count": 981,
   "metadata": {},
   "outputs": [],
   "source": [
    "# removing the rows with any NA values\n",
    "data = data.dropna()"
   ]
  },
  {
   "cell_type": "code",
   "execution_count": 982,
   "metadata": {},
   "outputs": [
    {
     "data": {
      "text/plain": [
       "(2683, 69)"
      ]
     },
     "execution_count": 982,
     "metadata": {},
     "output_type": "execute_result"
    }
   ],
   "source": [
    "data.shape"
   ]
  },
  {
   "cell_type": "code",
   "execution_count": 983,
   "metadata": {},
   "outputs": [
    {
     "data": {
      "text/plain": [
       "0"
      ]
     },
     "execution_count": 983,
     "metadata": {},
     "output_type": "execute_result"
    }
   ],
   "source": [
    "# we have 2.683 rows and 69 columns without any NAs\n",
    "data.isna().sum().sum()"
   ]
  },
  {
   "cell_type": "markdown",
   "metadata": {},
   "source": [
    "- It is clear that there are other techniques than dropping when evaluating rows with NA values, and care should be taken when making this choice. If NA values represent any pattern, it may not make sense to drop them, but since it is known that there is no such pattern in this data set, the drop method was chosen."
   ]
  },
  {
   "cell_type": "code",
   "execution_count": 984,
   "metadata": {},
   "outputs": [
    {
     "data": {
      "text/plain": [
       "array([ 4,  2,  1,  3,  5,  6, 10,  9,  7,  8, 11, 12, 14, 16, 15, 13])"
      ]
     },
     "execution_count": 984,
     "metadata": {},
     "output_type": "execute_result"
    }
   ],
   "source": [
    "# we need to filter data on number of accommodates that can accommodate on a listing\n",
    "data.accommodates.unique()"
   ]
  },
  {
   "cell_type": "code",
   "execution_count": 985,
   "metadata": {},
   "outputs": [],
   "source": [
    "# we need to focus on apartments that can host 2-6 guests\n",
    "data = data[(data['accommodates'] >= 2) & (data['accommodates'] <= 6)]"
   ]
  },
  {
   "cell_type": "code",
   "execution_count": 986,
   "metadata": {
    "tags": []
   },
   "outputs": [
    {
     "data": {
      "text/plain": [
       "(2428, 69)"
      ]
     },
     "execution_count": 986,
     "metadata": {},
     "output_type": "execute_result"
    }
   ],
   "source": [
    "# there are 2428 rows after filtering on number of 'accommodates'\n",
    "data.shape"
   ]
  },
  {
   "cell_type": "code",
   "execution_count": 987,
   "metadata": {},
   "outputs": [
    {
     "data": {
      "text/html": [
       "<div>\n",
       "<style scoped>\n",
       "    .dataframe tbody tr th:only-of-type {\n",
       "        vertical-align: middle;\n",
       "    }\n",
       "\n",
       "    .dataframe tbody tr th {\n",
       "        vertical-align: top;\n",
       "    }\n",
       "\n",
       "    .dataframe thead th {\n",
       "        text-align: right;\n",
       "    }\n",
       "</style>\n",
       "<table border=\"1\" class=\"dataframe\">\n",
       "  <thead>\n",
       "    <tr style=\"text-align: right;\">\n",
       "      <th></th>\n",
       "      <th>count</th>\n",
       "      <th>mean</th>\n",
       "      <th>std</th>\n",
       "      <th>min</th>\n",
       "      <th>25%</th>\n",
       "      <th>50%</th>\n",
       "      <th>75%</th>\n",
       "      <th>max</th>\n",
       "    </tr>\n",
       "  </thead>\n",
       "  <tbody>\n",
       "    <tr>\n",
       "      <th>id</th>\n",
       "      <td>2428.0</td>\n",
       "      <td>1.052271e+17</td>\n",
       "      <td>2.736894e+17</td>\n",
       "      <td>3.911500e+04</td>\n",
       "      <td>8.281333e+06</td>\n",
       "      <td>2.216014e+07</td>\n",
       "      <td>3.886268e+07</td>\n",
       "      <td>1.035389e+18</td>\n",
       "    </tr>\n",
       "    <tr>\n",
       "      <th>scrape_id</th>\n",
       "      <td>2428.0</td>\n",
       "      <td>2.023122e+13</td>\n",
       "      <td>0.000000e+00</td>\n",
       "      <td>2.023122e+13</td>\n",
       "      <td>2.023122e+13</td>\n",
       "      <td>2.023122e+13</td>\n",
       "      <td>2.023122e+13</td>\n",
       "      <td>2.023122e+13</td>\n",
       "    </tr>\n",
       "    <tr>\n",
       "      <th>host_id</th>\n",
       "      <td>2428.0</td>\n",
       "      <td>5.452045e+07</td>\n",
       "      <td>6.925702e+07</td>\n",
       "      <td>3.321000e+04</td>\n",
       "      <td>5.856565e+06</td>\n",
       "      <td>2.432163e+07</td>\n",
       "      <td>7.655638e+07</td>\n",
       "      <td>3.259138e+08</td>\n",
       "    </tr>\n",
       "    <tr>\n",
       "      <th>host_listings_count</th>\n",
       "      <td>2428.0</td>\n",
       "      <td>3.976936e+01</td>\n",
       "      <td>1.034751e+02</td>\n",
       "      <td>1.000000e+00</td>\n",
       "      <td>2.000000e+00</td>\n",
       "      <td>5.000000e+00</td>\n",
       "      <td>1.900000e+01</td>\n",
       "      <td>4.870000e+02</td>\n",
       "    </tr>\n",
       "    <tr>\n",
       "      <th>host_total_listings_count</th>\n",
       "      <td>2428.0</td>\n",
       "      <td>5.518616e+01</td>\n",
       "      <td>1.457494e+02</td>\n",
       "      <td>1.000000e+00</td>\n",
       "      <td>2.000000e+00</td>\n",
       "      <td>6.000000e+00</td>\n",
       "      <td>2.600000e+01</td>\n",
       "      <td>7.040000e+02</td>\n",
       "    </tr>\n",
       "    <tr>\n",
       "      <th>latitude</th>\n",
       "      <td>2428.0</td>\n",
       "      <td>4.377297e+01</td>\n",
       "      <td>8.552385e-03</td>\n",
       "      <td>4.372607e+01</td>\n",
       "      <td>4.376839e+01</td>\n",
       "      <td>4.377173e+01</td>\n",
       "      <td>4.377638e+01</td>\n",
       "      <td>4.382511e+01</td>\n",
       "    </tr>\n",
       "    <tr>\n",
       "      <th>longitude</th>\n",
       "      <td>2428.0</td>\n",
       "      <td>1.125429e+01</td>\n",
       "      <td>1.340070e-02</td>\n",
       "      <td>1.116007e+01</td>\n",
       "      <td>1.124683e+01</td>\n",
       "      <td>1.125438e+01</td>\n",
       "      <td>1.126039e+01</td>\n",
       "      <td>1.132559e+01</td>\n",
       "    </tr>\n",
       "    <tr>\n",
       "      <th>accommodates</th>\n",
       "      <td>2428.0</td>\n",
       "      <td>3.588138e+00</td>\n",
       "      <td>1.344638e+00</td>\n",
       "      <td>2.000000e+00</td>\n",
       "      <td>2.000000e+00</td>\n",
       "      <td>4.000000e+00</td>\n",
       "      <td>4.000000e+00</td>\n",
       "      <td>6.000000e+00</td>\n",
       "    </tr>\n",
       "    <tr>\n",
       "      <th>beds</th>\n",
       "      <td>2428.0</td>\n",
       "      <td>2.097611e+00</td>\n",
       "      <td>1.091199e+00</td>\n",
       "      <td>1.000000e+00</td>\n",
       "      <td>1.000000e+00</td>\n",
       "      <td>2.000000e+00</td>\n",
       "      <td>3.000000e+00</td>\n",
       "      <td>8.000000e+00</td>\n",
       "    </tr>\n",
       "    <tr>\n",
       "      <th>minimum_nights</th>\n",
       "      <td>2428.0</td>\n",
       "      <td>4.180395e+00</td>\n",
       "      <td>3.527156e+01</td>\n",
       "      <td>1.000000e+00</td>\n",
       "      <td>2.000000e+00</td>\n",
       "      <td>2.000000e+00</td>\n",
       "      <td>3.000000e+00</td>\n",
       "      <td>1.125000e+03</td>\n",
       "    </tr>\n",
       "    <tr>\n",
       "      <th>maximum_nights</th>\n",
       "      <td>2428.0</td>\n",
       "      <td>4.455243e+02</td>\n",
       "      <td>5.039758e+02</td>\n",
       "      <td>1.000000e+00</td>\n",
       "      <td>2.900000e+01</td>\n",
       "      <td>9.000000e+01</td>\n",
       "      <td>1.125000e+03</td>\n",
       "      <td>3.000000e+03</td>\n",
       "    </tr>\n",
       "    <tr>\n",
       "      <th>minimum_minimum_nights</th>\n",
       "      <td>2428.0</td>\n",
       "      <td>3.801483e+00</td>\n",
       "      <td>3.490453e+01</td>\n",
       "      <td>1.000000e+00</td>\n",
       "      <td>1.000000e+00</td>\n",
       "      <td>2.000000e+00</td>\n",
       "      <td>2.000000e+00</td>\n",
       "      <td>1.125000e+03</td>\n",
       "    </tr>\n",
       "    <tr>\n",
       "      <th>maximum_minimum_nights</th>\n",
       "      <td>2428.0</td>\n",
       "      <td>5.079489e+00</td>\n",
       "      <td>3.560632e+01</td>\n",
       "      <td>1.000000e+00</td>\n",
       "      <td>2.000000e+00</td>\n",
       "      <td>3.000000e+00</td>\n",
       "      <td>3.000000e+00</td>\n",
       "      <td>1.125000e+03</td>\n",
       "    </tr>\n",
       "    <tr>\n",
       "      <th>minimum_maximum_nights</th>\n",
       "      <td>2428.0</td>\n",
       "      <td>6.979403e+02</td>\n",
       "      <td>5.120941e+02</td>\n",
       "      <td>1.000000e+00</td>\n",
       "      <td>3.000000e+01</td>\n",
       "      <td>1.125000e+03</td>\n",
       "      <td>1.125000e+03</td>\n",
       "      <td>1.125000e+03</td>\n",
       "    </tr>\n",
       "    <tr>\n",
       "      <th>maximum_maximum_nights</th>\n",
       "      <td>2428.0</td>\n",
       "      <td>7.754848e+02</td>\n",
       "      <td>4.865722e+02</td>\n",
       "      <td>3.000000e+00</td>\n",
       "      <td>9.900000e+01</td>\n",
       "      <td>1.125000e+03</td>\n",
       "      <td>1.125000e+03</td>\n",
       "      <td>1.125000e+03</td>\n",
       "    </tr>\n",
       "    <tr>\n",
       "      <th>minimum_nights_avg_ntm</th>\n",
       "      <td>2428.0</td>\n",
       "      <td>4.509061e+00</td>\n",
       "      <td>3.539308e+01</td>\n",
       "      <td>1.000000e+00</td>\n",
       "      <td>2.000000e+00</td>\n",
       "      <td>2.000000e+00</td>\n",
       "      <td>3.000000e+00</td>\n",
       "      <td>1.125000e+03</td>\n",
       "    </tr>\n",
       "    <tr>\n",
       "      <th>maximum_nights_avg_ntm</th>\n",
       "      <td>2428.0</td>\n",
       "      <td>7.437336e+02</td>\n",
       "      <td>4.901132e+02</td>\n",
       "      <td>3.000000e+00</td>\n",
       "      <td>9.000000e+01</td>\n",
       "      <td>1.125000e+03</td>\n",
       "      <td>1.125000e+03</td>\n",
       "      <td>1.125000e+03</td>\n",
       "    </tr>\n",
       "    <tr>\n",
       "      <th>availability_30</th>\n",
       "      <td>2428.0</td>\n",
       "      <td>1.235626e+01</td>\n",
       "      <td>9.787458e+00</td>\n",
       "      <td>0.000000e+00</td>\n",
       "      <td>1.000000e+00</td>\n",
       "      <td>1.200000e+01</td>\n",
       "      <td>2.100000e+01</td>\n",
       "      <td>3.000000e+01</td>\n",
       "    </tr>\n",
       "    <tr>\n",
       "      <th>availability_60</th>\n",
       "      <td>2428.0</td>\n",
       "      <td>2.880560e+01</td>\n",
       "      <td>2.118026e+01</td>\n",
       "      <td>0.000000e+00</td>\n",
       "      <td>6.000000e+00</td>\n",
       "      <td>3.300000e+01</td>\n",
       "      <td>4.800000e+01</td>\n",
       "      <td>6.000000e+01</td>\n",
       "    </tr>\n",
       "    <tr>\n",
       "      <th>availability_90</th>\n",
       "      <td>2428.0</td>\n",
       "      <td>4.563344e+01</td>\n",
       "      <td>3.293004e+01</td>\n",
       "      <td>0.000000e+00</td>\n",
       "      <td>1.000000e+01</td>\n",
       "      <td>5.300000e+01</td>\n",
       "      <td>7.625000e+01</td>\n",
       "      <td>9.000000e+01</td>\n",
       "    </tr>\n",
       "    <tr>\n",
       "      <th>availability_365</th>\n",
       "      <td>2428.0</td>\n",
       "      <td>1.807677e+02</td>\n",
       "      <td>1.280749e+02</td>\n",
       "      <td>0.000000e+00</td>\n",
       "      <td>5.175000e+01</td>\n",
       "      <td>1.950000e+02</td>\n",
       "      <td>2.990000e+02</td>\n",
       "      <td>3.650000e+02</td>\n",
       "    </tr>\n",
       "    <tr>\n",
       "      <th>number_of_reviews</th>\n",
       "      <td>2428.0</td>\n",
       "      <td>1.263542e+02</td>\n",
       "      <td>1.401542e+02</td>\n",
       "      <td>1.000000e+00</td>\n",
       "      <td>2.200000e+01</td>\n",
       "      <td>7.450000e+01</td>\n",
       "      <td>1.850000e+02</td>\n",
       "      <td>8.900000e+02</td>\n",
       "    </tr>\n",
       "    <tr>\n",
       "      <th>number_of_reviews_ltm</th>\n",
       "      <td>2428.0</td>\n",
       "      <td>2.540198e+01</td>\n",
       "      <td>2.467624e+01</td>\n",
       "      <td>0.000000e+00</td>\n",
       "      <td>5.000000e+00</td>\n",
       "      <td>1.900000e+01</td>\n",
       "      <td>4.000000e+01</td>\n",
       "      <td>1.410000e+02</td>\n",
       "    </tr>\n",
       "    <tr>\n",
       "      <th>number_of_reviews_l30d</th>\n",
       "      <td>2428.0</td>\n",
       "      <td>9.876442e-01</td>\n",
       "      <td>1.607772e+00</td>\n",
       "      <td>0.000000e+00</td>\n",
       "      <td>0.000000e+00</td>\n",
       "      <td>0.000000e+00</td>\n",
       "      <td>1.000000e+00</td>\n",
       "      <td>1.800000e+01</td>\n",
       "    </tr>\n",
       "    <tr>\n",
       "      <th>review_scores_rating</th>\n",
       "      <td>2428.0</td>\n",
       "      <td>4.729778e+00</td>\n",
       "      <td>2.999591e-01</td>\n",
       "      <td>1.000000e+00</td>\n",
       "      <td>4.640000e+00</td>\n",
       "      <td>4.810000e+00</td>\n",
       "      <td>4.912500e+00</td>\n",
       "      <td>5.000000e+00</td>\n",
       "    </tr>\n",
       "    <tr>\n",
       "      <th>review_scores_accuracy</th>\n",
       "      <td>2428.0</td>\n",
       "      <td>4.795437e+00</td>\n",
       "      <td>2.675020e-01</td>\n",
       "      <td>1.000000e+00</td>\n",
       "      <td>4.750000e+00</td>\n",
       "      <td>4.870000e+00</td>\n",
       "      <td>4.940000e+00</td>\n",
       "      <td>5.000000e+00</td>\n",
       "    </tr>\n",
       "    <tr>\n",
       "      <th>review_scores_cleanliness</th>\n",
       "      <td>2428.0</td>\n",
       "      <td>4.773031e+00</td>\n",
       "      <td>2.904505e-01</td>\n",
       "      <td>1.000000e+00</td>\n",
       "      <td>4.707500e+00</td>\n",
       "      <td>4.860000e+00</td>\n",
       "      <td>4.950000e+00</td>\n",
       "      <td>5.000000e+00</td>\n",
       "    </tr>\n",
       "    <tr>\n",
       "      <th>review_scores_checkin</th>\n",
       "      <td>2428.0</td>\n",
       "      <td>4.833002e+00</td>\n",
       "      <td>2.356978e-01</td>\n",
       "      <td>1.000000e+00</td>\n",
       "      <td>4.780000e+00</td>\n",
       "      <td>4.910000e+00</td>\n",
       "      <td>4.970000e+00</td>\n",
       "      <td>5.000000e+00</td>\n",
       "    </tr>\n",
       "    <tr>\n",
       "      <th>review_scores_communication</th>\n",
       "      <td>2428.0</td>\n",
       "      <td>4.832916e+00</td>\n",
       "      <td>2.675426e-01</td>\n",
       "      <td>1.000000e+00</td>\n",
       "      <td>4.797500e+00</td>\n",
       "      <td>4.920000e+00</td>\n",
       "      <td>4.980000e+00</td>\n",
       "      <td>5.000000e+00</td>\n",
       "    </tr>\n",
       "    <tr>\n",
       "      <th>review_scores_location</th>\n",
       "      <td>2428.0</td>\n",
       "      <td>4.829572e+00</td>\n",
       "      <td>2.425226e-01</td>\n",
       "      <td>1.000000e+00</td>\n",
       "      <td>4.760000e+00</td>\n",
       "      <td>4.910000e+00</td>\n",
       "      <td>4.970000e+00</td>\n",
       "      <td>5.000000e+00</td>\n",
       "    </tr>\n",
       "    <tr>\n",
       "      <th>review_scores_value</th>\n",
       "      <td>2428.0</td>\n",
       "      <td>4.684580e+00</td>\n",
       "      <td>3.162071e-01</td>\n",
       "      <td>1.000000e+00</td>\n",
       "      <td>4.600000e+00</td>\n",
       "      <td>4.760000e+00</td>\n",
       "      <td>4.870000e+00</td>\n",
       "      <td>5.000000e+00</td>\n",
       "    </tr>\n",
       "    <tr>\n",
       "      <th>calculated_host_listings_count</th>\n",
       "      <td>2428.0</td>\n",
       "      <td>1.869110e+01</td>\n",
       "      <td>3.702579e+01</td>\n",
       "      <td>1.000000e+00</td>\n",
       "      <td>2.000000e+00</td>\n",
       "      <td>4.000000e+00</td>\n",
       "      <td>1.400000e+01</td>\n",
       "      <td>2.190000e+02</td>\n",
       "    </tr>\n",
       "    <tr>\n",
       "      <th>calculated_host_listings_count_entire_homes</th>\n",
       "      <td>2428.0</td>\n",
       "      <td>1.745511e+01</td>\n",
       "      <td>3.629291e+01</td>\n",
       "      <td>0.000000e+00</td>\n",
       "      <td>1.000000e+00</td>\n",
       "      <td>3.000000e+00</td>\n",
       "      <td>1.300000e+01</td>\n",
       "      <td>2.190000e+02</td>\n",
       "    </tr>\n",
       "    <tr>\n",
       "      <th>calculated_host_listings_count_private_rooms</th>\n",
       "      <td>2428.0</td>\n",
       "      <td>1.154448e+00</td>\n",
       "      <td>2.490119e+00</td>\n",
       "      <td>0.000000e+00</td>\n",
       "      <td>0.000000e+00</td>\n",
       "      <td>0.000000e+00</td>\n",
       "      <td>1.000000e+00</td>\n",
       "      <td>2.100000e+01</td>\n",
       "    </tr>\n",
       "    <tr>\n",
       "      <th>calculated_host_listings_count_shared_rooms</th>\n",
       "      <td>2428.0</td>\n",
       "      <td>3.294893e-03</td>\n",
       "      <td>5.731832e-02</td>\n",
       "      <td>0.000000e+00</td>\n",
       "      <td>0.000000e+00</td>\n",
       "      <td>0.000000e+00</td>\n",
       "      <td>0.000000e+00</td>\n",
       "      <td>1.000000e+00</td>\n",
       "    </tr>\n",
       "    <tr>\n",
       "      <th>reviews_per_month</th>\n",
       "      <td>2428.0</td>\n",
       "      <td>1.868303e+00</td>\n",
       "      <td>1.637040e+00</td>\n",
       "      <td>1.000000e-02</td>\n",
       "      <td>5.400000e-01</td>\n",
       "      <td>1.470000e+00</td>\n",
       "      <td>2.820000e+00</td>\n",
       "      <td>9.300000e+00</td>\n",
       "    </tr>\n",
       "  </tbody>\n",
       "</table>\n",
       "</div>"
      ],
      "text/plain": [
       "                                               count          mean  \\\n",
       "id                                            2428.0  1.052271e+17   \n",
       "scrape_id                                     2428.0  2.023122e+13   \n",
       "host_id                                       2428.0  5.452045e+07   \n",
       "host_listings_count                           2428.0  3.976936e+01   \n",
       "host_total_listings_count                     2428.0  5.518616e+01   \n",
       "latitude                                      2428.0  4.377297e+01   \n",
       "longitude                                     2428.0  1.125429e+01   \n",
       "accommodates                                  2428.0  3.588138e+00   \n",
       "beds                                          2428.0  2.097611e+00   \n",
       "minimum_nights                                2428.0  4.180395e+00   \n",
       "maximum_nights                                2428.0  4.455243e+02   \n",
       "minimum_minimum_nights                        2428.0  3.801483e+00   \n",
       "maximum_minimum_nights                        2428.0  5.079489e+00   \n",
       "minimum_maximum_nights                        2428.0  6.979403e+02   \n",
       "maximum_maximum_nights                        2428.0  7.754848e+02   \n",
       "minimum_nights_avg_ntm                        2428.0  4.509061e+00   \n",
       "maximum_nights_avg_ntm                        2428.0  7.437336e+02   \n",
       "availability_30                               2428.0  1.235626e+01   \n",
       "availability_60                               2428.0  2.880560e+01   \n",
       "availability_90                               2428.0  4.563344e+01   \n",
       "availability_365                              2428.0  1.807677e+02   \n",
       "number_of_reviews                             2428.0  1.263542e+02   \n",
       "number_of_reviews_ltm                         2428.0  2.540198e+01   \n",
       "number_of_reviews_l30d                        2428.0  9.876442e-01   \n",
       "review_scores_rating                          2428.0  4.729778e+00   \n",
       "review_scores_accuracy                        2428.0  4.795437e+00   \n",
       "review_scores_cleanliness                     2428.0  4.773031e+00   \n",
       "review_scores_checkin                         2428.0  4.833002e+00   \n",
       "review_scores_communication                   2428.0  4.832916e+00   \n",
       "review_scores_location                        2428.0  4.829572e+00   \n",
       "review_scores_value                           2428.0  4.684580e+00   \n",
       "calculated_host_listings_count                2428.0  1.869110e+01   \n",
       "calculated_host_listings_count_entire_homes   2428.0  1.745511e+01   \n",
       "calculated_host_listings_count_private_rooms  2428.0  1.154448e+00   \n",
       "calculated_host_listings_count_shared_rooms   2428.0  3.294893e-03   \n",
       "reviews_per_month                             2428.0  1.868303e+00   \n",
       "\n",
       "                                                       std           min  \\\n",
       "id                                            2.736894e+17  3.911500e+04   \n",
       "scrape_id                                     0.000000e+00  2.023122e+13   \n",
       "host_id                                       6.925702e+07  3.321000e+04   \n",
       "host_listings_count                           1.034751e+02  1.000000e+00   \n",
       "host_total_listings_count                     1.457494e+02  1.000000e+00   \n",
       "latitude                                      8.552385e-03  4.372607e+01   \n",
       "longitude                                     1.340070e-02  1.116007e+01   \n",
       "accommodates                                  1.344638e+00  2.000000e+00   \n",
       "beds                                          1.091199e+00  1.000000e+00   \n",
       "minimum_nights                                3.527156e+01  1.000000e+00   \n",
       "maximum_nights                                5.039758e+02  1.000000e+00   \n",
       "minimum_minimum_nights                        3.490453e+01  1.000000e+00   \n",
       "maximum_minimum_nights                        3.560632e+01  1.000000e+00   \n",
       "minimum_maximum_nights                        5.120941e+02  1.000000e+00   \n",
       "maximum_maximum_nights                        4.865722e+02  3.000000e+00   \n",
       "minimum_nights_avg_ntm                        3.539308e+01  1.000000e+00   \n",
       "maximum_nights_avg_ntm                        4.901132e+02  3.000000e+00   \n",
       "availability_30                               9.787458e+00  0.000000e+00   \n",
       "availability_60                               2.118026e+01  0.000000e+00   \n",
       "availability_90                               3.293004e+01  0.000000e+00   \n",
       "availability_365                              1.280749e+02  0.000000e+00   \n",
       "number_of_reviews                             1.401542e+02  1.000000e+00   \n",
       "number_of_reviews_ltm                         2.467624e+01  0.000000e+00   \n",
       "number_of_reviews_l30d                        1.607772e+00  0.000000e+00   \n",
       "review_scores_rating                          2.999591e-01  1.000000e+00   \n",
       "review_scores_accuracy                        2.675020e-01  1.000000e+00   \n",
       "review_scores_cleanliness                     2.904505e-01  1.000000e+00   \n",
       "review_scores_checkin                         2.356978e-01  1.000000e+00   \n",
       "review_scores_communication                   2.675426e-01  1.000000e+00   \n",
       "review_scores_location                        2.425226e-01  1.000000e+00   \n",
       "review_scores_value                           3.162071e-01  1.000000e+00   \n",
       "calculated_host_listings_count                3.702579e+01  1.000000e+00   \n",
       "calculated_host_listings_count_entire_homes   3.629291e+01  0.000000e+00   \n",
       "calculated_host_listings_count_private_rooms  2.490119e+00  0.000000e+00   \n",
       "calculated_host_listings_count_shared_rooms   5.731832e-02  0.000000e+00   \n",
       "reviews_per_month                             1.637040e+00  1.000000e-02   \n",
       "\n",
       "                                                       25%           50%  \\\n",
       "id                                            8.281333e+06  2.216014e+07   \n",
       "scrape_id                                     2.023122e+13  2.023122e+13   \n",
       "host_id                                       5.856565e+06  2.432163e+07   \n",
       "host_listings_count                           2.000000e+00  5.000000e+00   \n",
       "host_total_listings_count                     2.000000e+00  6.000000e+00   \n",
       "latitude                                      4.376839e+01  4.377173e+01   \n",
       "longitude                                     1.124683e+01  1.125438e+01   \n",
       "accommodates                                  2.000000e+00  4.000000e+00   \n",
       "beds                                          1.000000e+00  2.000000e+00   \n",
       "minimum_nights                                2.000000e+00  2.000000e+00   \n",
       "maximum_nights                                2.900000e+01  9.000000e+01   \n",
       "minimum_minimum_nights                        1.000000e+00  2.000000e+00   \n",
       "maximum_minimum_nights                        2.000000e+00  3.000000e+00   \n",
       "minimum_maximum_nights                        3.000000e+01  1.125000e+03   \n",
       "maximum_maximum_nights                        9.900000e+01  1.125000e+03   \n",
       "minimum_nights_avg_ntm                        2.000000e+00  2.000000e+00   \n",
       "maximum_nights_avg_ntm                        9.000000e+01  1.125000e+03   \n",
       "availability_30                               1.000000e+00  1.200000e+01   \n",
       "availability_60                               6.000000e+00  3.300000e+01   \n",
       "availability_90                               1.000000e+01  5.300000e+01   \n",
       "availability_365                              5.175000e+01  1.950000e+02   \n",
       "number_of_reviews                             2.200000e+01  7.450000e+01   \n",
       "number_of_reviews_ltm                         5.000000e+00  1.900000e+01   \n",
       "number_of_reviews_l30d                        0.000000e+00  0.000000e+00   \n",
       "review_scores_rating                          4.640000e+00  4.810000e+00   \n",
       "review_scores_accuracy                        4.750000e+00  4.870000e+00   \n",
       "review_scores_cleanliness                     4.707500e+00  4.860000e+00   \n",
       "review_scores_checkin                         4.780000e+00  4.910000e+00   \n",
       "review_scores_communication                   4.797500e+00  4.920000e+00   \n",
       "review_scores_location                        4.760000e+00  4.910000e+00   \n",
       "review_scores_value                           4.600000e+00  4.760000e+00   \n",
       "calculated_host_listings_count                2.000000e+00  4.000000e+00   \n",
       "calculated_host_listings_count_entire_homes   1.000000e+00  3.000000e+00   \n",
       "calculated_host_listings_count_private_rooms  0.000000e+00  0.000000e+00   \n",
       "calculated_host_listings_count_shared_rooms   0.000000e+00  0.000000e+00   \n",
       "reviews_per_month                             5.400000e-01  1.470000e+00   \n",
       "\n",
       "                                                       75%           max  \n",
       "id                                            3.886268e+07  1.035389e+18  \n",
       "scrape_id                                     2.023122e+13  2.023122e+13  \n",
       "host_id                                       7.655638e+07  3.259138e+08  \n",
       "host_listings_count                           1.900000e+01  4.870000e+02  \n",
       "host_total_listings_count                     2.600000e+01  7.040000e+02  \n",
       "latitude                                      4.377638e+01  4.382511e+01  \n",
       "longitude                                     1.126039e+01  1.132559e+01  \n",
       "accommodates                                  4.000000e+00  6.000000e+00  \n",
       "beds                                          3.000000e+00  8.000000e+00  \n",
       "minimum_nights                                3.000000e+00  1.125000e+03  \n",
       "maximum_nights                                1.125000e+03  3.000000e+03  \n",
       "minimum_minimum_nights                        2.000000e+00  1.125000e+03  \n",
       "maximum_minimum_nights                        3.000000e+00  1.125000e+03  \n",
       "minimum_maximum_nights                        1.125000e+03  1.125000e+03  \n",
       "maximum_maximum_nights                        1.125000e+03  1.125000e+03  \n",
       "minimum_nights_avg_ntm                        3.000000e+00  1.125000e+03  \n",
       "maximum_nights_avg_ntm                        1.125000e+03  1.125000e+03  \n",
       "availability_30                               2.100000e+01  3.000000e+01  \n",
       "availability_60                               4.800000e+01  6.000000e+01  \n",
       "availability_90                               7.625000e+01  9.000000e+01  \n",
       "availability_365                              2.990000e+02  3.650000e+02  \n",
       "number_of_reviews                             1.850000e+02  8.900000e+02  \n",
       "number_of_reviews_ltm                         4.000000e+01  1.410000e+02  \n",
       "number_of_reviews_l30d                        1.000000e+00  1.800000e+01  \n",
       "review_scores_rating                          4.912500e+00  5.000000e+00  \n",
       "review_scores_accuracy                        4.940000e+00  5.000000e+00  \n",
       "review_scores_cleanliness                     4.950000e+00  5.000000e+00  \n",
       "review_scores_checkin                         4.970000e+00  5.000000e+00  \n",
       "review_scores_communication                   4.980000e+00  5.000000e+00  \n",
       "review_scores_location                        4.970000e+00  5.000000e+00  \n",
       "review_scores_value                           4.870000e+00  5.000000e+00  \n",
       "calculated_host_listings_count                1.400000e+01  2.190000e+02  \n",
       "calculated_host_listings_count_entire_homes   1.300000e+01  2.190000e+02  \n",
       "calculated_host_listings_count_private_rooms  1.000000e+00  2.100000e+01  \n",
       "calculated_host_listings_count_shared_rooms   0.000000e+00  1.000000e+00  \n",
       "reviews_per_month                             2.820000e+00  9.300000e+00  "
      ]
     },
     "execution_count": 987,
     "metadata": {},
     "output_type": "execute_result"
    }
   ],
   "source": [
    "# showing the statistics for numeric variables in DataFrame\n",
    "data.describe().T"
   ]
  },
  {
   "cell_type": "code",
   "execution_count": 988,
   "metadata": {},
   "outputs": [
    {
     "data": {
      "text/plain": [
       "array(['$60.00', '$86.00', '$83.00', '$61.00', '$95.00', '$159.00',\n",
       "       '$82.00', '$65.00', '$90.00', '$66.00', '$120.00', '$106.00',\n",
       "       '$130.00', '$126.00', '$279.00', '$85.00', '$129.00', '$113.00',\n",
       "       '$114.00', '$124.00', '$161.00', '$81.00', '$257.00', '$137.00',\n",
       "       '$179.00', '$88.00', '$93.00', '$231.00', '$51.00', '$140.00',\n",
       "       '$176.00', '$184.00', '$154.00', '$214.00', '$63.00', '$213.00',\n",
       "       '$119.00', '$76.00', '$100.00', '$186.00', '$150.00', '$162.00',\n",
       "       '$146.00', '$180.00', '$69.00', '$181.00', '$50.00', '$110.00',\n",
       "       '$286.00', '$72.00', '$67.00', '$80.00', '$92.00', '$59.00',\n",
       "       '$75.00', '$78.00', '$128.00', '$200.00', '$109.00', '$99.00',\n",
       "       '$56.00', '$91.00', '$450.00', '$131.00', '$241.00', '$44.00',\n",
       "       '$141.00', '$350.00', '$225.00', '$122.00', '$152.00', '$73.00',\n",
       "       '$132.00', '$171.00', '$160.00', '$117.00', '$84.00', '$173.00',\n",
       "       '$372.00', '$54.00', '$55.00', '$116.00', '$134.00', '$139.00',\n",
       "       '$400.00', '$96.00', '$238.00', '$149.00', '$39.00', '$97.00',\n",
       "       '$38.00', '$421.00', '$167.00', '$47.00', '$148.00', '$151.00',\n",
       "       '$40.00', '$133.00', '$156.00', '$70.00', '$271.00', '$105.00',\n",
       "       '$143.00', '$28.00', '$310.00', '$174.00', '$42.00', '$32.00',\n",
       "       '$222.00', '$37.00', '$74.00', '$550.00', '$260.00', '$198.00',\n",
       "       '$205.00', '$45.00', '$111.00', '$138.00', '$182.00', '$57.00',\n",
       "       '$98.00', '$121.00', '$104.00', '$112.00', '$248.00', '$142.00',\n",
       "       '$87.00', '$357.00', '$250.00', '$101.00', '$118.00', '$107.00',\n",
       "       '$48.00', '$1,000.00', '$102.00', '$448.00', '$103.00', '$259.00',\n",
       "       '$224.00', '$127.00', '$290.00', '$199.00', '$169.00', '$334.00',\n",
       "       '$341.00', '$380.00', '$195.00', '$407.00', '$237.00', '$89.00',\n",
       "       '$58.00', '$239.00', '$43.00', '$68.00', '$125.00', '$177.00',\n",
       "       '$123.00', '$240.00', '$191.00', '$71.00', '$190.00', '$287.00',\n",
       "       '$425.00', '$136.00', '$36.00', '$153.00', '$196.00', '$53.00',\n",
       "       '$145.00', '$29.00', '$144.00', '$215.00', '$274.00', '$245.00',\n",
       "       '$170.00', '$201.00', '$164.00', '$62.00', '$165.00', '$49.00',\n",
       "       '$183.00', '$220.00', '$77.00', '$35.00', '$319.00', '$284.00',\n",
       "       '$280.00', '$108.00', '$301.00', '$500.00', '$79.00', '$163.00',\n",
       "       '$326.00', '$234.00', '$307.00', '$115.00', '$94.00', '$416.00',\n",
       "       '$277.00', '$209.00', '$188.00', '$204.00', '$41.00', '$168.00',\n",
       "       '$197.00', '$547.00', '$178.00', '$192.00', '$219.00', '$172.00',\n",
       "       '$25.00', '$268.00', '$193.00', '$338.00', '$351.00', '$230.00',\n",
       "       '$135.00', '$252.00', '$255.00', '$52.00', '$155.00', '$356.00',\n",
       "       '$266.00', '$294.00', '$175.00', '$246.00', '$346.00', '$236.00',\n",
       "       '$507.00', '$64.00', '$285.00', '$327.00', '$282.00', '$337.00',\n",
       "       '$361.00', '$300.00', '$263.00', '$157.00', '$229.00', '$480.00',\n",
       "       '$390.00', '$313.00', '$265.00', '$147.00', '$331.00', '$256.00',\n",
       "       '$206.00', '$46.00', '$329.00', '$302.00', '$311.00', '$900.00',\n",
       "       '$316.00', '$221.00', '$1,643.00', '$189.00', '$244.00', '$314.00',\n",
       "       '$24.00', '$223.00', '$166.00', '$235.00', '$325.00', '$3,000.00',\n",
       "       '$850.00', '$17.00', '$304.00', '$471.00', '$276.00', '$333.00',\n",
       "       '$376.00', '$299.00', '$185.00', '$373.00', '$296.00', '$369.00',\n",
       "       '$30.00', '$305.00', '$343.00', '$194.00', '$2,400.00', '$308.00',\n",
       "       '$611.00', '$434.00', '$293.00', '$253.00', '$371.00', '$414.00',\n",
       "       '$264.00', '$226.00', '$330.00', '$525.00', '$251.00', '$403.00',\n",
       "       '$363.00', '$297.00', '$366.00', '$227.00', '$485.00', '$352.00',\n",
       "       '$233.00', '$767.00', '$243.00', '$158.00', '$291.00', '$232.00',\n",
       "       '$275.00', '$705.00', '$212.00', '$629.00', '$600.00', '$522.00',\n",
       "       '$309.00', '$358.00', '$570.00', '$320.00', '$33.00', '$348.00',\n",
       "       '$289.00', '$218.00', '$398.00', '$447.00', '$8,023.00', '$217.00',\n",
       "       '$436.00', '$950.00', '$315.00', '$306.00', '$283.00', '$273.00',\n",
       "       '$272.00', '$258.00', '$321.00', '$516.00', '$254.00', '$247.00',\n",
       "       '$339.00', '$360.00', '$187.00', '$1,095.00', '$438.00', '$541.00',\n",
       "       '$385.00', '$270.00', '$269.00', '$384.00', '$249.00', '$406.00',\n",
       "       '$432.00', '$345.00', '$1,786.00', '$971.00', '$535.00', '$422.00',\n",
       "       '$298.00', '$354.00', '$322.00', '$216.00', '$317.00', '$408.00',\n",
       "       '$278.00', '$202.00', '$426.00', '$242.00', '$618.00'],\n",
       "      dtype=object)"
      ]
     },
     "execution_count": 988,
     "metadata": {},
     "output_type": "execute_result"
    }
   ],
   "source": [
    "# checking the price column\n",
    "data.price.unique()"
   ]
  },
  {
   "cell_type": "code",
   "execution_count": 989,
   "metadata": {
    "tags": []
   },
   "outputs": [
    {
     "data": {
      "text/plain": [
       "count    2,428.0\n",
       "mean       149.9\n",
       "std        219.8\n",
       "min         17.0\n",
       "1%          38.0\n",
       "10%         60.0\n",
       "25%         81.0\n",
       "50%        111.0\n",
       "75%        163.0\n",
       "90%        258.0\n",
       "99%        616.1\n",
       "max      8,023.0\n",
       "Name: price, dtype: object"
      ]
     },
     "execution_count": 989,
     "metadata": {},
     "output_type": "execute_result"
    }
   ],
   "source": [
    "# price column is the our target column to predict but it is not numeric and includes $ sign and commas\n",
    "# removing dollar sign and commas, then converting to float\n",
    "data['price'] = data['price'].replace('[\\$,]', '', regex=True).astype(float)\n",
    "data.price.describe(percentiles = [0.01, 0.1, 0.25, 0.5, 0.75, 0.9, 0.99]).map('{:,.1f}'.format)"
   ]
  },
  {
   "cell_type": "markdown",
   "metadata": {},
   "source": [
    "- It can be seen that the minimum (17) and maximum (8,023) price range is quite wide. Additionally, the mean is 149 while the median is 111."
   ]
  },
  {
   "cell_type": "code",
   "execution_count": 990,
   "metadata": {},
   "outputs": [],
   "source": [
    "# changing the datatype of the rate columns from object to float and removing '%' sign\n",
    "data['host_response_rate'] = data['host_response_rate'].str.rstrip('%').astype(float)\n",
    "data['host_acceptance_rate'] = data['host_acceptance_rate'].str.rstrip('%').astype(float)"
   ]
  },
  {
   "cell_type": "code",
   "execution_count": 991,
   "metadata": {
    "tags": []
   },
   "outputs": [
    {
     "data": {
      "text/plain": [
       "number_of_reviews\n",
       "1      64\n",
       "2      50\n",
       "3      38\n",
       "4      32\n",
       "5      41\n",
       "       ..\n",
       "776     1\n",
       "788     1\n",
       "818     1\n",
       "841     1\n",
       "890     1\n",
       "Name: count, Length: 469, dtype: int64"
      ]
     },
     "execution_count": 991,
     "metadata": {},
     "output_type": "execute_result"
    }
   ],
   "source": [
    "# checking the value counts of 'number of reviews' column\n",
    "data.number_of_reviews.value_counts().sort_index()"
   ]
  },
  {
   "cell_type": "markdown",
   "metadata": {},
   "source": [
    "### Categorical Variables"
   ]
  },
  {
   "cell_type": "code",
   "execution_count": 992,
   "metadata": {},
   "outputs": [
    {
     "data": {
      "text/plain": [
       "array(['[]'], dtype=object)"
      ]
     },
     "execution_count": 992,
     "metadata": {},
     "output_type": "execute_result"
    }
   ],
   "source": [
    "# 'amenities' has empty list so we will not be able to use this column\n",
    "data.amenities.unique()"
   ]
  },
  {
   "cell_type": "code",
   "execution_count": 993,
   "metadata": {
    "tags": []
   },
   "outputs": [
    {
     "data": {
      "text/plain": [
       "room_type\n",
       "Entire home/apt    2110\n",
       "Private room        285\n",
       "Hotel room           33\n",
       "Name: count, dtype: int64"
      ]
     },
     "execution_count": 993,
     "metadata": {},
     "output_type": "execute_result"
    }
   ],
   "source": [
    "# checking the value counts of 'room_type' column\n",
    "data.room_type.value_counts()"
   ]
  },
  {
   "cell_type": "code",
   "execution_count": 994,
   "metadata": {},
   "outputs": [],
   "source": [
    "# since we need to focus on 'apartments', the rows where `room_type` column has 'Hotel room' were dropped\n",
    "data = data[data['room_type'] != 'Hotel room']"
   ]
  },
  {
   "cell_type": "code",
   "execution_count": 995,
   "metadata": {
    "tags": []
   },
   "outputs": [
    {
     "data": {
      "text/plain": [
       "property_type\n",
       "Entire rental unit                    1430\n",
       "Entire condo                           438\n",
       "Private room in rental unit            143\n",
       "Entire loft                            119\n",
       "Entire home                             54\n",
       "Private room in bed and breakfast       35\n",
       "Private room in condo                   34\n",
       "Entire vacation home                    24\n",
       "Entire serviced apartment               22\n",
       "Private room in home                    22\n",
       "Entire townhouse                         9\n",
       "Private room                             8\n",
       "Private room in serviced apartment       7\n",
       "Entire villa                             6\n",
       "Room in boutique hotel                   6\n",
       "Private room in loft                     5\n",
       "Tiny home                                5\n",
       "Private room in villa                    5\n",
       "Private room in guesthouse               4\n",
       "Private room in townhouse                4\n",
       "Room in aparthotel                       4\n",
       "Private room in casa particular          4\n",
       "Entire cottage                           3\n",
       "Private room in vacation home            3\n",
       "Private room in guest suite              1\n",
       "Name: count, dtype: int64"
      ]
     },
     "execution_count": 995,
     "metadata": {},
     "output_type": "execute_result"
    }
   ],
   "source": [
    "# checking the value counts of 'property_type' column\n",
    "data.property_type.value_counts()"
   ]
  },
  {
   "cell_type": "code",
   "execution_count": 996,
   "metadata": {},
   "outputs": [],
   "source": [
    "# removing the rows where `property_type` column contains words 'hotel' or 'hostel'.\n",
    "data = data[~data['property_type'].str.contains('hotel|hostel', case=False)]"
   ]
  },
  {
   "cell_type": "markdown",
   "metadata": {},
   "source": [
    "- Since there are too many property types and most of them have only few observations,it makes sense to drop property types that have less 10 observations"
   ]
  },
  {
   "cell_type": "code",
   "execution_count": 997,
   "metadata": {},
   "outputs": [],
   "source": [
    "# counting the occurrences of each property type\n",
    "property_counts = data['property_type'].value_counts()\n",
    "\n",
    "# filtering out property types with less than 10 occurrences\n",
    "property_types_to_keep = property_counts[property_counts >= 10].index\n",
    "\n",
    "# filtering the DataFrame to keep only rows with property types that have at least 10 occurrences\n",
    "data = data[data['property_type'].isin(property_types_to_keep)]"
   ]
  },
  {
   "cell_type": "code",
   "execution_count": 998,
   "metadata": {
    "tags": []
   },
   "outputs": [
    {
     "data": {
      "text/plain": [
       "neighbourhood_cleansed\n",
       "Centro Storico       1906\n",
       "Campo di Marte        172\n",
       "Rifredi               118\n",
       "Isolotto Legnaia       63\n",
       "Gavinana Galluzzo      62\n",
       "Name: count, dtype: int64"
      ]
     },
     "execution_count": 998,
     "metadata": {},
     "output_type": "execute_result"
    }
   ],
   "source": [
    "# checking the unique districts in Florence\n",
    "data.neighbourhood_cleansed.value_counts()"
   ]
  },
  {
   "cell_type": "markdown",
   "metadata": {},
   "source": [
    "- Since 'bathrooms' column is empty we need to focus on 'bathrooms_text' column because of the fact that its a potential explanatory variable"
   ]
  },
  {
   "cell_type": "code",
   "execution_count": 999,
   "metadata": {},
   "outputs": [
    {
     "data": {
      "text/plain": [
       "array(['1 bath', '0 baths', '1 private bath', '2 baths', '1.5 baths',\n",
       "       '3 baths', '2 shared baths', '3.5 baths', '1 shared bath',\n",
       "       '2.5 baths', '4 baths', '1.5 shared baths', '3 shared baths',\n",
       "       '4.5 baths'], dtype=object)"
      ]
     },
     "execution_count": 999,
     "metadata": {},
     "output_type": "execute_result"
    }
   ],
   "source": [
    "data.bathrooms_text.unique()"
   ]
  },
  {
   "cell_type": "code",
   "execution_count": 1000,
   "metadata": {},
   "outputs": [],
   "source": [
    "# converting the string values to numeric values by using a mapping dictionary\n",
    "mapping = {\n",
    "    '1 bath' :1,\n",
    "    '0 baths' :0,\n",
    "    '1 private bath':1,\n",
    "    '2 baths':2,\n",
    "    '1.5 baths':1.5,\n",
    "    '3 baths':3,\n",
    "    '2 shared baths':2,\n",
    "    '3.5 baths':3.5,\n",
    "    '1 shared bath':1,\n",
    "    '2.5 baths':2.5, \n",
    "    '4 baths':4,\n",
    "    '1.5 shared baths':2.5, \n",
    "    '3 shared baths':3,\n",
    "    '4.5 baths':4.5\n",
    "    \n",
    "}\n",
    "    \n",
    "\n",
    "\n",
    "# mapping the new values to a new column 'n_bathrooms'\n",
    "data['n_bathrooms'] = data['bathrooms_text'].map(mapping)"
   ]
  },
  {
   "cell_type": "code",
   "execution_count": 1001,
   "metadata": {},
   "outputs": [
    {
     "data": {
      "text/plain": [
       "array(['f', 't', 'f', ..., 't', 't', 't'], dtype=object)"
      ]
     },
     "execution_count": 1001,
     "metadata": {},
     "output_type": "execute_result"
    }
   ],
   "source": [
    "# checking the datatypes of 'host_is_superhost' column (f and t)\n",
    "data.host_is_superhost.values"
   ]
  },
  {
   "cell_type": "code",
   "execution_count": 1002,
   "metadata": {},
   "outputs": [
    {
     "data": {
      "text/plain": [
       "array([0, 1])"
      ]
     },
     "execution_count": 1002,
     "metadata": {},
     "output_type": "execute_result"
    }
   ],
   "source": [
    "# converting the 'host_is_superhost' to a dummy variable \n",
    "data['host_is_superhost'] = data['host_is_superhost'].replace({'t': 1, 'f': 0})\n",
    "data.host_is_superhost.unique()"
   ]
  },
  {
   "cell_type": "markdown",
   "metadata": {},
   "source": [
    "### Checking the Extreme Values"
   ]
  },
  {
   "cell_type": "code",
   "execution_count": 1003,
   "metadata": {},
   "outputs": [
    {
     "data": {
      "image/png": "[encoded data removed]",
      "text/plain": [
       "<Figure size 1000x600 with 1 Axes>"
      ]
     },
     "metadata": {},
     "output_type": "display_data"
    }
   ],
   "source": [
    "import matplotlib.pyplot as plt\n",
    "import seaborn as sns\n",
    "\n",
    "# showing the distribution of 'price' column\n",
    "plt.figure(figsize=(10, 6))\n",
    "sns.histplot(data['price'], kde=True, color='purple', bins=30)\n",
    "plt.title('Distribution of Price')\n",
    "plt.xlabel('Price')\n",
    "plt.ylabel('Frequency')\n",
    "plt.show()\n"
   ]
  },
  {
   "cell_type": "code",
   "execution_count": 1004,
   "metadata": {},
   "outputs": [
    {
     "data": {
      "image/png": "[encoded data removed]",
      "text/plain": [
       "<Figure size 1000x600 with 1 Axes>"
      ]
     },
     "metadata": {},
     "output_type": "display_data"
    }
   ],
   "source": [
    "# defining threshold for outliers \n",
    "x = data['price'].quantile(0.99)\n",
    "\n",
    "# Remove outliers\n",
    "data = data[data['price'] <= x]\n",
    "\n",
    "\n",
    "# showing the distribution of 'price' column after removing outliers\n",
    "plt.figure(figsize=(10, 6))\n",
    "sns.histplot(data['price'], kde=True, color='red', bins=30)\n",
    "plt.title('Distribution of Price (After Removing Outliers)')\n",
    "plt.xlabel('Price')\n",
    "plt.ylabel('Frequency')\n",
    "plt.show()\n"
   ]
  },
  {
   "cell_type": "markdown",
   "metadata": {},
   "source": [
    "- As can be seen from the graph above, even though we dropped the extreme values, the right skewed tail came out. Hence, it might makes sense to use ln(price) to get a plot which is closer to normal distribution"
   ]
  },
  {
   "cell_type": "code",
   "execution_count": 1005,
   "metadata": {},
   "outputs": [
    {
     "data": {
      "image/png": "[encoded data removed]",
      "text/plain": [
       "<Figure size 1000x600 with 1 Axes>"
      ]
     },
     "metadata": {},
     "output_type": "display_data"
    }
   ],
   "source": [
    "# Add a new column of ln(price)\n",
    "data['ln_price'] = np.log(data['price'])\n",
    "\n",
    "# Visualize distribution of ln(price) column\n",
    "plt.figure(figsize=(10, 6))\n",
    "sns.histplot(data['ln_price'], kde=True, color='blue', bins=30)\n",
    "plt.title('Distribution of ln(price)')\n",
    "plt.xlabel('ln(Price)')\n",
    "plt.ylabel('Frequency')\n",
    "plt.show()"
   ]
  },
  {
   "cell_type": "markdown",
   "metadata": {},
   "source": [
    "### Feature Engineering"
   ]
  },
  {
   "cell_type": "markdown",
   "metadata": {},
   "source": [
    "From this point on, we need to determine which variables and interactions will be used in our models. After this step, we need to divide the data set into two separate parts as train and test (hold_out), train the model with the train data set and test the model with the test data set. The result we obtain with the test data set is the performance result of the model. These steps constitute feature engineering."
   ]
  },
  {
   "cell_type": "code",
   "execution_count": 1006,
   "metadata": {},
   "outputs": [],
   "source": [
    "# renaming the columns to have a better understanding and defining a mapping dictionary for renaming\n",
    "mapping = {'host_response_time': 'f_host_response_time', \n",
    "           'host_response_rate': 'n_host_response_rate',\n",
    "           'host_acceptance_rate': 'n_host_acceptance_rate', \n",
    "           'host_is_superhost': 'd_host_is_superhost',\n",
    "           'neighbourhood_cleansed': 'f_neighbourhood_cleansed', \n",
    "           'property_type': 'f_property_type',\n",
    "           'room_type': 'f_room_type', \n",
    "           'accommodates': 'n_accommodates', \n",
    "           'beds': 'n_beds', \n",
    "           'maximum_nights': 'n_maximum_nights', \n",
    "           'availability_90': 'n_availability_90',\n",
    "           'number_of_reviews': 'n_number_of_reviews', \n",
    "           'review_scores_rating': 'n_review_scores_rating'}\n",
    "\n",
    "# renaming the columns using the mapping dictionary\n",
    "data_final = data.rename(columns=mapping)"
   ]
  },
  {
   "cell_type": "code",
   "execution_count": 1007,
   "metadata": {
    "tags": []
   },
   "outputs": [],
   "source": [
    "# splitting the data into two sets (train and test)\n",
    "data_train, data_holdout = train_test_split(data_final, train_size=0.8, random_state=42)"
   ]
  },
  {
   "cell_type": "code",
   "execution_count": 1008,
   "metadata": {
    "tags": []
   },
   "outputs": [
    {
     "data": {
      "text/plain": [
       "((1837, 71), (460, 71))"
      ]
     },
     "execution_count": 1008,
     "metadata": {},
     "output_type": "execute_result"
    }
   ],
   "source": [
    "data_train.shape, data_holdout.shape"
   ]
  },
  {
   "cell_type": "code",
   "execution_count": 1009,
   "metadata": {},
   "outputs": [
    {
     "data": {
      "text/plain": [
       "Index(['id', 'listing_url', 'scrape_id', 'last_scraped', 'source', 'name',\n",
       "       'neighborhood_overview', 'picture_url', 'host_id', 'host_url',\n",
       "       'host_name', 'host_since', 'host_location', 'host_about',\n",
       "       'f_host_response_time', 'n_host_response_rate',\n",
       "       'n_host_acceptance_rate', 'd_host_is_superhost', 'host_thumbnail_url',\n",
       "       'host_picture_url', 'host_neighbourhood', 'host_listings_count',\n",
       "       'host_total_listings_count', 'host_verifications',\n",
       "       'host_has_profile_pic', 'host_identity_verified', 'neighbourhood',\n",
       "       'f_neighbourhood_cleansed', 'latitude', 'longitude', 'f_property_type',\n",
       "       'f_room_type', 'n_accommodates', 'bathrooms_text', 'n_beds',\n",
       "       'amenities', 'price', 'minimum_nights', 'n_maximum_nights',\n",
       "       'minimum_minimum_nights', 'maximum_minimum_nights',\n",
       "       'minimum_maximum_nights', 'maximum_maximum_nights',\n",
       "       'minimum_nights_avg_ntm', 'maximum_nights_avg_ntm', 'has_availability',\n",
       "       'availability_30', 'availability_60', 'n_availability_90',\n",
       "       'availability_365', 'calendar_last_scraped', 'n_number_of_reviews',\n",
       "       'number_of_reviews_ltm', 'number_of_reviews_l30d', 'first_review',\n",
       "       'last_review', 'n_review_scores_rating', 'review_scores_accuracy',\n",
       "       'review_scores_cleanliness', 'review_scores_checkin',\n",
       "       'review_scores_communication', 'review_scores_location',\n",
       "       'review_scores_value', 'instant_bookable',\n",
       "       'calculated_host_listings_count',\n",
       "       'calculated_host_listings_count_entire_homes',\n",
       "       'calculated_host_listings_count_private_rooms',\n",
       "       'calculated_host_listings_count_shared_rooms', 'reviews_per_month',\n",
       "       'n_bathrooms', 'ln_price'],\n",
       "      dtype='object')"
      ]
     },
     "execution_count": 1009,
     "metadata": {},
     "output_type": "execute_result"
    }
   ],
   "source": [
    "# renaming the columns in data to be used in our analysis by adding f_, n_ and d_ prefixes\n",
    "data_final.columns"
   ]
  },
  {
   "cell_type": "code",
   "execution_count": 1010,
   "metadata": {},
   "outputs": [],
   "source": [
    "# these variables were selected to compare in our ML models\n",
    "basic_vars = [\n",
    "    \"n_accommodates\",\n",
    "    \"n_beds\",\n",
    "    \"f_property_type\",\n",
    "    \"f_room_type\",\n",
    "    \"n_bathrooms\",\n",
    "    \"f_neighbourhood_cleansed\",\n",
    "    \"n_availability_90\", # column gives the number of days a listing is available out of 90 days\n",
    "    \"n_maximum_nights\", # ömaz number of nights to book the place\n",
    "    \"f_host_response_time\",\n",
    "    \"n_host_response_rate\",\n",
    "    \"n_host_acceptance_rate\",\n",
    "]\n",
    "\n",
    "# reviews\n",
    "reviews = [\n",
    "    \"n_number_of_reviews\",\n",
    "    \"n_review_scores_rating\",\n",
    "]\n",
    "\n",
    "# dummy variables\n",
    "super_host = [\"d_host_is_superhost\"]\n",
    "\n",
    "# interactions for the LASSO\n",
    "X1 = [\n",
    "    \"n_accommodates:f_property_type\",\n",
    "    \"f_room_type:f_property_type\",\n",
    "]\n",
    "# with boroughs\n",
    "X2 = [\n",
    "    \"f_property_type:f_neighbourhood_cleansed\",\n",
    "    \"f_room_type:f_neighbourhood_cleansed\",\n",
    "    \"n_accommodates:f_neighbourhood_cleansed\",\n",
    "]"
   ]
  },
  {
   "cell_type": "code",
   "execution_count": 1011,
   "metadata": {},
   "outputs": [],
   "source": [
    "predictors_1 = basic_vars\n",
    "predictors_2 = basic_vars + reviews + super_host\n",
    "predictors_E = basic_vars + reviews + X1 + X2"
   ]
  },
  {
   "cell_type": "markdown",
   "metadata": {},
   "source": [
    "### Modelling"
   ]
  },
  {
   "cell_type": "markdown",
   "metadata": {
    "tags": []
   },
   "source": [
    "##### Model1: Random Forest"
   ]
  },
  {
   "cell_type": "markdown",
   "metadata": {},
   "source": [
    "A random forest is a meta estimator that fits a number of classifying decision trees on various sub-samples of the dataset and uses averaging to improve the predictive accuracy and control over-fitting. "
   ]
  },
  {
   "cell_type": "code",
   "execution_count": 1012,
   "metadata": {},
   "outputs": [],
   "source": [
    "# creating y-vector (dependant variable) and X-matrice (explanatory variables)\n",
    "y, X = dmatrices(\"ln_price ~ \" + \" + \".join(predictors_2), data_train) # we created this to compare OLS with log(price)\n",
    "y2, X22 = dmatrices(\"price ~ \" + \" + \".join(predictors_2), data_train) "
   ]
  },
  {
   "cell_type": "code",
   "execution_count": 1013,
   "metadata": {
    "tags": []
   },
   "outputs": [
    {
     "data": {
      "text/plain": [
       "DesignMatrix with shape (1837, 28)\n",
       "  Columns:\n",
       "    ['Intercept',\n",
       "     'f_property_type[T.Entire home]',\n",
       "     'f_property_type[T.Entire loft]',\n",
       "     'f_property_type[T.Entire rental unit]',\n",
       "     'f_property_type[T.Entire serviced apartment]',\n",
       "     'f_property_type[T.Entire vacation home]',\n",
       "     'f_property_type[T.Private room in bed and breakfast]',\n",
       "     'f_property_type[T.Private room in condo]',\n",
       "     'f_property_type[T.Private room in home]',\n",
       "     'f_property_type[T.Private room in rental unit]',\n",
       "     'f_room_type[T.Private room]',\n",
       "     'f_neighbourhood_cleansed[T.Centro Storico]',\n",
       "     'f_neighbourhood_cleansed[T.Gavinana Galluzzo]',\n",
       "     'f_neighbourhood_cleansed[T.Isolotto Legnaia]',\n",
       "     'f_neighbourhood_cleansed[T.Rifredi]',\n",
       "     'f_host_response_time[T.within a day]',\n",
       "     'f_host_response_time[T.within a few hours]',\n",
       "     'f_host_response_time[T.within an hour]',\n",
       "     'n_accommodates',\n",
       "     'n_beds',\n",
       "     'n_bathrooms',\n",
       "     'n_availability_90',\n",
       "     'n_maximum_nights',\n",
       "     'n_host_response_rate',\n",
       "     'n_host_acceptance_rate',\n",
       "     'n_number_of_reviews',\n",
       "     'n_review_scores_rating',\n",
       "     'd_host_is_superhost']\n",
       "  Terms:\n",
       "    'Intercept' (column 0)\n",
       "    'f_property_type' (columns 1:10)\n",
       "    'f_room_type' (column 10)\n",
       "    'f_neighbourhood_cleansed' (columns 11:15)\n",
       "    'f_host_response_time' (columns 15:18)\n",
       "    'n_accommodates' (column 18)\n",
       "    'n_beds' (column 19)\n",
       "    'n_bathrooms' (column 20)\n",
       "    'n_availability_90' (column 21)\n",
       "    'n_maximum_nights' (column 22)\n",
       "    'n_host_response_rate' (column 23)\n",
       "    'n_host_acceptance_rate' (column 24)\n",
       "    'n_number_of_reviews' (column 25)\n",
       "    'n_review_scores_rating' (column 26)\n",
       "    'd_host_is_superhost' (column 27)\n",
       "  (to view full data, use np.asarray(this_obj))"
      ]
     },
     "execution_count": 1013,
     "metadata": {},
     "output_type": "execute_result"
    }
   ],
   "source": [
    "# X matrice is created in a way that every category in categorical variable is taken as a seperate column\n",
    "X"
   ]
  },
  {
   "cell_type": "code",
   "execution_count": 1014,
   "metadata": {
    "tags": []
   },
   "outputs": [
    {
     "data": {
      "text/plain": [
       "(1837, 1)"
      ]
     },
     "execution_count": 1014,
     "metadata": {},
     "output_type": "execute_result"
    }
   ],
   "source": [
    "# a two-dimensional object\n",
    "y.shape"
   ]
  },
  {
   "cell_type": "code",
   "execution_count": 1015,
   "metadata": {
    "tags": []
   },
   "outputs": [
    {
     "data": {
      "text/plain": [
       "(1837,)"
      ]
     },
     "execution_count": 1015,
     "metadata": {},
     "output_type": "execute_result"
    }
   ],
   "source": [
    "# using ravel() we flatten it to a one-dimensional data object. \n",
    "y.ravel().shape"
   ]
  },
  {
   "cell_type": "code",
   "execution_count": 1016,
   "metadata": {},
   "outputs": [],
   "source": [
    "# creating the Random Forest Regressor of sklearn package\n",
    "rfr = RandomForestRegressor(random_state = 42)"
   ]
  },
  {
   "cell_type": "code",
   "execution_count": 1017,
   "metadata": {},
   "outputs": [],
   "source": [
    "tune_grid = {\"max_features\": [6, 8, 10, 12], \"min_samples_leaf\": [5, 10, 15]}"
   ]
  },
  {
   "cell_type": "code",
   "execution_count": 1018,
   "metadata": {},
   "outputs": [],
   "source": [
    "# creating regressors for level prices and one for log prices\n",
    "# finding the best values for hyperparameters of a model\n",
    "\n",
    "rf_random = GridSearchCV(\n",
    "    rfr,\n",
    "    tune_grid,\n",
    "    cv=5,\n",
    "    scoring=\"neg_root_mean_squared_error\",\n",
    "    verbose=3,\n",
    ")\n",
    "\n",
    "\n",
    "rf_random2 = GridSearchCV(\n",
    "    rfr,\n",
    "    tune_grid,\n",
    "    cv=5,\n",
    "    scoring=\"neg_root_mean_squared_error\",\n",
    "    verbose=3,\n",
    ")"
   ]
  },
  {
   "cell_type": "markdown",
   "metadata": {},
   "source": [
    "`GridsearchCV()` is an exhaustive search over specified parameter values for an estimator."
   ]
  },
  {
   "cell_type": "markdown",
   "metadata": {},
   "source": [
    "<br>\n",
    "\n",
    "Cross-validated results are saved in the grid search object's `cv_results_` attribute. *RMSE* is displayed as a negative number. "
   ]
  },
  {
   "cell_type": "code",
   "execution_count": 1019,
   "metadata": {
    "tags": []
   },
   "outputs": [
    {
     "name": "stdout",
     "output_type": "stream",
     "text": [
      "Fitting 5 folds for each of 12 candidates, totalling 60 fits\n",
      "[CV 1/5] END max_features=6, min_samples_leaf=5;, score=-0.407 total time=   0.1s\n",
      "[CV 2/5] END max_features=6, min_samples_leaf=5;, score=-0.398 total time=   0.1s\n",
      "[CV 3/5] END max_features=6, min_samples_leaf=5;, score=-0.396 total time=   0.1s\n",
      "[CV 4/5] END max_features=6, min_samples_leaf=5;, score=-0.396 total time=   0.1s\n",
      "[CV 5/5] END max_features=6, min_samples_leaf=5;, score=-0.409 total time=   0.1s\n",
      "[CV 1/5] END max_features=6, min_samples_leaf=10;, score=-0.416 total time=   0.1s\n",
      "[CV 2/5] END max_features=6, min_samples_leaf=10;, score=-0.410 total time=   0.1s\n",
      "[CV 3/5] END max_features=6, min_samples_leaf=10;, score=-0.402 total time=   0.1s\n",
      "[CV 4/5] END max_features=6, min_samples_leaf=10;, score=-0.403 total time=   0.1s\n",
      "[CV 5/5] END max_features=6, min_samples_leaf=10;, score=-0.421 total time=   0.1s\n",
      "[CV 1/5] END max_features=6, min_samples_leaf=15;, score=-0.421 total time=   0.1s\n",
      "[CV 2/5] END max_features=6, min_samples_leaf=15;, score=-0.416 total time=   0.1s\n",
      "[CV 3/5] END max_features=6, min_samples_leaf=15;, score=-0.410 total time=   0.1s\n",
      "[CV 4/5] END max_features=6, min_samples_leaf=15;, score=-0.407 total time=   0.1s\n",
      "[CV 5/5] END max_features=6, min_samples_leaf=15;, score=-0.428 total time=   0.1s\n",
      "[CV 1/5] END max_features=8, min_samples_leaf=5;, score=-0.406 total time=   0.1s\n",
      "[CV 2/5] END max_features=8, min_samples_leaf=5;, score=-0.400 total time=   0.1s\n",
      "[CV 3/5] END max_features=8, min_samples_leaf=5;, score=-0.394 total time=   0.1s\n",
      "[CV 4/5] END max_features=8, min_samples_leaf=5;, score=-0.397 total time=   0.1s\n",
      "[CV 5/5] END max_features=8, min_samples_leaf=5;, score=-0.412 total time=   0.1s\n",
      "[CV 1/5] END max_features=8, min_samples_leaf=10;, score=-0.408 total time=   0.1s\n",
      "[CV 2/5] END max_features=8, min_samples_leaf=10;, score=-0.409 total time=   0.1s\n",
      "[CV 3/5] END max_features=8, min_samples_leaf=10;, score=-0.399 total time=   0.1s\n",
      "[CV 4/5] END max_features=8, min_samples_leaf=10;, score=-0.400 total time=   0.1s\n",
      "[CV 5/5] END max_features=8, min_samples_leaf=10;, score=-0.418 total time=   0.1s\n",
      "[CV 1/5] END max_features=8, min_samples_leaf=15;, score=-0.416 total time=   0.1s\n",
      "[CV 2/5] END max_features=8, min_samples_leaf=15;, score=-0.415 total time=   0.1s\n",
      "[CV 3/5] END max_features=8, min_samples_leaf=15;, score=-0.404 total time=   0.1s\n",
      "[CV 4/5] END max_features=8, min_samples_leaf=15;, score=-0.405 total time=   0.1s\n",
      "[CV 5/5] END max_features=8, min_samples_leaf=15;, score=-0.423 total time=   0.1s\n",
      "[CV 1/5] END max_features=10, min_samples_leaf=5;, score=-0.404 total time=   0.1s\n",
      "[CV 2/5] END max_features=10, min_samples_leaf=5;, score=-0.402 total time=   0.1s\n",
      "[CV 3/5] END max_features=10, min_samples_leaf=5;, score=-0.398 total time=   0.1s\n",
      "[CV 4/5] END max_features=10, min_samples_leaf=5;, score=-0.396 total time=   0.1s\n",
      "[CV 5/5] END max_features=10, min_samples_leaf=5;, score=-0.409 total time=   0.1s\n",
      "[CV 1/5] END max_features=10, min_samples_leaf=10;, score=-0.412 total time=   0.1s\n",
      "[CV 2/5] END max_features=10, min_samples_leaf=10;, score=-0.411 total time=   0.1s\n",
      "[CV 3/5] END max_features=10, min_samples_leaf=10;, score=-0.400 total time=   0.1s\n",
      "[CV 4/5] END max_features=10, min_samples_leaf=10;, score=-0.406 total time=   0.1s\n",
      "[CV 5/5] END max_features=10, min_samples_leaf=10;, score=-0.417 total time=   0.1s\n",
      "[CV 1/5] END max_features=10, min_samples_leaf=15;, score=-0.416 total time=   0.1s\n",
      "[CV 2/5] END max_features=10, min_samples_leaf=15;, score=-0.411 total time=   0.1s\n",
      "[CV 3/5] END max_features=10, min_samples_leaf=15;, score=-0.403 total time=   0.1s\n",
      "[CV 4/5] END max_features=10, min_samples_leaf=15;, score=-0.406 total time=   0.1s\n",
      "[CV 5/5] END max_features=10, min_samples_leaf=15;, score=-0.420 total time=   0.1s\n",
      "[CV 1/5] END max_features=12, min_samples_leaf=5;, score=-0.405 total time=   0.1s\n",
      "[CV 2/5] END max_features=12, min_samples_leaf=5;, score=-0.399 total time=   0.1s\n",
      "[CV 3/5] END max_features=12, min_samples_leaf=5;, score=-0.393 total time=   0.1s\n",
      "[CV 4/5] END max_features=12, min_samples_leaf=5;, score=-0.396 total time=   0.1s\n",
      "[CV 5/5] END max_features=12, min_samples_leaf=5;, score=-0.407 total time=   0.1s\n",
      "[CV 1/5] END max_features=12, min_samples_leaf=10;, score=-0.406 total time=   0.1s\n",
      "[CV 2/5] END max_features=12, min_samples_leaf=10;, score=-0.407 total time=   0.1s\n",
      "[CV 3/5] END max_features=12, min_samples_leaf=10;, score=-0.399 total time=   0.1s\n",
      "[CV 4/5] END max_features=12, min_samples_leaf=10;, score=-0.401 total time=   0.1s\n",
      "[CV 5/5] END max_features=12, min_samples_leaf=10;, score=-0.413 total time=   0.1s\n",
      "[CV 1/5] END max_features=12, min_samples_leaf=15;, score=-0.411 total time=   0.1s\n",
      "[CV 2/5] END max_features=12, min_samples_leaf=15;, score=-0.413 total time=   0.1s\n",
      "[CV 3/5] END max_features=12, min_samples_leaf=15;, score=-0.403 total time=   0.1s\n",
      "[CV 4/5] END max_features=12, min_samples_leaf=15;, score=-0.406 total time=   0.1s\n",
      "[CV 5/5] END max_features=12, min_samples_leaf=15;, score=-0.417 total time=   0.1s\n",
      "Fitting 5 folds for each of 12 candidates, totalling 60 fits\n",
      "[CV 1/5] END max_features=6, min_samples_leaf=5;, score=-73.971 total time=   0.1s\n",
      "[CV 2/5] END max_features=6, min_samples_leaf=5;, score=-64.258 total time=   0.1s\n",
      "[CV 3/5] END max_features=6, min_samples_leaf=5;, score=-63.333 total time=   0.1s\n",
      "[CV 4/5] END max_features=6, min_samples_leaf=5;, score=-62.726 total time=   0.1s\n",
      "[CV 5/5] END max_features=6, min_samples_leaf=5;, score=-70.107 total time=   0.1s\n",
      "[CV 1/5] END max_features=6, min_samples_leaf=10;, score=-74.588 total time=   0.1s\n",
      "[CV 2/5] END max_features=6, min_samples_leaf=10;, score=-65.442 total time=   0.1s\n",
      "[CV 3/5] END max_features=6, min_samples_leaf=10;, score=-64.430 total time=   0.1s\n",
      "[CV 4/5] END max_features=6, min_samples_leaf=10;, score=-63.998 total time=   0.1s\n",
      "[CV 5/5] END max_features=6, min_samples_leaf=10;, score=-71.476 total time=   0.1s\n",
      "[CV 1/5] END max_features=6, min_samples_leaf=15;, score=-75.624 total time=   0.1s\n",
      "[CV 2/5] END max_features=6, min_samples_leaf=15;, score=-66.175 total time=   0.1s\n",
      "[CV 3/5] END max_features=6, min_samples_leaf=15;, score=-65.253 total time=   0.1s\n",
      "[CV 4/5] END max_features=6, min_samples_leaf=15;, score=-64.908 total time=   0.1s\n",
      "[CV 5/5] END max_features=6, min_samples_leaf=15;, score=-71.973 total time=   0.1s\n",
      "[CV 1/5] END max_features=8, min_samples_leaf=5;, score=-73.486 total time=   0.1s\n",
      "[CV 2/5] END max_features=8, min_samples_leaf=5;, score=-65.020 total time=   0.1s\n",
      "[CV 3/5] END max_features=8, min_samples_leaf=5;, score=-63.371 total time=   0.1s\n",
      "[CV 4/5] END max_features=8, min_samples_leaf=5;, score=-62.951 total time=   0.1s\n",
      "[CV 5/5] END max_features=8, min_samples_leaf=5;, score=-69.903 total time=   0.1s\n",
      "[CV 1/5] END max_features=8, min_samples_leaf=10;, score=-74.141 total time=   0.1s\n",
      "[CV 2/5] END max_features=8, min_samples_leaf=10;, score=-66.016 total time=   0.1s\n",
      "[CV 3/5] END max_features=8, min_samples_leaf=10;, score=-64.112 total time=   0.1s\n",
      "[CV 4/5] END max_features=8, min_samples_leaf=10;, score=-63.481 total time=   0.1s\n",
      "[CV 5/5] END max_features=8, min_samples_leaf=10;, score=-70.987 total time=   0.1s\n",
      "[CV 1/5] END max_features=8, min_samples_leaf=15;, score=-74.533 total time=   0.1s\n",
      "[CV 2/5] END max_features=8, min_samples_leaf=15;, score=-66.113 total time=   0.1s\n",
      "[CV 3/5] END max_features=8, min_samples_leaf=15;, score=-64.739 total time=   0.1s\n",
      "[CV 4/5] END max_features=8, min_samples_leaf=15;, score=-64.326 total time=   0.1s\n",
      "[CV 5/5] END max_features=8, min_samples_leaf=15;, score=-71.497 total time=   0.1s\n",
      "[CV 1/5] END max_features=10, min_samples_leaf=5;, score=-73.764 total time=   0.1s\n",
      "[CV 2/5] END max_features=10, min_samples_leaf=5;, score=-65.084 total time=   0.1s\n",
      "[CV 3/5] END max_features=10, min_samples_leaf=5;, score=-62.778 total time=   0.1s\n",
      "[CV 4/5] END max_features=10, min_samples_leaf=5;, score=-62.736 total time=   0.1s\n",
      "[CV 5/5] END max_features=10, min_samples_leaf=5;, score=-69.723 total time=   0.1s\n",
      "[CV 1/5] END max_features=10, min_samples_leaf=10;, score=-74.355 total time=   0.1s\n",
      "[CV 2/5] END max_features=10, min_samples_leaf=10;, score=-65.541 total time=   0.1s\n",
      "[CV 3/5] END max_features=10, min_samples_leaf=10;, score=-63.824 total time=   0.1s\n",
      "[CV 4/5] END max_features=10, min_samples_leaf=10;, score=-63.769 total time=   0.1s\n",
      "[CV 5/5] END max_features=10, min_samples_leaf=10;, score=-70.745 total time=   0.1s\n",
      "[CV 1/5] END max_features=10, min_samples_leaf=15;, score=-75.057 total time=   0.1s\n",
      "[CV 2/5] END max_features=10, min_samples_leaf=15;, score=-66.438 total time=   0.1s\n",
      "[CV 3/5] END max_features=10, min_samples_leaf=15;, score=-64.377 total time=   0.1s\n",
      "[CV 4/5] END max_features=10, min_samples_leaf=15;, score=-64.703 total time=   0.1s\n",
      "[CV 5/5] END max_features=10, min_samples_leaf=15;, score=-71.236 total time=   0.1s\n",
      "[CV 1/5] END max_features=12, min_samples_leaf=5;, score=-73.923 total time=   0.1s\n",
      "[CV 2/5] END max_features=12, min_samples_leaf=5;, score=-65.380 total time=   0.1s\n",
      "[CV 3/5] END max_features=12, min_samples_leaf=5;, score=-63.039 total time=   0.1s\n",
      "[CV 4/5] END max_features=12, min_samples_leaf=5;, score=-62.540 total time=   0.1s\n",
      "[CV 5/5] END max_features=12, min_samples_leaf=5;, score=-69.935 total time=   0.1s\n",
      "[CV 1/5] END max_features=12, min_samples_leaf=10;, score=-74.299 total time=   0.1s\n",
      "[CV 2/5] END max_features=12, min_samples_leaf=10;, score=-65.680 total time=   0.1s\n",
      "[CV 3/5] END max_features=12, min_samples_leaf=10;, score=-63.666 total time=   0.1s\n",
      "[CV 4/5] END max_features=12, min_samples_leaf=10;, score=-63.532 total time=   0.1s\n",
      "[CV 5/5] END max_features=12, min_samples_leaf=10;, score=-70.318 total time=   0.1s\n",
      "[CV 1/5] END max_features=12, min_samples_leaf=15;, score=-74.470 total time=   0.1s\n",
      "[CV 2/5] END max_features=12, min_samples_leaf=15;, score=-66.176 total time=   0.1s\n",
      "[CV 3/5] END max_features=12, min_samples_leaf=15;, score=-64.142 total time=   0.1s\n",
      "[CV 4/5] END max_features=12, min_samples_leaf=15;, score=-64.321 total time=   0.1s\n",
      "[CV 5/5] END max_features=12, min_samples_leaf=15;, score=-71.042 total time=   0.1s\n",
      "CPU times: user 12.6 s, sys: 55.2 ms, total: 12.6 s\n",
      "Wall time: 12.6 s\n"
     ]
    }
   ],
   "source": [
    "%%time\n",
    "rf_model_log = rf_random.fit(X, y.ravel())\n",
    "rf_model_level = rf_random2.fit(X22, y2.ravel())"
   ]
  },
  {
   "cell_type": "code",
   "execution_count": 1020,
   "metadata": {
    "tags": []
   },
   "outputs": [],
   "source": [
    "df_rf_model_cv_results = pd.DataFrame(rf_model_log.cv_results_)[[\n",
    "    'param_max_features', 'param_min_samples_leaf', 'mean_test_score']]\n",
    "df_rf_model2_cv_results = pd.DataFrame(rf_model_level.cv_results_)[[\n",
    "    'param_max_features', 'param_min_samples_leaf', 'mean_test_score']]"
   ]
  },
  {
   "cell_type": "code",
   "execution_count": 1021,
   "metadata": {},
   "outputs": [],
   "source": [
    "# renaming columns of the results of first random forest model (df_rf_model with ln(price))\n",
    "df_rf_model_cv_results.columns = ['max features', 'min node size', 'RMSE_ln']\n",
    "\n",
    "# calculating the mean price\n",
    "mean_price_ln = np.mean(y)\n",
    "mean_price_level = np.mean(y2)\n",
    "\n",
    "# calculating prediction error percentage\n",
    "rmse_values_ln = -df_rf_model_cv_results['RMSE_ln']\n",
    "df_rf_model_cv_results['RMSE_ln'] = rmse_values_ln\n",
    "error_percentage_ln = (rmse_values_ln / mean_price_ln)\n",
    "\n",
    "rmse_values_level = -df_rf_model2_cv_results['mean_test_score']\n",
    "error_percentage_level = (rmse_values_level / mean_price_level)\n",
    "\n",
    "# adding prediction error percentage to the DataFrame\n",
    "df_rf_model_cv_results['RMSE_percentage_ln'] = error_percentage_ln\n",
    "\n",
    "# adding RMSE of level price as y to the DataFrame\n",
    "df_rf_model_cv_results['RMSE_level'] = rmse_values_level\n",
    "\n",
    "# adding prediction error percentage of level price as y to the DataFrame\n",
    "df_rf_model_cv_results['RMSE_percentage_level'] = error_percentage_level"
   ]
  },
  {
   "cell_type": "code",
   "execution_count": 1022,
   "metadata": {
    "tags": []
   },
   "outputs": [
    {
     "data": {
      "text/html": [
       "<div>\n",
       "<style scoped>\n",
       "    .dataframe tbody tr th:only-of-type {\n",
       "        vertical-align: middle;\n",
       "    }\n",
       "\n",
       "    .dataframe tbody tr th {\n",
       "        vertical-align: top;\n",
       "    }\n",
       "\n",
       "    .dataframe thead th {\n",
       "        text-align: right;\n",
       "    }\n",
       "</style>\n",
       "<table border=\"1\" class=\"dataframe\">\n",
       "  <thead>\n",
       "    <tr style=\"text-align: right;\">\n",
       "      <th></th>\n",
       "      <th>max features</th>\n",
       "      <th>min node size</th>\n",
       "      <th>RMSE_ln</th>\n",
       "      <th>RMSE_percentage_ln</th>\n",
       "      <th>RMSE_level</th>\n",
       "      <th>RMSE_percentage_level</th>\n",
       "    </tr>\n",
       "  </thead>\n",
       "  <tbody>\n",
       "    <tr>\n",
       "      <th>0</th>\n",
       "      <td>6</td>\n",
       "      <td>5</td>\n",
       "      <td>0.401256</td>\n",
       "      <td>0.084278</td>\n",
       "      <td>66.879155</td>\n",
       "      <td>0.491069</td>\n",
       "    </tr>\n",
       "    <tr>\n",
       "      <th>1</th>\n",
       "      <td>6</td>\n",
       "      <td>10</td>\n",
       "      <td>0.410373</td>\n",
       "      <td>0.086193</td>\n",
       "      <td>67.986652</td>\n",
       "      <td>0.499201</td>\n",
       "    </tr>\n",
       "    <tr>\n",
       "      <th>2</th>\n",
       "      <td>6</td>\n",
       "      <td>15</td>\n",
       "      <td>0.416263</td>\n",
       "      <td>0.087431</td>\n",
       "      <td>68.786722</td>\n",
       "      <td>0.505075</td>\n",
       "    </tr>\n",
       "    <tr>\n",
       "      <th>3</th>\n",
       "      <td>8</td>\n",
       "      <td>5</td>\n",
       "      <td>0.401734</td>\n",
       "      <td>0.084379</td>\n",
       "      <td>66.946072</td>\n",
       "      <td>0.491560</td>\n",
       "    </tr>\n",
       "    <tr>\n",
       "      <th>4</th>\n",
       "      <td>8</td>\n",
       "      <td>10</td>\n",
       "      <td>0.406613</td>\n",
       "      <td>0.085404</td>\n",
       "      <td>67.747330</td>\n",
       "      <td>0.497443</td>\n",
       "    </tr>\n",
       "    <tr>\n",
       "      <th>5</th>\n",
       "      <td>8</td>\n",
       "      <td>15</td>\n",
       "      <td>0.412805</td>\n",
       "      <td>0.086704</td>\n",
       "      <td>68.241602</td>\n",
       "      <td>0.501073</td>\n",
       "    </tr>\n",
       "    <tr>\n",
       "      <th>6</th>\n",
       "      <td>10</td>\n",
       "      <td>5</td>\n",
       "      <td>0.401679</td>\n",
       "      <td>0.084367</td>\n",
       "      <td>66.816975</td>\n",
       "      <td>0.490612</td>\n",
       "    </tr>\n",
       "    <tr>\n",
       "      <th>7</th>\n",
       "      <td>10</td>\n",
       "      <td>10</td>\n",
       "      <td>0.409051</td>\n",
       "      <td>0.085916</td>\n",
       "      <td>67.646537</td>\n",
       "      <td>0.496703</td>\n",
       "    </tr>\n",
       "    <tr>\n",
       "      <th>8</th>\n",
       "      <td>10</td>\n",
       "      <td>15</td>\n",
       "      <td>0.411237</td>\n",
       "      <td>0.086375</td>\n",
       "      <td>68.362280</td>\n",
       "      <td>0.501959</td>\n",
       "    </tr>\n",
       "    <tr>\n",
       "      <th>9</th>\n",
       "      <td>12</td>\n",
       "      <td>5</td>\n",
       "      <td>0.400065</td>\n",
       "      <td>0.084029</td>\n",
       "      <td>66.963358</td>\n",
       "      <td>0.491687</td>\n",
       "    </tr>\n",
       "    <tr>\n",
       "      <th>10</th>\n",
       "      <td>12</td>\n",
       "      <td>10</td>\n",
       "      <td>0.405130</td>\n",
       "      <td>0.085092</td>\n",
       "      <td>67.498934</td>\n",
       "      <td>0.495619</td>\n",
       "    </tr>\n",
       "    <tr>\n",
       "      <th>11</th>\n",
       "      <td>12</td>\n",
       "      <td>15</td>\n",
       "      <td>0.410045</td>\n",
       "      <td>0.086125</td>\n",
       "      <td>68.030234</td>\n",
       "      <td>0.499521</td>\n",
       "    </tr>\n",
       "  </tbody>\n",
       "</table>\n",
       "</div>"
      ],
      "text/plain": [
       "   max features min node size   RMSE_ln  RMSE_percentage_ln  RMSE_level  \\\n",
       "0             6             5  0.401256            0.084278   66.879155   \n",
       "1             6            10  0.410373            0.086193   67.986652   \n",
       "2             6            15  0.416263            0.087431   68.786722   \n",
       "3             8             5  0.401734            0.084379   66.946072   \n",
       "4             8            10  0.406613            0.085404   67.747330   \n",
       "5             8            15  0.412805            0.086704   68.241602   \n",
       "6            10             5  0.401679            0.084367   66.816975   \n",
       "7            10            10  0.409051            0.085916   67.646537   \n",
       "8            10            15  0.411237            0.086375   68.362280   \n",
       "9            12             5  0.400065            0.084029   66.963358   \n",
       "10           12            10  0.405130            0.085092   67.498934   \n",
       "11           12            15  0.410045            0.086125   68.030234   \n",
       "\n",
       "    RMSE_percentage_level  \n",
       "0                0.491069  \n",
       "1                0.499201  \n",
       "2                0.505075  \n",
       "3                0.491560  \n",
       "4                0.497443  \n",
       "5                0.501073  \n",
       "6                0.490612  \n",
       "7                0.496703  \n",
       "8                0.501959  \n",
       "9                0.491687  \n",
       "10               0.495619  \n",
       "11               0.499521  "
      ]
     },
     "execution_count": 1022,
     "metadata": {},
     "output_type": "execute_result"
    }
   ],
   "source": [
    "df_rf_model_cv_results"
   ]
  },
  {
   "cell_type": "markdown",
   "metadata": {},
   "source": [
    "RMSE for level prices for different models of Random Forest is between 66 and 68. And comparing these values to mean prices, we get approximately 50% error. For log transformed predictions, this raito is around 8%. Although, Random Forest is said to not sensitive to non-normality, the results are a bit confusing."
   ]
  },
  {
   "cell_type": "code",
   "execution_count": 1023,
   "metadata": {
    "tags": []
   },
   "outputs": [
    {
     "name": "stdout",
     "output_type": "stream",
     "text": [
      "66.81697525672766\n",
      "{'max_features': 10, 'min_samples_leaf': 5}\n"
     ]
    }
   ],
   "source": [
    "print(-rf_model_level.best_score_)\n",
    "print(rf_model_level.best_params_)"
   ]
  },
  {
   "cell_type": "markdown",
   "metadata": {},
   "source": [
    "- The best Random Forest model has minimum 5 an observations in a terminal node and with max 10 number of features that are considered when splitting a node"
   ]
  },
  {
   "cell_type": "code",
   "execution_count": 1024,
   "metadata": {
    "tags": []
   },
   "outputs": [
    {
     "data": {
      "text/html": [
       "<style>#sk-container-id-52 {color: black;}#sk-container-id-52 pre{padding: 0;}#sk-container-id-52 div.sk-toggleable {background-color: white;}#sk-container-id-52 label.sk-toggleable__label {cursor: pointer;display: block;width: 100%;margin-bottom: 0;padding: 0.3em;box-sizing: border-box;text-align: center;}#sk-container-id-52 label.sk-toggleable__label-arrow:before {content: \"▸\";float: left;margin-right: 0.25em;color: #696969;}#sk-container-id-52 label.sk-toggleable__label-arrow:hover:before {color: black;}#sk-container-id-52 div.sk-estimator:hover label.sk-toggleable__label-arrow:before {color: black;}#sk-container-id-52 div.sk-toggleable__content {max-height: 0;max-width: 0;overflow: hidden;text-align: left;background-color: #f0f8ff;}#sk-container-id-52 div.sk-toggleable__content pre {margin: 0.2em;color: black;border-radius: 0.25em;background-color: #f0f8ff;}#sk-container-id-52 input.sk-toggleable__control:checked~div.sk-toggleable__content {max-height: 200px;max-width: 100%;overflow: auto;}#sk-container-id-52 input.sk-toggleable__control:checked~label.sk-toggleable__label-arrow:before {content: \"▾\";}#sk-container-id-52 div.sk-estimator input.sk-toggleable__control:checked~label.sk-toggleable__label {background-color: #d4ebff;}#sk-container-id-52 div.sk-label input.sk-toggleable__control:checked~label.sk-toggleable__label {background-color: #d4ebff;}#sk-container-id-52 input.sk-hidden--visually {border: 0;clip: rect(1px 1px 1px 1px);clip: rect(1px, 1px, 1px, 1px);height: 1px;margin: -1px;overflow: hidden;padding: 0;position: absolute;width: 1px;}#sk-container-id-52 div.sk-estimator {font-family: monospace;background-color: #f0f8ff;border: 1px dotted black;border-radius: 0.25em;box-sizing: border-box;margin-bottom: 0.5em;}#sk-container-id-52 div.sk-estimator:hover {background-color: #d4ebff;}#sk-container-id-52 div.sk-parallel-item::after {content: \"\";width: 100%;border-bottom: 1px solid gray;flex-grow: 1;}#sk-container-id-52 div.sk-label:hover label.sk-toggleable__label {background-color: #d4ebff;}#sk-container-id-52 div.sk-serial::before {content: \"\";position: absolute;border-left: 1px solid gray;box-sizing: border-box;top: 0;bottom: 0;left: 50%;z-index: 0;}#sk-container-id-52 div.sk-serial {display: flex;flex-direction: column;align-items: center;background-color: white;padding-right: 0.2em;padding-left: 0.2em;position: relative;}#sk-container-id-52 div.sk-item {position: relative;z-index: 1;}#sk-container-id-52 div.sk-parallel {display: flex;align-items: stretch;justify-content: center;background-color: white;position: relative;}#sk-container-id-52 div.sk-item::before, #sk-container-id-52 div.sk-parallel-item::before {content: \"\";position: absolute;border-left: 1px solid gray;box-sizing: border-box;top: 0;bottom: 0;left: 50%;z-index: -1;}#sk-container-id-52 div.sk-parallel-item {display: flex;flex-direction: column;z-index: 1;position: relative;background-color: white;}#sk-container-id-52 div.sk-parallel-item:first-child::after {align-self: flex-end;width: 50%;}#sk-container-id-52 div.sk-parallel-item:last-child::after {align-self: flex-start;width: 50%;}#sk-container-id-52 div.sk-parallel-item:only-child::after {width: 0;}#sk-container-id-52 div.sk-dashed-wrapped {border: 1px dashed gray;margin: 0 0.4em 0.5em 0.4em;box-sizing: border-box;padding-bottom: 0.4em;background-color: white;}#sk-container-id-52 div.sk-label label {font-family: monospace;font-weight: bold;display: inline-block;line-height: 1.2em;}#sk-container-id-52 div.sk-label-container {text-align: center;}#sk-container-id-52 div.sk-container {/* jupyter's `normalize.less` sets `[hidden] { display: none; }` but bootstrap.min.css set `[hidden] { display: none !important; }` so we also need the `!important` here to be able to override the default hidden behavior on the sphinx rendered scikit-learn.org. See: https://github.com/scikit-learn/scikit-learn/issues/21755 */display: inline-block !important;position: relative;}#sk-container-id-52 div.sk-text-repr-fallback {display: none;}</style><div id=\"sk-container-id-52\" class=\"sk-top-container\"><div class=\"sk-text-repr-fallback\"><pre>RandomForestRegressor(max_features=10, min_samples_leaf=5, random_state=42)</pre><b>In a Jupyter environment, please rerun this cell to show the HTML representation or trust the notebook. <br />On GitHub, the HTML representation is unable to render, please try loading this page with nbviewer.org.</b></div><div class=\"sk-container\" hidden><div class=\"sk-item\"><div class=\"sk-estimator sk-toggleable\"><input class=\"sk-toggleable__control sk-hidden--visually\" id=\"sk-estimator-id-210\" type=\"checkbox\" checked><label for=\"sk-estimator-id-210\" class=\"sk-toggleable__label sk-toggleable__label-arrow\">RandomForestRegressor</label><div class=\"sk-toggleable__content\"><pre>RandomForestRegressor(max_features=10, min_samples_leaf=5, random_state=42)</pre></div></div></div></div></div>"
      ],
      "text/plain": [
       "RandomForestRegressor(max_features=10, min_samples_leaf=5, random_state=42)"
      ]
     },
     "execution_count": 1024,
     "metadata": {},
     "output_type": "execute_result"
    }
   ],
   "source": [
    "rf_model_level.best_estimator_"
   ]
  },
  {
   "cell_type": "markdown",
   "metadata": {},
   "source": [
    "We have used some different columns than London data in our analysis and found similar results. The best model hast 10 features and 5 leafs similar to London data. Also, we found near proportion between RMSE values and the mean acc. to London results."
   ]
  },
  {
   "cell_type": "markdown",
   "metadata": {},
   "source": [
    "We also applied $log(price)$ as dependant variable and compared the results with level-prices. Random forest finds the best model with same specifications but `RMSE/mean(price)` ratio is very different in case of log-transformed prices as `y-variable`."
   ]
  },
  {
   "cell_type": "markdown",
   "metadata": {
    "tags": []
   },
   "source": [
    "**Model1 Diagnostics**"
   ]
  },
  {
   "cell_type": "code",
   "execution_count": 1025,
   "metadata": {},
   "outputs": [
    {
     "data": {
      "text/plain": [
       "array([0.00000000e+00, 8.48171750e-04, 1.78904139e-03, 1.07254255e-02,\n",
       "       4.68877969e-04, 5.53344136e-06, 8.72031558e-04, 6.69816500e-04,\n",
       "       1.48719208e-04, 1.83709680e-02, 3.19239568e-02, 4.05974894e-02,\n",
       "       2.15164813e-04, 1.04700307e-03, 2.66617736e-03, 1.37747011e-03,\n",
       "       2.39300493e-03, 5.00098074e-03, 9.27754363e-02, 9.78548639e-02,\n",
       "       2.51491240e-01, 9.63047386e-02, 5.64840976e-02, 2.65505318e-02,\n",
       "       3.49821858e-02, 1.12446118e-01, 9.60015931e-02, 1.59893627e-02])"
      ]
     },
     "execution_count": 1025,
     "metadata": {},
     "output_type": "execute_result"
    }
   ],
   "source": [
    "rf_model_level.best_estimator_.feature_importances_"
   ]
  },
  {
   "cell_type": "code",
   "execution_count": 1026,
   "metadata": {},
   "outputs": [
    {
     "data": {
      "text/plain": [
       "['Intercept',\n",
       " 'f_property_type[T.Entire home]',\n",
       " 'f_property_type[T.Entire loft]',\n",
       " 'f_property_type[T.Entire rental unit]',\n",
       " 'f_property_type[T.Entire serviced apartment]',\n",
       " 'f_property_type[T.Entire vacation home]',\n",
       " 'f_property_type[T.Private room in bed and breakfast]',\n",
       " 'f_property_type[T.Private room in condo]',\n",
       " 'f_property_type[T.Private room in home]',\n",
       " 'f_property_type[T.Private room in rental unit]',\n",
       " 'f_room_type[T.Private room]',\n",
       " 'f_neighbourhood_cleansed[T.Centro Storico]',\n",
       " 'f_neighbourhood_cleansed[T.Gavinana Galluzzo]',\n",
       " 'f_neighbourhood_cleansed[T.Isolotto Legnaia]',\n",
       " 'f_neighbourhood_cleansed[T.Rifredi]',\n",
       " 'f_host_response_time[T.within a day]',\n",
       " 'f_host_response_time[T.within a few hours]',\n",
       " 'f_host_response_time[T.within an hour]',\n",
       " 'n_accommodates',\n",
       " 'n_beds',\n",
       " 'n_bathrooms',\n",
       " 'n_availability_90',\n",
       " 'n_maximum_nights',\n",
       " 'n_host_response_rate',\n",
       " 'n_host_acceptance_rate',\n",
       " 'n_number_of_reviews',\n",
       " 'n_review_scores_rating',\n",
       " 'd_host_is_superhost']"
      ]
     },
     "execution_count": 1026,
     "metadata": {},
     "output_type": "execute_result"
    }
   ],
   "source": [
    "X.design_info.column_names"
   ]
  },
  {
   "cell_type": "code",
   "execution_count": 1027,
   "metadata": {
    "tags": []
   },
   "outputs": [],
   "source": [
    "df_var_imp = pd.DataFrame(\n",
    "    rf_model_level.best_estimator_.feature_importances_, \n",
    "    X.design_info.column_names)\\\n",
    "    .reset_index()\\\n",
    "    .rename({\"index\": \"variable\", 0: \"imp\"}, axis=1)\\\n",
    "    .sort_values(by=[\"imp\"], ascending=False)\\\n",
    "    .reset_index(drop = True)\n",
    "\n",
    "df_var_imp['cumulative_imp'] = df_var_imp['imp'].cumsum()"
   ]
  },
  {
   "cell_type": "code",
   "execution_count": 1028,
   "metadata": {
    "tags": []
   },
   "outputs": [
    {
     "data": {
      "text/html": [
       "<style type=\"text/css\">\n",
       "</style>\n",
       "<table id=\"T_37f14\">\n",
       "  <thead>\n",
       "    <tr>\n",
       "      <th class=\"blank level0\" >&nbsp;</th>\n",
       "      <th id=\"T_37f14_level0_col0\" class=\"col_heading level0 col0\" >variable</th>\n",
       "      <th id=\"T_37f14_level0_col1\" class=\"col_heading level0 col1\" >imp</th>\n",
       "      <th id=\"T_37f14_level0_col2\" class=\"col_heading level0 col2\" >cumulative_imp</th>\n",
       "    </tr>\n",
       "  </thead>\n",
       "  <tbody>\n",
       "    <tr>\n",
       "      <th id=\"T_37f14_level0_row0\" class=\"row_heading level0 row0\" >0</th>\n",
       "      <td id=\"T_37f14_row0_col0\" class=\"data row0 col0\" >n_bathrooms</td>\n",
       "      <td id=\"T_37f14_row0_col1\" class=\"data row0 col1\" >25.1%</td>\n",
       "      <td id=\"T_37f14_row0_col2\" class=\"data row0 col2\" >25.1%</td>\n",
       "    </tr>\n",
       "    <tr>\n",
       "      <th id=\"T_37f14_level0_row1\" class=\"row_heading level0 row1\" >1</th>\n",
       "      <td id=\"T_37f14_row1_col0\" class=\"data row1 col0\" >n_number_of_reviews</td>\n",
       "      <td id=\"T_37f14_row1_col1\" class=\"data row1 col1\" >11.2%</td>\n",
       "      <td id=\"T_37f14_row1_col2\" class=\"data row1 col2\" >36.4%</td>\n",
       "    </tr>\n",
       "    <tr>\n",
       "      <th id=\"T_37f14_level0_row2\" class=\"row_heading level0 row2\" >2</th>\n",
       "      <td id=\"T_37f14_row2_col0\" class=\"data row2 col0\" >n_beds</td>\n",
       "      <td id=\"T_37f14_row2_col1\" class=\"data row2 col1\" >9.8%</td>\n",
       "      <td id=\"T_37f14_row2_col2\" class=\"data row2 col2\" >46.2%</td>\n",
       "    </tr>\n",
       "    <tr>\n",
       "      <th id=\"T_37f14_level0_row3\" class=\"row_heading level0 row3\" >3</th>\n",
       "      <td id=\"T_37f14_row3_col0\" class=\"data row3 col0\" >n_availability_90</td>\n",
       "      <td id=\"T_37f14_row3_col1\" class=\"data row3 col1\" >9.6%</td>\n",
       "      <td id=\"T_37f14_row3_col2\" class=\"data row3 col2\" >55.8%</td>\n",
       "    </tr>\n",
       "    <tr>\n",
       "      <th id=\"T_37f14_level0_row4\" class=\"row_heading level0 row4\" >4</th>\n",
       "      <td id=\"T_37f14_row4_col0\" class=\"data row4 col0\" >n_review_scores_rating</td>\n",
       "      <td id=\"T_37f14_row4_col1\" class=\"data row4 col1\" >9.6%</td>\n",
       "      <td id=\"T_37f14_row4_col2\" class=\"data row4 col2\" >65.4%</td>\n",
       "    </tr>\n",
       "    <tr>\n",
       "      <th id=\"T_37f14_level0_row5\" class=\"row_heading level0 row5\" >5</th>\n",
       "      <td id=\"T_37f14_row5_col0\" class=\"data row5 col0\" >n_accommodates</td>\n",
       "      <td id=\"T_37f14_row5_col1\" class=\"data row5 col1\" >9.3%</td>\n",
       "      <td id=\"T_37f14_row5_col2\" class=\"data row5 col2\" >74.7%</td>\n",
       "    </tr>\n",
       "    <tr>\n",
       "      <th id=\"T_37f14_level0_row6\" class=\"row_heading level0 row6\" >6</th>\n",
       "      <td id=\"T_37f14_row6_col0\" class=\"data row6 col0\" >n_maximum_nights</td>\n",
       "      <td id=\"T_37f14_row6_col1\" class=\"data row6 col1\" >5.6%</td>\n",
       "      <td id=\"T_37f14_row6_col2\" class=\"data row6 col2\" >80.3%</td>\n",
       "    </tr>\n",
       "    <tr>\n",
       "      <th id=\"T_37f14_level0_row7\" class=\"row_heading level0 row7\" >7</th>\n",
       "      <td id=\"T_37f14_row7_col0\" class=\"data row7 col0\" >f_neighbourhood_cleansed[T.Centro Storico]</td>\n",
       "      <td id=\"T_37f14_row7_col1\" class=\"data row7 col1\" >4.1%</td>\n",
       "      <td id=\"T_37f14_row7_col2\" class=\"data row7 col2\" >84.4%</td>\n",
       "    </tr>\n",
       "    <tr>\n",
       "      <th id=\"T_37f14_level0_row8\" class=\"row_heading level0 row8\" >8</th>\n",
       "      <td id=\"T_37f14_row8_col0\" class=\"data row8 col0\" >n_host_acceptance_rate</td>\n",
       "      <td id=\"T_37f14_row8_col1\" class=\"data row8 col1\" >3.5%</td>\n",
       "      <td id=\"T_37f14_row8_col2\" class=\"data row8 col2\" >87.9%</td>\n",
       "    </tr>\n",
       "    <tr>\n",
       "      <th id=\"T_37f14_level0_row9\" class=\"row_heading level0 row9\" >9</th>\n",
       "      <td id=\"T_37f14_row9_col0\" class=\"data row9 col0\" >f_room_type[T.Private room]</td>\n",
       "      <td id=\"T_37f14_row9_col1\" class=\"data row9 col1\" >3.2%</td>\n",
       "      <td id=\"T_37f14_row9_col2\" class=\"data row9 col2\" >91.1%</td>\n",
       "    </tr>\n",
       "    <tr>\n",
       "      <th id=\"T_37f14_level0_row10\" class=\"row_heading level0 row10\" >10</th>\n",
       "      <td id=\"T_37f14_row10_col0\" class=\"data row10 col0\" >n_host_response_rate</td>\n",
       "      <td id=\"T_37f14_row10_col1\" class=\"data row10 col1\" >2.7%</td>\n",
       "      <td id=\"T_37f14_row10_col2\" class=\"data row10 col2\" >93.7%</td>\n",
       "    </tr>\n",
       "    <tr>\n",
       "      <th id=\"T_37f14_level0_row11\" class=\"row_heading level0 row11\" >11</th>\n",
       "      <td id=\"T_37f14_row11_col0\" class=\"data row11 col0\" >f_property_type[T.Private room in rental unit]</td>\n",
       "      <td id=\"T_37f14_row11_col1\" class=\"data row11 col1\" >1.8%</td>\n",
       "      <td id=\"T_37f14_row11_col2\" class=\"data row11 col2\" >95.6%</td>\n",
       "    </tr>\n",
       "    <tr>\n",
       "      <th id=\"T_37f14_level0_row12\" class=\"row_heading level0 row12\" >12</th>\n",
       "      <td id=\"T_37f14_row12_col0\" class=\"data row12 col0\" >d_host_is_superhost</td>\n",
       "      <td id=\"T_37f14_row12_col1\" class=\"data row12 col1\" >1.6%</td>\n",
       "      <td id=\"T_37f14_row12_col2\" class=\"data row12 col2\" >97.2%</td>\n",
       "    </tr>\n",
       "    <tr>\n",
       "      <th id=\"T_37f14_level0_row13\" class=\"row_heading level0 row13\" >13</th>\n",
       "      <td id=\"T_37f14_row13_col0\" class=\"data row13 col0\" >f_property_type[T.Entire rental unit]</td>\n",
       "      <td id=\"T_37f14_row13_col1\" class=\"data row13 col1\" >1.1%</td>\n",
       "      <td id=\"T_37f14_row13_col2\" class=\"data row13 col2\" >98.2%</td>\n",
       "    </tr>\n",
       "    <tr>\n",
       "      <th id=\"T_37f14_level0_row14\" class=\"row_heading level0 row14\" >14</th>\n",
       "      <td id=\"T_37f14_row14_col0\" class=\"data row14 col0\" >f_host_response_time[T.within an hour]</td>\n",
       "      <td id=\"T_37f14_row14_col1\" class=\"data row14 col1\" >0.5%</td>\n",
       "      <td id=\"T_37f14_row14_col2\" class=\"data row14 col2\" >98.7%</td>\n",
       "    </tr>\n",
       "    <tr>\n",
       "      <th id=\"T_37f14_level0_row15\" class=\"row_heading level0 row15\" >15</th>\n",
       "      <td id=\"T_37f14_row15_col0\" class=\"data row15 col0\" >f_neighbourhood_cleansed[T.Rifredi]</td>\n",
       "      <td id=\"T_37f14_row15_col1\" class=\"data row15 col1\" >0.3%</td>\n",
       "      <td id=\"T_37f14_row15_col2\" class=\"data row15 col2\" >99.0%</td>\n",
       "    </tr>\n",
       "    <tr>\n",
       "      <th id=\"T_37f14_level0_row16\" class=\"row_heading level0 row16\" >16</th>\n",
       "      <td id=\"T_37f14_row16_col0\" class=\"data row16 col0\" >f_host_response_time[T.within a few hours]</td>\n",
       "      <td id=\"T_37f14_row16_col1\" class=\"data row16 col1\" >0.2%</td>\n",
       "      <td id=\"T_37f14_row16_col2\" class=\"data row16 col2\" >99.3%</td>\n",
       "    </tr>\n",
       "    <tr>\n",
       "      <th id=\"T_37f14_level0_row17\" class=\"row_heading level0 row17\" >17</th>\n",
       "      <td id=\"T_37f14_row17_col0\" class=\"data row17 col0\" >f_property_type[T.Entire loft]</td>\n",
       "      <td id=\"T_37f14_row17_col1\" class=\"data row17 col1\" >0.2%</td>\n",
       "      <td id=\"T_37f14_row17_col2\" class=\"data row17 col2\" >99.4%</td>\n",
       "    </tr>\n",
       "    <tr>\n",
       "      <th id=\"T_37f14_level0_row18\" class=\"row_heading level0 row18\" >18</th>\n",
       "      <td id=\"T_37f14_row18_col0\" class=\"data row18 col0\" >f_host_response_time[T.within a day]</td>\n",
       "      <td id=\"T_37f14_row18_col1\" class=\"data row18 col1\" >0.1%</td>\n",
       "      <td id=\"T_37f14_row18_col2\" class=\"data row18 col2\" >99.6%</td>\n",
       "    </tr>\n",
       "    <tr>\n",
       "      <th id=\"T_37f14_level0_row19\" class=\"row_heading level0 row19\" >19</th>\n",
       "      <td id=\"T_37f14_row19_col0\" class=\"data row19 col0\" >f_neighbourhood_cleansed[T.Isolotto Legnaia]</td>\n",
       "      <td id=\"T_37f14_row19_col1\" class=\"data row19 col1\" >0.1%</td>\n",
       "      <td id=\"T_37f14_row19_col2\" class=\"data row19 col2\" >99.7%</td>\n",
       "    </tr>\n",
       "    <tr>\n",
       "      <th id=\"T_37f14_level0_row20\" class=\"row_heading level0 row20\" >20</th>\n",
       "      <td id=\"T_37f14_row20_col0\" class=\"data row20 col0\" >f_property_type[T.Private room in bed and breakfast]</td>\n",
       "      <td id=\"T_37f14_row20_col1\" class=\"data row20 col1\" >0.1%</td>\n",
       "      <td id=\"T_37f14_row20_col2\" class=\"data row20 col2\" >99.8%</td>\n",
       "    </tr>\n",
       "    <tr>\n",
       "      <th id=\"T_37f14_level0_row21\" class=\"row_heading level0 row21\" >21</th>\n",
       "      <td id=\"T_37f14_row21_col0\" class=\"data row21 col0\" >f_property_type[T.Entire home]</td>\n",
       "      <td id=\"T_37f14_row21_col1\" class=\"data row21 col1\" >0.1%</td>\n",
       "      <td id=\"T_37f14_row21_col2\" class=\"data row21 col2\" >99.8%</td>\n",
       "    </tr>\n",
       "    <tr>\n",
       "      <th id=\"T_37f14_level0_row22\" class=\"row_heading level0 row22\" >22</th>\n",
       "      <td id=\"T_37f14_row22_col0\" class=\"data row22 col0\" >f_property_type[T.Private room in condo]</td>\n",
       "      <td id=\"T_37f14_row22_col1\" class=\"data row22 col1\" >0.1%</td>\n",
       "      <td id=\"T_37f14_row22_col2\" class=\"data row22 col2\" >99.9%</td>\n",
       "    </tr>\n",
       "    <tr>\n",
       "      <th id=\"T_37f14_level0_row23\" class=\"row_heading level0 row23\" >23</th>\n",
       "      <td id=\"T_37f14_row23_col0\" class=\"data row23 col0\" >f_property_type[T.Entire serviced apartment]</td>\n",
       "      <td id=\"T_37f14_row23_col1\" class=\"data row23 col1\" >0.0%</td>\n",
       "      <td id=\"T_37f14_row23_col2\" class=\"data row23 col2\" >100.0%</td>\n",
       "    </tr>\n",
       "    <tr>\n",
       "      <th id=\"T_37f14_level0_row24\" class=\"row_heading level0 row24\" >24</th>\n",
       "      <td id=\"T_37f14_row24_col0\" class=\"data row24 col0\" >f_neighbourhood_cleansed[T.Gavinana Galluzzo]</td>\n",
       "      <td id=\"T_37f14_row24_col1\" class=\"data row24 col1\" >0.0%</td>\n",
       "      <td id=\"T_37f14_row24_col2\" class=\"data row24 col2\" >100.0%</td>\n",
       "    </tr>\n",
       "    <tr>\n",
       "      <th id=\"T_37f14_level0_row25\" class=\"row_heading level0 row25\" >25</th>\n",
       "      <td id=\"T_37f14_row25_col0\" class=\"data row25 col0\" >f_property_type[T.Private room in home]</td>\n",
       "      <td id=\"T_37f14_row25_col1\" class=\"data row25 col1\" >0.0%</td>\n",
       "      <td id=\"T_37f14_row25_col2\" class=\"data row25 col2\" >100.0%</td>\n",
       "    </tr>\n",
       "    <tr>\n",
       "      <th id=\"T_37f14_level0_row26\" class=\"row_heading level0 row26\" >26</th>\n",
       "      <td id=\"T_37f14_row26_col0\" class=\"data row26 col0\" >f_property_type[T.Entire vacation home]</td>\n",
       "      <td id=\"T_37f14_row26_col1\" class=\"data row26 col1\" >0.0%</td>\n",
       "      <td id=\"T_37f14_row26_col2\" class=\"data row26 col2\" >100.0%</td>\n",
       "    </tr>\n",
       "    <tr>\n",
       "      <th id=\"T_37f14_level0_row27\" class=\"row_heading level0 row27\" >27</th>\n",
       "      <td id=\"T_37f14_row27_col0\" class=\"data row27 col0\" >Intercept</td>\n",
       "      <td id=\"T_37f14_row27_col1\" class=\"data row27 col1\" >0.0%</td>\n",
       "      <td id=\"T_37f14_row27_col2\" class=\"data row27 col2\" >100.0%</td>\n",
       "    </tr>\n",
       "  </tbody>\n",
       "</table>\n"
      ],
      "text/plain": [
       "<pandas.io.formats.style.Styler at 0x2a0019ed0>"
      ]
     },
     "execution_count": 1028,
     "metadata": {},
     "output_type": "execute_result"
    }
   ],
   "source": [
    "df_var_imp.style.format({\n",
    "    'imp': lambda x: f'{x:,.1%}',\n",
    "    'cumulative_imp': lambda x: f'{x:,.1%}'})"
   ]
  },
  {
   "cell_type": "markdown",
   "metadata": {},
   "source": [
    "In terms of individual importances, `n_bathrooms` that can stay at the listing have highest importance."
   ]
  },
  {
   "cell_type": "code",
   "execution_count": 1029,
   "metadata": {},
   "outputs": [],
   "source": [
    "# we only care for variables with an importance of more than 1%\n",
    "cutoff = 0.01"
   ]
  },
  {
   "cell_type": "code",
   "execution_count": 1030,
   "metadata": {
    "tags": []
   },
   "outputs": [
    {
     "data": {
      "image/png": "[encoded data removed]",
      "text/plain": [
       "<Figure size 1000x600 with 1 Axes>"
      ]
     },
     "metadata": {},
     "output_type": "display_data"
    }
   ],
   "source": [
    "df_var_imp[df_var_imp.imp > cutoff]\\\n",
    "    .sort_values(by = 'imp')\\\n",
    "    .plot(kind = 'barh', \n",
    "          x = 'variable', y = 'imp', \n",
    "          figsize = (10,6), grid = True, \n",
    "          title = 'Random forest model highest feature importances', \n",
    "          xlabel = 'variables', legend = False\n",
    "         );"
   ]
  },
  {
   "cell_type": "markdown",
   "metadata": {},
   "source": [
    "Now we group variable importance. In other words, instead of looking at the individual categories of a categorical variable, we look at the total effect of the category."
   ]
  },
  {
   "cell_type": "code",
   "execution_count": 1031,
   "metadata": {},
   "outputs": [],
   "source": [
    "categorical_columns = [col for col in predictors_2 if col.startswith(\"f_\")]\n",
    "numerical_columns = [col for col in predictors_2 if col not in categorical_columns]"
   ]
  },
  {
   "cell_type": "code",
   "execution_count": 1032,
   "metadata": {},
   "outputs": [],
   "source": [
    "categorical_encoder = OneHotEncoder(handle_unknown=\"ignore\")\n",
    "\n",
    "preprocessing = ColumnTransformer([\n",
    "    (\"cat\", categorical_encoder, categorical_columns),\n",
    "    (\"num\", \"passthrough\", numerical_columns)])\n",
    "\n",
    "rf_pipeline = Pipeline(\n",
    "    [(\"preprocess\", preprocessing), \n",
    "     (\"regressor\", rf_model_level.best_estimator_)] # for level\n",
    ")\n",
    "\n",
    "rf_pipeline2 = Pipeline(\n",
    "    [(\"preprocess\", preprocessing), \n",
    "     (\"regressor\", rf_model_log.best_estimator_)] # for log\n",
    ")"
   ]
  },
  {
   "cell_type": "code",
   "execution_count": 1033,
   "metadata": {},
   "outputs": [
    {
     "name": "stdout",
     "output_type": "stream",
     "text": [
      "CPU times: user 457 ms, sys: 3.81 ms, total: 461 ms\n",
      "Wall time: 159 ms\n"
     ]
    },
    {
     "data": {
      "text/html": [
       "<style>#sk-container-id-53 {color: black;}#sk-container-id-53 pre{padding: 0;}#sk-container-id-53 div.sk-toggleable {background-color: white;}#sk-container-id-53 label.sk-toggleable__label {cursor: pointer;display: block;width: 100%;margin-bottom: 0;padding: 0.3em;box-sizing: border-box;text-align: center;}#sk-container-id-53 label.sk-toggleable__label-arrow:before {content: \"▸\";float: left;margin-right: 0.25em;color: #696969;}#sk-container-id-53 label.sk-toggleable__label-arrow:hover:before {color: black;}#sk-container-id-53 div.sk-estimator:hover label.sk-toggleable__label-arrow:before {color: black;}#sk-container-id-53 div.sk-toggleable__content {max-height: 0;max-width: 0;overflow: hidden;text-align: left;background-color: #f0f8ff;}#sk-container-id-53 div.sk-toggleable__content pre {margin: 0.2em;color: black;border-radius: 0.25em;background-color: #f0f8ff;}#sk-container-id-53 input.sk-toggleable__control:checked~div.sk-toggleable__content {max-height: 200px;max-width: 100%;overflow: auto;}#sk-container-id-53 input.sk-toggleable__control:checked~label.sk-toggleable__label-arrow:before {content: \"▾\";}#sk-container-id-53 div.sk-estimator input.sk-toggleable__control:checked~label.sk-toggleable__label {background-color: #d4ebff;}#sk-container-id-53 div.sk-label input.sk-toggleable__control:checked~label.sk-toggleable__label {background-color: #d4ebff;}#sk-container-id-53 input.sk-hidden--visually {border: 0;clip: rect(1px 1px 1px 1px);clip: rect(1px, 1px, 1px, 1px);height: 1px;margin: -1px;overflow: hidden;padding: 0;position: absolute;width: 1px;}#sk-container-id-53 div.sk-estimator {font-family: monospace;background-color: #f0f8ff;border: 1px dotted black;border-radius: 0.25em;box-sizing: border-box;margin-bottom: 0.5em;}#sk-container-id-53 div.sk-estimator:hover {background-color: #d4ebff;}#sk-container-id-53 div.sk-parallel-item::after {content: \"\";width: 100%;border-bottom: 1px solid gray;flex-grow: 1;}#sk-container-id-53 div.sk-label:hover label.sk-toggleable__label {background-color: #d4ebff;}#sk-container-id-53 div.sk-serial::before {content: \"\";position: absolute;border-left: 1px solid gray;box-sizing: border-box;top: 0;bottom: 0;left: 50%;z-index: 0;}#sk-container-id-53 div.sk-serial {display: flex;flex-direction: column;align-items: center;background-color: white;padding-right: 0.2em;padding-left: 0.2em;position: relative;}#sk-container-id-53 div.sk-item {position: relative;z-index: 1;}#sk-container-id-53 div.sk-parallel {display: flex;align-items: stretch;justify-content: center;background-color: white;position: relative;}#sk-container-id-53 div.sk-item::before, #sk-container-id-53 div.sk-parallel-item::before {content: \"\";position: absolute;border-left: 1px solid gray;box-sizing: border-box;top: 0;bottom: 0;left: 50%;z-index: -1;}#sk-container-id-53 div.sk-parallel-item {display: flex;flex-direction: column;z-index: 1;position: relative;background-color: white;}#sk-container-id-53 div.sk-parallel-item:first-child::after {align-self: flex-end;width: 50%;}#sk-container-id-53 div.sk-parallel-item:last-child::after {align-self: flex-start;width: 50%;}#sk-container-id-53 div.sk-parallel-item:only-child::after {width: 0;}#sk-container-id-53 div.sk-dashed-wrapped {border: 1px dashed gray;margin: 0 0.4em 0.5em 0.4em;box-sizing: border-box;padding-bottom: 0.4em;background-color: white;}#sk-container-id-53 div.sk-label label {font-family: monospace;font-weight: bold;display: inline-block;line-height: 1.2em;}#sk-container-id-53 div.sk-label-container {text-align: center;}#sk-container-id-53 div.sk-container {/* jupyter's `normalize.less` sets `[hidden] { display: none; }` but bootstrap.min.css set `[hidden] { display: none !important; }` so we also need the `!important` here to be able to override the default hidden behavior on the sphinx rendered scikit-learn.org. See: https://github.com/scikit-learn/scikit-learn/issues/21755 */display: inline-block !important;position: relative;}#sk-container-id-53 div.sk-text-repr-fallback {display: none;}</style><div id=\"sk-container-id-53\" class=\"sk-top-container\"><div class=\"sk-text-repr-fallback\"><pre>Pipeline(steps=[(&#x27;preprocess&#x27;,\n",
       "                 ColumnTransformer(transformers=[(&#x27;cat&#x27;,\n",
       "                                                  OneHotEncoder(handle_unknown=&#x27;ignore&#x27;),\n",
       "                                                  [&#x27;f_property_type&#x27;,\n",
       "                                                   &#x27;f_room_type&#x27;,\n",
       "                                                   &#x27;f_neighbourhood_cleansed&#x27;,\n",
       "                                                   &#x27;f_host_response_time&#x27;]),\n",
       "                                                 (&#x27;num&#x27;, &#x27;passthrough&#x27;,\n",
       "                                                  [&#x27;n_accommodates&#x27;, &#x27;n_beds&#x27;,\n",
       "                                                   &#x27;n_bathrooms&#x27;,\n",
       "                                                   &#x27;n_availability_90&#x27;,\n",
       "                                                   &#x27;n_maximum_nights&#x27;,\n",
       "                                                   &#x27;n_host_response_rate&#x27;,\n",
       "                                                   &#x27;n_host_acceptance_rate&#x27;,\n",
       "                                                   &#x27;n_number_of_reviews&#x27;,\n",
       "                                                   &#x27;n_review_scores_rating&#x27;,\n",
       "                                                   &#x27;d_host_is_superhost&#x27;])])),\n",
       "                (&#x27;regressor&#x27;,\n",
       "                 RandomForestRegressor(max_features=10, min_samples_leaf=5,\n",
       "                                       random_state=42))])</pre><b>In a Jupyter environment, please rerun this cell to show the HTML representation or trust the notebook. <br />On GitHub, the HTML representation is unable to render, please try loading this page with nbviewer.org.</b></div><div class=\"sk-container\" hidden><div class=\"sk-item sk-dashed-wrapped\"><div class=\"sk-label-container\"><div class=\"sk-label sk-toggleable\"><input class=\"sk-toggleable__control sk-hidden--visually\" id=\"sk-estimator-id-211\" type=\"checkbox\" ><label for=\"sk-estimator-id-211\" class=\"sk-toggleable__label sk-toggleable__label-arrow\">Pipeline</label><div class=\"sk-toggleable__content\"><pre>Pipeline(steps=[(&#x27;preprocess&#x27;,\n",
       "                 ColumnTransformer(transformers=[(&#x27;cat&#x27;,\n",
       "                                                  OneHotEncoder(handle_unknown=&#x27;ignore&#x27;),\n",
       "                                                  [&#x27;f_property_type&#x27;,\n",
       "                                                   &#x27;f_room_type&#x27;,\n",
       "                                                   &#x27;f_neighbourhood_cleansed&#x27;,\n",
       "                                                   &#x27;f_host_response_time&#x27;]),\n",
       "                                                 (&#x27;num&#x27;, &#x27;passthrough&#x27;,\n",
       "                                                  [&#x27;n_accommodates&#x27;, &#x27;n_beds&#x27;,\n",
       "                                                   &#x27;n_bathrooms&#x27;,\n",
       "                                                   &#x27;n_availability_90&#x27;,\n",
       "                                                   &#x27;n_maximum_nights&#x27;,\n",
       "                                                   &#x27;n_host_response_rate&#x27;,\n",
       "                                                   &#x27;n_host_acceptance_rate&#x27;,\n",
       "                                                   &#x27;n_number_of_reviews&#x27;,\n",
       "                                                   &#x27;n_review_scores_rating&#x27;,\n",
       "                                                   &#x27;d_host_is_superhost&#x27;])])),\n",
       "                (&#x27;regressor&#x27;,\n",
       "                 RandomForestRegressor(max_features=10, min_samples_leaf=5,\n",
       "                                       random_state=42))])</pre></div></div></div><div class=\"sk-serial\"><div class=\"sk-item sk-dashed-wrapped\"><div class=\"sk-label-container\"><div class=\"sk-label sk-toggleable\"><input class=\"sk-toggleable__control sk-hidden--visually\" id=\"sk-estimator-id-212\" type=\"checkbox\" ><label for=\"sk-estimator-id-212\" class=\"sk-toggleable__label sk-toggleable__label-arrow\">preprocess: ColumnTransformer</label><div class=\"sk-toggleable__content\"><pre>ColumnTransformer(transformers=[(&#x27;cat&#x27;, OneHotEncoder(handle_unknown=&#x27;ignore&#x27;),\n",
       "                                 [&#x27;f_property_type&#x27;, &#x27;f_room_type&#x27;,\n",
       "                                  &#x27;f_neighbourhood_cleansed&#x27;,\n",
       "                                  &#x27;f_host_response_time&#x27;]),\n",
       "                                (&#x27;num&#x27;, &#x27;passthrough&#x27;,\n",
       "                                 [&#x27;n_accommodates&#x27;, &#x27;n_beds&#x27;, &#x27;n_bathrooms&#x27;,\n",
       "                                  &#x27;n_availability_90&#x27;, &#x27;n_maximum_nights&#x27;,\n",
       "                                  &#x27;n_host_response_rate&#x27;,\n",
       "                                  &#x27;n_host_acceptance_rate&#x27;,\n",
       "                                  &#x27;n_number_of_reviews&#x27;,\n",
       "                                  &#x27;n_review_scores_rating&#x27;,\n",
       "                                  &#x27;d_host_is_superhost&#x27;])])</pre></div></div></div><div class=\"sk-parallel\"><div class=\"sk-parallel-item\"><div class=\"sk-item\"><div class=\"sk-label-container\"><div class=\"sk-label sk-toggleable\"><input class=\"sk-toggleable__control sk-hidden--visually\" id=\"sk-estimator-id-213\" type=\"checkbox\" ><label for=\"sk-estimator-id-213\" class=\"sk-toggleable__label sk-toggleable__label-arrow\">cat</label><div class=\"sk-toggleable__content\"><pre>[&#x27;f_property_type&#x27;, &#x27;f_room_type&#x27;, &#x27;f_neighbourhood_cleansed&#x27;, &#x27;f_host_response_time&#x27;]</pre></div></div></div><div class=\"sk-serial\"><div class=\"sk-item\"><div class=\"sk-estimator sk-toggleable\"><input class=\"sk-toggleable__control sk-hidden--visually\" id=\"sk-estimator-id-214\" type=\"checkbox\" ><label for=\"sk-estimator-id-214\" class=\"sk-toggleable__label sk-toggleable__label-arrow\">OneHotEncoder</label><div class=\"sk-toggleable__content\"><pre>OneHotEncoder(handle_unknown=&#x27;ignore&#x27;)</pre></div></div></div></div></div></div><div class=\"sk-parallel-item\"><div class=\"sk-item\"><div class=\"sk-label-container\"><div class=\"sk-label sk-toggleable\"><input class=\"sk-toggleable__control sk-hidden--visually\" id=\"sk-estimator-id-215\" type=\"checkbox\" ><label for=\"sk-estimator-id-215\" class=\"sk-toggleable__label sk-toggleable__label-arrow\">num</label><div class=\"sk-toggleable__content\"><pre>[&#x27;n_accommodates&#x27;, &#x27;n_beds&#x27;, &#x27;n_bathrooms&#x27;, &#x27;n_availability_90&#x27;, &#x27;n_maximum_nights&#x27;, &#x27;n_host_response_rate&#x27;, &#x27;n_host_acceptance_rate&#x27;, &#x27;n_number_of_reviews&#x27;, &#x27;n_review_scores_rating&#x27;, &#x27;d_host_is_superhost&#x27;]</pre></div></div></div><div class=\"sk-serial\"><div class=\"sk-item\"><div class=\"sk-estimator sk-toggleable\"><input class=\"sk-toggleable__control sk-hidden--visually\" id=\"sk-estimator-id-216\" type=\"checkbox\" ><label for=\"sk-estimator-id-216\" class=\"sk-toggleable__label sk-toggleable__label-arrow\">passthrough</label><div class=\"sk-toggleable__content\"><pre>passthrough</pre></div></div></div></div></div></div></div></div><div class=\"sk-item\"><div class=\"sk-estimator sk-toggleable\"><input class=\"sk-toggleable__control sk-hidden--visually\" id=\"sk-estimator-id-217\" type=\"checkbox\" ><label for=\"sk-estimator-id-217\" class=\"sk-toggleable__label sk-toggleable__label-arrow\">RandomForestRegressor</label><div class=\"sk-toggleable__content\"><pre>RandomForestRegressor(max_features=10, min_samples_leaf=5, random_state=42)</pre></div></div></div></div></div></div></div>"
      ],
      "text/plain": [
       "Pipeline(steps=[('preprocess',\n",
       "                 ColumnTransformer(transformers=[('cat',\n",
       "                                                  OneHotEncoder(handle_unknown='ignore'),\n",
       "                                                  ['f_property_type',\n",
       "                                                   'f_room_type',\n",
       "                                                   'f_neighbourhood_cleansed',\n",
       "                                                   'f_host_response_time']),\n",
       "                                                 ('num', 'passthrough',\n",
       "                                                  ['n_accommodates', 'n_beds',\n",
       "                                                   'n_bathrooms',\n",
       "                                                   'n_availability_90',\n",
       "                                                   'n_maximum_nights',\n",
       "                                                   'n_host_response_rate',\n",
       "                                                   'n_host_acceptance_rate',\n",
       "                                                   'n_number_of_reviews',\n",
       "                                                   'n_review_scores_rating',\n",
       "                                                   'd_host_is_superhost'])])),\n",
       "                ('regressor',\n",
       "                 RandomForestRegressor(max_features=10, min_samples_leaf=5,\n",
       "                                       random_state=42))])"
      ]
     },
     "execution_count": 1033,
     "metadata": {},
     "output_type": "execute_result"
    }
   ],
   "source": [
    "%%time\n",
    "rf_pipeline.fit(data_train[predictors_2],data_train.price)"
   ]
  },
  {
   "cell_type": "code",
   "execution_count": 1034,
   "metadata": {},
   "outputs": [
    {
     "name": "stdout",
     "output_type": "stream",
     "text": [
      "CPU times: user 166 ms, sys: 1.96 ms, total: 168 ms\n",
      "Wall time: 167 ms\n"
     ]
    },
    {
     "data": {
      "text/html": [
       "<style>#sk-container-id-54 {color: black;}#sk-container-id-54 pre{padding: 0;}#sk-container-id-54 div.sk-toggleable {background-color: white;}#sk-container-id-54 label.sk-toggleable__label {cursor: pointer;display: block;width: 100%;margin-bottom: 0;padding: 0.3em;box-sizing: border-box;text-align: center;}#sk-container-id-54 label.sk-toggleable__label-arrow:before {content: \"▸\";float: left;margin-right: 0.25em;color: #696969;}#sk-container-id-54 label.sk-toggleable__label-arrow:hover:before {color: black;}#sk-container-id-54 div.sk-estimator:hover label.sk-toggleable__label-arrow:before {color: black;}#sk-container-id-54 div.sk-toggleable__content {max-height: 0;max-width: 0;overflow: hidden;text-align: left;background-color: #f0f8ff;}#sk-container-id-54 div.sk-toggleable__content pre {margin: 0.2em;color: black;border-radius: 0.25em;background-color: #f0f8ff;}#sk-container-id-54 input.sk-toggleable__control:checked~div.sk-toggleable__content {max-height: 200px;max-width: 100%;overflow: auto;}#sk-container-id-54 input.sk-toggleable__control:checked~label.sk-toggleable__label-arrow:before {content: \"▾\";}#sk-container-id-54 div.sk-estimator input.sk-toggleable__control:checked~label.sk-toggleable__label {background-color: #d4ebff;}#sk-container-id-54 div.sk-label input.sk-toggleable__control:checked~label.sk-toggleable__label {background-color: #d4ebff;}#sk-container-id-54 input.sk-hidden--visually {border: 0;clip: rect(1px 1px 1px 1px);clip: rect(1px, 1px, 1px, 1px);height: 1px;margin: -1px;overflow: hidden;padding: 0;position: absolute;width: 1px;}#sk-container-id-54 div.sk-estimator {font-family: monospace;background-color: #f0f8ff;border: 1px dotted black;border-radius: 0.25em;box-sizing: border-box;margin-bottom: 0.5em;}#sk-container-id-54 div.sk-estimator:hover {background-color: #d4ebff;}#sk-container-id-54 div.sk-parallel-item::after {content: \"\";width: 100%;border-bottom: 1px solid gray;flex-grow: 1;}#sk-container-id-54 div.sk-label:hover label.sk-toggleable__label {background-color: #d4ebff;}#sk-container-id-54 div.sk-serial::before {content: \"\";position: absolute;border-left: 1px solid gray;box-sizing: border-box;top: 0;bottom: 0;left: 50%;z-index: 0;}#sk-container-id-54 div.sk-serial {display: flex;flex-direction: column;align-items: center;background-color: white;padding-right: 0.2em;padding-left: 0.2em;position: relative;}#sk-container-id-54 div.sk-item {position: relative;z-index: 1;}#sk-container-id-54 div.sk-parallel {display: flex;align-items: stretch;justify-content: center;background-color: white;position: relative;}#sk-container-id-54 div.sk-item::before, #sk-container-id-54 div.sk-parallel-item::before {content: \"\";position: absolute;border-left: 1px solid gray;box-sizing: border-box;top: 0;bottom: 0;left: 50%;z-index: -1;}#sk-container-id-54 div.sk-parallel-item {display: flex;flex-direction: column;z-index: 1;position: relative;background-color: white;}#sk-container-id-54 div.sk-parallel-item:first-child::after {align-self: flex-end;width: 50%;}#sk-container-id-54 div.sk-parallel-item:last-child::after {align-self: flex-start;width: 50%;}#sk-container-id-54 div.sk-parallel-item:only-child::after {width: 0;}#sk-container-id-54 div.sk-dashed-wrapped {border: 1px dashed gray;margin: 0 0.4em 0.5em 0.4em;box-sizing: border-box;padding-bottom: 0.4em;background-color: white;}#sk-container-id-54 div.sk-label label {font-family: monospace;font-weight: bold;display: inline-block;line-height: 1.2em;}#sk-container-id-54 div.sk-label-container {text-align: center;}#sk-container-id-54 div.sk-container {/* jupyter's `normalize.less` sets `[hidden] { display: none; }` but bootstrap.min.css set `[hidden] { display: none !important; }` so we also need the `!important` here to be able to override the default hidden behavior on the sphinx rendered scikit-learn.org. See: https://github.com/scikit-learn/scikit-learn/issues/21755 */display: inline-block !important;position: relative;}#sk-container-id-54 div.sk-text-repr-fallback {display: none;}</style><div id=\"sk-container-id-54\" class=\"sk-top-container\"><div class=\"sk-text-repr-fallback\"><pre>Pipeline(steps=[(&#x27;preprocess&#x27;,\n",
       "                 ColumnTransformer(transformers=[(&#x27;cat&#x27;,\n",
       "                                                  OneHotEncoder(handle_unknown=&#x27;ignore&#x27;),\n",
       "                                                  [&#x27;f_property_type&#x27;,\n",
       "                                                   &#x27;f_room_type&#x27;,\n",
       "                                                   &#x27;f_neighbourhood_cleansed&#x27;,\n",
       "                                                   &#x27;f_host_response_time&#x27;]),\n",
       "                                                 (&#x27;num&#x27;, &#x27;passthrough&#x27;,\n",
       "                                                  [&#x27;n_accommodates&#x27;, &#x27;n_beds&#x27;,\n",
       "                                                   &#x27;n_bathrooms&#x27;,\n",
       "                                                   &#x27;n_availability_90&#x27;,\n",
       "                                                   &#x27;n_maximum_nights&#x27;,\n",
       "                                                   &#x27;n_host_response_rate&#x27;,\n",
       "                                                   &#x27;n_host_acceptance_rate&#x27;,\n",
       "                                                   &#x27;n_number_of_reviews&#x27;,\n",
       "                                                   &#x27;n_review_scores_rating&#x27;,\n",
       "                                                   &#x27;d_host_is_superhost&#x27;])])),\n",
       "                (&#x27;regressor&#x27;,\n",
       "                 RandomForestRegressor(max_features=12, min_samples_leaf=5,\n",
       "                                       random_state=42))])</pre><b>In a Jupyter environment, please rerun this cell to show the HTML representation or trust the notebook. <br />On GitHub, the HTML representation is unable to render, please try loading this page with nbviewer.org.</b></div><div class=\"sk-container\" hidden><div class=\"sk-item sk-dashed-wrapped\"><div class=\"sk-label-container\"><div class=\"sk-label sk-toggleable\"><input class=\"sk-toggleable__control sk-hidden--visually\" id=\"sk-estimator-id-218\" type=\"checkbox\" ><label for=\"sk-estimator-id-218\" class=\"sk-toggleable__label sk-toggleable__label-arrow\">Pipeline</label><div class=\"sk-toggleable__content\"><pre>Pipeline(steps=[(&#x27;preprocess&#x27;,\n",
       "                 ColumnTransformer(transformers=[(&#x27;cat&#x27;,\n",
       "                                                  OneHotEncoder(handle_unknown=&#x27;ignore&#x27;),\n",
       "                                                  [&#x27;f_property_type&#x27;,\n",
       "                                                   &#x27;f_room_type&#x27;,\n",
       "                                                   &#x27;f_neighbourhood_cleansed&#x27;,\n",
       "                                                   &#x27;f_host_response_time&#x27;]),\n",
       "                                                 (&#x27;num&#x27;, &#x27;passthrough&#x27;,\n",
       "                                                  [&#x27;n_accommodates&#x27;, &#x27;n_beds&#x27;,\n",
       "                                                   &#x27;n_bathrooms&#x27;,\n",
       "                                                   &#x27;n_availability_90&#x27;,\n",
       "                                                   &#x27;n_maximum_nights&#x27;,\n",
       "                                                   &#x27;n_host_response_rate&#x27;,\n",
       "                                                   &#x27;n_host_acceptance_rate&#x27;,\n",
       "                                                   &#x27;n_number_of_reviews&#x27;,\n",
       "                                                   &#x27;n_review_scores_rating&#x27;,\n",
       "                                                   &#x27;d_host_is_superhost&#x27;])])),\n",
       "                (&#x27;regressor&#x27;,\n",
       "                 RandomForestRegressor(max_features=12, min_samples_leaf=5,\n",
       "                                       random_state=42))])</pre></div></div></div><div class=\"sk-serial\"><div class=\"sk-item sk-dashed-wrapped\"><div class=\"sk-label-container\"><div class=\"sk-label sk-toggleable\"><input class=\"sk-toggleable__control sk-hidden--visually\" id=\"sk-estimator-id-219\" type=\"checkbox\" ><label for=\"sk-estimator-id-219\" class=\"sk-toggleable__label sk-toggleable__label-arrow\">preprocess: ColumnTransformer</label><div class=\"sk-toggleable__content\"><pre>ColumnTransformer(transformers=[(&#x27;cat&#x27;, OneHotEncoder(handle_unknown=&#x27;ignore&#x27;),\n",
       "                                 [&#x27;f_property_type&#x27;, &#x27;f_room_type&#x27;,\n",
       "                                  &#x27;f_neighbourhood_cleansed&#x27;,\n",
       "                                  &#x27;f_host_response_time&#x27;]),\n",
       "                                (&#x27;num&#x27;, &#x27;passthrough&#x27;,\n",
       "                                 [&#x27;n_accommodates&#x27;, &#x27;n_beds&#x27;, &#x27;n_bathrooms&#x27;,\n",
       "                                  &#x27;n_availability_90&#x27;, &#x27;n_maximum_nights&#x27;,\n",
       "                                  &#x27;n_host_response_rate&#x27;,\n",
       "                                  &#x27;n_host_acceptance_rate&#x27;,\n",
       "                                  &#x27;n_number_of_reviews&#x27;,\n",
       "                                  &#x27;n_review_scores_rating&#x27;,\n",
       "                                  &#x27;d_host_is_superhost&#x27;])])</pre></div></div></div><div class=\"sk-parallel\"><div class=\"sk-parallel-item\"><div class=\"sk-item\"><div class=\"sk-label-container\"><div class=\"sk-label sk-toggleable\"><input class=\"sk-toggleable__control sk-hidden--visually\" id=\"sk-estimator-id-220\" type=\"checkbox\" ><label for=\"sk-estimator-id-220\" class=\"sk-toggleable__label sk-toggleable__label-arrow\">cat</label><div class=\"sk-toggleable__content\"><pre>[&#x27;f_property_type&#x27;, &#x27;f_room_type&#x27;, &#x27;f_neighbourhood_cleansed&#x27;, &#x27;f_host_response_time&#x27;]</pre></div></div></div><div class=\"sk-serial\"><div class=\"sk-item\"><div class=\"sk-estimator sk-toggleable\"><input class=\"sk-toggleable__control sk-hidden--visually\" id=\"sk-estimator-id-221\" type=\"checkbox\" ><label for=\"sk-estimator-id-221\" class=\"sk-toggleable__label sk-toggleable__label-arrow\">OneHotEncoder</label><div class=\"sk-toggleable__content\"><pre>OneHotEncoder(handle_unknown=&#x27;ignore&#x27;)</pre></div></div></div></div></div></div><div class=\"sk-parallel-item\"><div class=\"sk-item\"><div class=\"sk-label-container\"><div class=\"sk-label sk-toggleable\"><input class=\"sk-toggleable__control sk-hidden--visually\" id=\"sk-estimator-id-222\" type=\"checkbox\" ><label for=\"sk-estimator-id-222\" class=\"sk-toggleable__label sk-toggleable__label-arrow\">num</label><div class=\"sk-toggleable__content\"><pre>[&#x27;n_accommodates&#x27;, &#x27;n_beds&#x27;, &#x27;n_bathrooms&#x27;, &#x27;n_availability_90&#x27;, &#x27;n_maximum_nights&#x27;, &#x27;n_host_response_rate&#x27;, &#x27;n_host_acceptance_rate&#x27;, &#x27;n_number_of_reviews&#x27;, &#x27;n_review_scores_rating&#x27;, &#x27;d_host_is_superhost&#x27;]</pre></div></div></div><div class=\"sk-serial\"><div class=\"sk-item\"><div class=\"sk-estimator sk-toggleable\"><input class=\"sk-toggleable__control sk-hidden--visually\" id=\"sk-estimator-id-223\" type=\"checkbox\" ><label for=\"sk-estimator-id-223\" class=\"sk-toggleable__label sk-toggleable__label-arrow\">passthrough</label><div class=\"sk-toggleable__content\"><pre>passthrough</pre></div></div></div></div></div></div></div></div><div class=\"sk-item\"><div class=\"sk-estimator sk-toggleable\"><input class=\"sk-toggleable__control sk-hidden--visually\" id=\"sk-estimator-id-224\" type=\"checkbox\" ><label for=\"sk-estimator-id-224\" class=\"sk-toggleable__label sk-toggleable__label-arrow\">RandomForestRegressor</label><div class=\"sk-toggleable__content\"><pre>RandomForestRegressor(max_features=12, min_samples_leaf=5, random_state=42)</pre></div></div></div></div></div></div></div>"
      ],
      "text/plain": [
       "Pipeline(steps=[('preprocess',\n",
       "                 ColumnTransformer(transformers=[('cat',\n",
       "                                                  OneHotEncoder(handle_unknown='ignore'),\n",
       "                                                  ['f_property_type',\n",
       "                                                   'f_room_type',\n",
       "                                                   'f_neighbourhood_cleansed',\n",
       "                                                   'f_host_response_time']),\n",
       "                                                 ('num', 'passthrough',\n",
       "                                                  ['n_accommodates', 'n_beds',\n",
       "                                                   'n_bathrooms',\n",
       "                                                   'n_availability_90',\n",
       "                                                   'n_maximum_nights',\n",
       "                                                   'n_host_response_rate',\n",
       "                                                   'n_host_acceptance_rate',\n",
       "                                                   'n_number_of_reviews',\n",
       "                                                   'n_review_scores_rating',\n",
       "                                                   'd_host_is_superhost'])])),\n",
       "                ('regressor',\n",
       "                 RandomForestRegressor(max_features=12, min_samples_leaf=5,\n",
       "                                       random_state=42))])"
      ]
     },
     "execution_count": 1034,
     "metadata": {},
     "output_type": "execute_result"
    }
   ],
   "source": [
    "%%time\n",
    "rf_pipeline2.fit(data_train[predictors_2],data_train.ln_price)"
   ]
  },
  {
   "cell_type": "code",
   "execution_count": 1035,
   "metadata": {
    "tags": []
   },
   "outputs": [
    {
     "name": "stdout",
     "output_type": "stream",
     "text": [
      "CPU times: user 738 ms, sys: 3.28 ms, total: 742 ms\n",
      "Wall time: 741 ms\n"
     ]
    }
   ],
   "source": [
    "%%time\n",
    "result = permutation_importance(\n",
    "    rf_pipeline,\n",
    "    data_holdout[predictors_2],\n",
    "    data_holdout.price,\n",
    "    n_repeats=10,\n",
    "    random_state=45,\n",
    ")"
   ]
  },
  {
   "cell_type": "code",
   "execution_count": 1036,
   "metadata": {
    "tags": []
   },
   "outputs": [
    {
     "data": {
      "text/html": [
       "<div>\n",
       "<style scoped>\n",
       "    .dataframe tbody tr th:only-of-type {\n",
       "        vertical-align: middle;\n",
       "    }\n",
       "\n",
       "    .dataframe tbody tr th {\n",
       "        vertical-align: top;\n",
       "    }\n",
       "\n",
       "    .dataframe thead th {\n",
       "        text-align: right;\n",
       "    }\n",
       "</style>\n",
       "<table border=\"1\" class=\"dataframe\">\n",
       "  <thead>\n",
       "    <tr style=\"text-align: right;\">\n",
       "      <th></th>\n",
       "      <th>0</th>\n",
       "    </tr>\n",
       "  </thead>\n",
       "  <tbody>\n",
       "    <tr>\n",
       "      <th>n_accommodates</th>\n",
       "      <td>0.040229</td>\n",
       "    </tr>\n",
       "    <tr>\n",
       "      <th>n_beds</th>\n",
       "      <td>0.035192</td>\n",
       "    </tr>\n",
       "    <tr>\n",
       "      <th>f_property_type</th>\n",
       "      <td>0.003505</td>\n",
       "    </tr>\n",
       "    <tr>\n",
       "      <th>f_room_type</th>\n",
       "      <td>0.040206</td>\n",
       "    </tr>\n",
       "    <tr>\n",
       "      <th>n_bathrooms</th>\n",
       "      <td>0.205473</td>\n",
       "    </tr>\n",
       "    <tr>\n",
       "      <th>f_neighbourhood_cleansed</th>\n",
       "      <td>0.026416</td>\n",
       "    </tr>\n",
       "    <tr>\n",
       "      <th>n_availability_90</th>\n",
       "      <td>0.011035</td>\n",
       "    </tr>\n",
       "    <tr>\n",
       "      <th>n_maximum_nights</th>\n",
       "      <td>0.022245</td>\n",
       "    </tr>\n",
       "    <tr>\n",
       "      <th>f_host_response_time</th>\n",
       "      <td>-0.000248</td>\n",
       "    </tr>\n",
       "    <tr>\n",
       "      <th>n_host_response_rate</th>\n",
       "      <td>0.021490</td>\n",
       "    </tr>\n",
       "    <tr>\n",
       "      <th>n_host_acceptance_rate</th>\n",
       "      <td>0.002834</td>\n",
       "    </tr>\n",
       "    <tr>\n",
       "      <th>n_number_of_reviews</th>\n",
       "      <td>0.053304</td>\n",
       "    </tr>\n",
       "    <tr>\n",
       "      <th>n_review_scores_rating</th>\n",
       "      <td>0.027173</td>\n",
       "    </tr>\n",
       "    <tr>\n",
       "      <th>d_host_is_superhost</th>\n",
       "      <td>0.005743</td>\n",
       "    </tr>\n",
       "  </tbody>\n",
       "</table>\n",
       "</div>"
      ],
      "text/plain": [
       "                                 0\n",
       "n_accommodates            0.040229\n",
       "n_beds                    0.035192\n",
       "f_property_type           0.003505\n",
       "f_room_type               0.040206\n",
       "n_bathrooms               0.205473\n",
       "f_neighbourhood_cleansed  0.026416\n",
       "n_availability_90         0.011035\n",
       "n_maximum_nights          0.022245\n",
       "f_host_response_time     -0.000248\n",
       "n_host_response_rate      0.021490\n",
       "n_host_acceptance_rate    0.002834\n",
       "n_number_of_reviews       0.053304\n",
       "n_review_scores_rating    0.027173\n",
       "d_host_is_superhost       0.005743"
      ]
     },
     "execution_count": 1036,
     "metadata": {},
     "output_type": "execute_result"
    }
   ],
   "source": [
    "pd.DataFrame(\n",
    "        result.importances_mean,\n",
    "        data_train[predictors_2].columns)"
   ]
  },
  {
   "cell_type": "code",
   "execution_count": 1037,
   "metadata": {},
   "outputs": [],
   "source": [
    "grouped = [\n",
    "    \"n_beds\",\n",
    "    \"f_property_type\",\n",
    "    \"f_room_type\",\n",
    "    \"n_accommodates\",\n",
    "    \"n_bathrooms\",\n",
    "    \"f_neighbourhood_cleansed\",\n",
    "    \"n_availability_90\",\n",
    "    \"n_maximum_nights\",\n",
    "    \"f_host_response_time\",\n",
    "    \"n_host_response_rate\",\n",
    "    \"n_host_acceptance_rate\",\n",
    "    \"n_number_of_reviews\",\n",
    "    \"n_review_scores_rating\",\n",
    "    \"d_host_is_superhost\"\n",
    "]"
   ]
  },
  {
   "cell_type": "code",
   "execution_count": 1038,
   "metadata": {
    "tags": []
   },
   "outputs": [],
   "source": [
    "df_grouped_var_imp = pd.DataFrame(\n",
    "        result.importances_mean,\n",
    "        data_train[predictors_2].columns)\\\n",
    "    .loc[grouped]\\\n",
    "    .sort_values(by = 0, ascending = False)\\\n",
    "    .reset_index()\\\n",
    "    .rename({'index': 'variable', 0: 'imp'}, axis = 1)\n",
    "df_grouped_var_imp['cumulative_imp'] = df_grouped_var_imp.imp.cumsum()"
   ]
  },
  {
   "cell_type": "code",
   "execution_count": 1039,
   "metadata": {
    "tags": []
   },
   "outputs": [
    {
     "data": {
      "text/html": [
       "<style type=\"text/css\">\n",
       "</style>\n",
       "<table id=\"T_89ab6\">\n",
       "  <thead>\n",
       "    <tr>\n",
       "      <th class=\"blank level0\" >&nbsp;</th>\n",
       "      <th id=\"T_89ab6_level0_col0\" class=\"col_heading level0 col0\" >variable</th>\n",
       "      <th id=\"T_89ab6_level0_col1\" class=\"col_heading level0 col1\" >imp</th>\n",
       "      <th id=\"T_89ab6_level0_col2\" class=\"col_heading level0 col2\" >cumulative_imp</th>\n",
       "    </tr>\n",
       "  </thead>\n",
       "  <tbody>\n",
       "    <tr>\n",
       "      <th id=\"T_89ab6_level0_row0\" class=\"row_heading level0 row0\" >0</th>\n",
       "      <td id=\"T_89ab6_row0_col0\" class=\"data row0 col0\" >n_bathrooms</td>\n",
       "      <td id=\"T_89ab6_row0_col1\" class=\"data row0 col1\" >20.5%</td>\n",
       "      <td id=\"T_89ab6_row0_col2\" class=\"data row0 col2\" >20.5%</td>\n",
       "    </tr>\n",
       "    <tr>\n",
       "      <th id=\"T_89ab6_level0_row1\" class=\"row_heading level0 row1\" >1</th>\n",
       "      <td id=\"T_89ab6_row1_col0\" class=\"data row1 col0\" >n_number_of_reviews</td>\n",
       "      <td id=\"T_89ab6_row1_col1\" class=\"data row1 col1\" >5.3%</td>\n",
       "      <td id=\"T_89ab6_row1_col2\" class=\"data row1 col2\" >25.9%</td>\n",
       "    </tr>\n",
       "    <tr>\n",
       "      <th id=\"T_89ab6_level0_row2\" class=\"row_heading level0 row2\" >2</th>\n",
       "      <td id=\"T_89ab6_row2_col0\" class=\"data row2 col0\" >n_accommodates</td>\n",
       "      <td id=\"T_89ab6_row2_col1\" class=\"data row2 col1\" >4.0%</td>\n",
       "      <td id=\"T_89ab6_row2_col2\" class=\"data row2 col2\" >29.9%</td>\n",
       "    </tr>\n",
       "    <tr>\n",
       "      <th id=\"T_89ab6_level0_row3\" class=\"row_heading level0 row3\" >3</th>\n",
       "      <td id=\"T_89ab6_row3_col0\" class=\"data row3 col0\" >f_room_type</td>\n",
       "      <td id=\"T_89ab6_row3_col1\" class=\"data row3 col1\" >4.0%</td>\n",
       "      <td id=\"T_89ab6_row3_col2\" class=\"data row3 col2\" >33.9%</td>\n",
       "    </tr>\n",
       "    <tr>\n",
       "      <th id=\"T_89ab6_level0_row4\" class=\"row_heading level0 row4\" >4</th>\n",
       "      <td id=\"T_89ab6_row4_col0\" class=\"data row4 col0\" >n_beds</td>\n",
       "      <td id=\"T_89ab6_row4_col1\" class=\"data row4 col1\" >3.5%</td>\n",
       "      <td id=\"T_89ab6_row4_col2\" class=\"data row4 col2\" >37.4%</td>\n",
       "    </tr>\n",
       "    <tr>\n",
       "      <th id=\"T_89ab6_level0_row5\" class=\"row_heading level0 row5\" >5</th>\n",
       "      <td id=\"T_89ab6_row5_col0\" class=\"data row5 col0\" >n_review_scores_rating</td>\n",
       "      <td id=\"T_89ab6_row5_col1\" class=\"data row5 col1\" >2.7%</td>\n",
       "      <td id=\"T_89ab6_row5_col2\" class=\"data row5 col2\" >40.2%</td>\n",
       "    </tr>\n",
       "    <tr>\n",
       "      <th id=\"T_89ab6_level0_row6\" class=\"row_heading level0 row6\" >6</th>\n",
       "      <td id=\"T_89ab6_row6_col0\" class=\"data row6 col0\" >f_neighbourhood_cleansed</td>\n",
       "      <td id=\"T_89ab6_row6_col1\" class=\"data row6 col1\" >2.6%</td>\n",
       "      <td id=\"T_89ab6_row6_col2\" class=\"data row6 col2\" >42.8%</td>\n",
       "    </tr>\n",
       "    <tr>\n",
       "      <th id=\"T_89ab6_level0_row7\" class=\"row_heading level0 row7\" >7</th>\n",
       "      <td id=\"T_89ab6_row7_col0\" class=\"data row7 col0\" >n_maximum_nights</td>\n",
       "      <td id=\"T_89ab6_row7_col1\" class=\"data row7 col1\" >2.2%</td>\n",
       "      <td id=\"T_89ab6_row7_col2\" class=\"data row7 col2\" >45.0%</td>\n",
       "    </tr>\n",
       "    <tr>\n",
       "      <th id=\"T_89ab6_level0_row8\" class=\"row_heading level0 row8\" >8</th>\n",
       "      <td id=\"T_89ab6_row8_col0\" class=\"data row8 col0\" >n_host_response_rate</td>\n",
       "      <td id=\"T_89ab6_row8_col1\" class=\"data row8 col1\" >2.1%</td>\n",
       "      <td id=\"T_89ab6_row8_col2\" class=\"data row8 col2\" >47.2%</td>\n",
       "    </tr>\n",
       "    <tr>\n",
       "      <th id=\"T_89ab6_level0_row9\" class=\"row_heading level0 row9\" >9</th>\n",
       "      <td id=\"T_89ab6_row9_col0\" class=\"data row9 col0\" >n_availability_90</td>\n",
       "      <td id=\"T_89ab6_row9_col1\" class=\"data row9 col1\" >1.1%</td>\n",
       "      <td id=\"T_89ab6_row9_col2\" class=\"data row9 col2\" >48.3%</td>\n",
       "    </tr>\n",
       "    <tr>\n",
       "      <th id=\"T_89ab6_level0_row10\" class=\"row_heading level0 row10\" >10</th>\n",
       "      <td id=\"T_89ab6_row10_col0\" class=\"data row10 col0\" >d_host_is_superhost</td>\n",
       "      <td id=\"T_89ab6_row10_col1\" class=\"data row10 col1\" >0.6%</td>\n",
       "      <td id=\"T_89ab6_row10_col2\" class=\"data row10 col2\" >48.9%</td>\n",
       "    </tr>\n",
       "    <tr>\n",
       "      <th id=\"T_89ab6_level0_row11\" class=\"row_heading level0 row11\" >11</th>\n",
       "      <td id=\"T_89ab6_row11_col0\" class=\"data row11 col0\" >f_property_type</td>\n",
       "      <td id=\"T_89ab6_row11_col1\" class=\"data row11 col1\" >0.4%</td>\n",
       "      <td id=\"T_89ab6_row11_col2\" class=\"data row11 col2\" >49.2%</td>\n",
       "    </tr>\n",
       "    <tr>\n",
       "      <th id=\"T_89ab6_level0_row12\" class=\"row_heading level0 row12\" >12</th>\n",
       "      <td id=\"T_89ab6_row12_col0\" class=\"data row12 col0\" >n_host_acceptance_rate</td>\n",
       "      <td id=\"T_89ab6_row12_col1\" class=\"data row12 col1\" >0.3%</td>\n",
       "      <td id=\"T_89ab6_row12_col2\" class=\"data row12 col2\" >49.5%</td>\n",
       "    </tr>\n",
       "    <tr>\n",
       "      <th id=\"T_89ab6_level0_row13\" class=\"row_heading level0 row13\" >13</th>\n",
       "      <td id=\"T_89ab6_row13_col0\" class=\"data row13 col0\" >f_host_response_time</td>\n",
       "      <td id=\"T_89ab6_row13_col1\" class=\"data row13 col1\" >-0.0%</td>\n",
       "      <td id=\"T_89ab6_row13_col2\" class=\"data row13 col2\" >49.5%</td>\n",
       "    </tr>\n",
       "  </tbody>\n",
       "</table>\n"
      ],
      "text/plain": [
       "<pandas.io.formats.style.Styler at 0x2a0178a90>"
      ]
     },
     "execution_count": 1039,
     "metadata": {},
     "output_type": "execute_result"
    }
   ],
   "source": [
    "df_grouped_var_imp.style.format({\n",
    "    'imp': lambda x: f'{x:,.1%}',\n",
    "    'cumulative_imp': lambda x: f'{x:,.1%}'})"
   ]
  },
  {
   "cell_type": "code",
   "execution_count": 1040,
   "metadata": {},
   "outputs": [
    {
     "data": {
      "image/png": "[encoded data removed]",
      "text/plain": [
       "<Figure size 1000x600 with 1 Axes>"
      ]
     },
     "metadata": {},
     "output_type": "display_data"
    }
   ],
   "source": [
    "df_grouped_var_imp\\\n",
    "    .sort_values(by = 'imp')\\\n",
    "    .plot(kind = 'barh', \n",
    "          x = 'variable', y = 'imp', \n",
    "          figsize = (10,6), grid = True, \n",
    "          title = 'Random forest model grouped feature importances', \n",
    "          xlabel = 'variables', legend = False\n",
    "         );"
   ]
  },
  {
   "cell_type": "code",
   "execution_count": 1041,
   "metadata": {
    "tags": []
   },
   "outputs": [
    {
     "data": {
      "text/html": [
       "<div>\n",
       "<style scoped>\n",
       "    .dataframe tbody tr th:only-of-type {\n",
       "        vertical-align: middle;\n",
       "    }\n",
       "\n",
       "    .dataframe tbody tr th {\n",
       "        vertical-align: top;\n",
       "    }\n",
       "\n",
       "    .dataframe thead th {\n",
       "        text-align: right;\n",
       "    }\n",
       "</style>\n",
       "<table border=\"1\" class=\"dataframe\">\n",
       "  <thead>\n",
       "    <tr style=\"text-align: right;\">\n",
       "      <th></th>\n",
       "      <th>variable</th>\n",
       "      <th>imp</th>\n",
       "      <th>cumulative_imp</th>\n",
       "    </tr>\n",
       "  </thead>\n",
       "  <tbody>\n",
       "    <tr>\n",
       "      <th>0</th>\n",
       "      <td>n_bathrooms</td>\n",
       "      <td>0.205473</td>\n",
       "      <td>0.251491</td>\n",
       "    </tr>\n",
       "    <tr>\n",
       "      <th>1</th>\n",
       "      <td>n_number_of_reviews</td>\n",
       "      <td>0.053304</td>\n",
       "      <td>0.363937</td>\n",
       "    </tr>\n",
       "    <tr>\n",
       "      <th>2</th>\n",
       "      <td>n_accommodates</td>\n",
       "      <td>0.040229</td>\n",
       "      <td>0.461792</td>\n",
       "    </tr>\n",
       "    <tr>\n",
       "      <th>3</th>\n",
       "      <td>f_room_type</td>\n",
       "      <td>0.040206</td>\n",
       "      <td>0.558097</td>\n",
       "    </tr>\n",
       "    <tr>\n",
       "      <th>4</th>\n",
       "      <td>n_beds</td>\n",
       "      <td>0.035192</td>\n",
       "      <td>0.654099</td>\n",
       "    </tr>\n",
       "    <tr>\n",
       "      <th>5</th>\n",
       "      <td>n_review_scores_rating</td>\n",
       "      <td>0.027173</td>\n",
       "      <td>0.746874</td>\n",
       "    </tr>\n",
       "    <tr>\n",
       "      <th>6</th>\n",
       "      <td>f_neighbourhood_cleansed</td>\n",
       "      <td>0.026416</td>\n",
       "      <td>0.803358</td>\n",
       "    </tr>\n",
       "    <tr>\n",
       "      <th>7</th>\n",
       "      <td>n_maximum_nights</td>\n",
       "      <td>0.022245</td>\n",
       "      <td>0.843956</td>\n",
       "    </tr>\n",
       "    <tr>\n",
       "      <th>8</th>\n",
       "      <td>n_host_response_rate</td>\n",
       "      <td>0.021490</td>\n",
       "      <td>0.878938</td>\n",
       "    </tr>\n",
       "  </tbody>\n",
       "</table>\n",
       "</div>"
      ],
      "text/plain": [
       "                   variable       imp  cumulative_imp\n",
       "0               n_bathrooms  0.205473        0.251491\n",
       "1       n_number_of_reviews  0.053304        0.363937\n",
       "2            n_accommodates  0.040229        0.461792\n",
       "3               f_room_type  0.040206        0.558097\n",
       "4                    n_beds  0.035192        0.654099\n",
       "5    n_review_scores_rating  0.027173        0.746874\n",
       "6  f_neighbourhood_cleansed  0.026416        0.803358\n",
       "7          n_maximum_nights  0.022245        0.843956\n",
       "8      n_host_response_rate  0.021490        0.878938"
      ]
     },
     "execution_count": 1041,
     "metadata": {},
     "output_type": "execute_result"
    }
   ],
   "source": [
    "df_clean_varimp = pd.DataFrame(\n",
    "        result.importances_mean,\n",
    "        data_train[predictors_2].columns)\\\n",
    "    .sort_values(by = 0, ascending = False)\\\n",
    "    .reset_index()\\\n",
    "    .rename({'index': 'variable', 0: 'imp'}, axis = 1)\n",
    "\n",
    "df_clean_varimp['cumulative_imp'] = df_var_imp['imp'].cumsum()\n",
    "df_clean_varimp[df_clean_varimp.cumulative_imp < 0.91]"
   ]
  },
  {
   "cell_type": "code",
   "execution_count": 1042,
   "metadata": {
    "tags": []
   },
   "outputs": [
    {
     "data": {
      "image/png": "[encoded data removed]",
      "text/plain": [
       "<Figure size 1000x600 with 1 Axes>"
      ]
     },
     "metadata": {},
     "output_type": "display_data"
    }
   ],
   "source": [
    "df_clean_varimp.iloc[0:10]\\\n",
    "    .sort_values(by = 'imp')\\\n",
    "    .plot(kind = 'barh', \n",
    "          x = 'variable', y = 'imp', \n",
    "          figsize = (10,6), grid = True, \n",
    "          title = 'Random forest model top 10 feature importances with grouped variables', \n",
    "          xlabel = 'variables', legend = False\n",
    "         );"
   ]
  },
  {
   "cell_type": "markdown",
   "metadata": {},
   "source": [
    "Variable importances analysis show that, the most important factor (20%)for apartments in Florence is the 'n_baths' that the apartment can host. `n_number_reviews` and `n_accommodates` are the 2nd and 3th important factors, respectively."
   ]
  },
  {
   "cell_type": "markdown",
   "metadata": {},
   "source": [
    "**Partial dependence plots** "
   ]
  },
  {
   "cell_type": "markdown",
   "metadata": {
    "tags": []
   },
   "source": [
    "Partial dependence plots show the dependence between the target function and a set of features of interest, marginalizing over the values of all other features (the complement features). While feature importance shows what variables most affect predictions, partial dependence plots show how a feature affects predictions."
   ]
  },
  {
   "cell_type": "code",
   "execution_count": 1043,
   "metadata": {},
   "outputs": [],
   "source": [
    "# checking how number of accommodates (found to most important factor) affect prices\n",
    "bathrooms_pdp = partial_dependence(\n",
    "    rf_pipeline, data_holdout[predictors_2], [\"n_bathrooms\"], kind=\"average\"\n",
    ")"
   ]
  },
  {
   "cell_type": "code",
   "execution_count": 1044,
   "metadata": {},
   "outputs": [
    {
     "data": {
      "text/html": [
       "<div>\n",
       "<style scoped>\n",
       "    .dataframe tbody tr th:only-of-type {\n",
       "        vertical-align: middle;\n",
       "    }\n",
       "\n",
       "    .dataframe tbody tr th {\n",
       "        vertical-align: top;\n",
       "    }\n",
       "\n",
       "    .dataframe thead th {\n",
       "        text-align: right;\n",
       "    }\n",
       "</style>\n",
       "<table border=\"1\" class=\"dataframe\">\n",
       "  <thead>\n",
       "    <tr style=\"text-align: right;\">\n",
       "      <th></th>\n",
       "      <th>number of bathrooms</th>\n",
       "      <th>average price</th>\n",
       "    </tr>\n",
       "  </thead>\n",
       "  <tbody>\n",
       "    <tr>\n",
       "      <th>0</th>\n",
       "      <td>1.0</td>\n",
       "      <td>123.604621</td>\n",
       "    </tr>\n",
       "    <tr>\n",
       "      <th>1</th>\n",
       "      <td>1.5</td>\n",
       "      <td>135.346837</td>\n",
       "    </tr>\n",
       "    <tr>\n",
       "      <th>2</th>\n",
       "      <td>2.0</td>\n",
       "      <td>172.758288</td>\n",
       "    </tr>\n",
       "    <tr>\n",
       "      <th>3</th>\n",
       "      <td>2.5</td>\n",
       "      <td>193.596473</td>\n",
       "    </tr>\n",
       "    <tr>\n",
       "      <th>4</th>\n",
       "      <td>3.0</td>\n",
       "      <td>202.642299</td>\n",
       "    </tr>\n",
       "  </tbody>\n",
       "</table>\n",
       "</div>"
      ],
      "text/plain": [
       "   number of bathrooms  average price\n",
       "0                  1.0     123.604621\n",
       "1                  1.5     135.346837\n",
       "2                  2.0     172.758288\n",
       "3                  2.5     193.596473\n",
       "4                  3.0     202.642299"
      ]
     },
     "execution_count": 1044,
     "metadata": {},
     "output_type": "execute_result"
    }
   ],
   "source": [
    "pd.DataFrame(\n",
    "    {'number of bathrooms': bathrooms_pdp['values'][0], \n",
    "     'average price': bathrooms_pdp['average'][0]}\n",
    "    )"
   ]
  },
  {
   "cell_type": "code",
   "execution_count": 1104,
   "metadata": {},
   "outputs": [
    {
     "data": {
      "image/png": "[encoded data removed]",
      "text/plain": [
       "<Figure size 640x480 with 2 Axes>"
      ]
     },
     "metadata": {},
     "output_type": "display_data"
    },
    {
     "name": "stdout",
     "output_type": "stream",
     "text": [
      "[CV 3/5; 1/4] START max_depth=5, n_estimators=200...............................\n",
      "[CV 3/5; 1/4] END max_depth=5, n_estimators=200;, score=-61.478 total time=   0.2s\n",
      "[CV 3/5; 3/4] START max_depth=10, n_estimators=200..............................\n",
      "[CV 3/5; 3/4] END max_depth=10, n_estimators=200;, score=-64.226 total time=   0.3s\n",
      "[CV 5/5; 4/4] START max_depth=10, n_estimators=300..............................\n",
      "[CV 5/5; 4/4] END max_depth=10, n_estimators=300;, score=-71.261 total time=   0.4s\n",
      "[CV 5/5; 1/4] START max_depth=5, n_estimators=200...............................\n",
      "[CV 5/5; 1/4] END max_depth=5, n_estimators=200;, score=-0.390 total time=   0.2s\n",
      "[CV 3/5; 3/4] START max_depth=10, n_estimators=200..............................\n",
      "[CV 3/5; 3/4] END max_depth=10, n_estimators=200;, score=-0.410 total time=   0.4s\n",
      "[CV 1/5; 2/4] START max_depth=5, n_estimators=300...............................\n",
      "[CV 1/5; 2/4] END max_depth=5, n_estimators=300;, score=-75.139 total time=   0.3s\n",
      "[CV 5/5; 3/4] START max_depth=10, n_estimators=200..............................\n",
      "[CV 5/5; 3/4] END max_depth=10, n_estimators=200;, score=-70.609 total time=   0.3s\n",
      "[CV 1/5; 2/4] START max_depth=5, n_estimators=300...............................\n",
      "[CV 1/5; 2/4] END max_depth=5, n_estimators=300;, score=-0.409 total time=   0.3s\n",
      "[CV 4/5; 3/4] START max_depth=10, n_estimators=200..............................\n",
      "[CV 4/5; 3/4] END max_depth=10, n_estimators=200;, score=-0.411 total time=   0.3s\n",
      "[CV 5/5; 1/4] START max_depth=5, n_estimators=200...............................\n",
      "[CV 5/5; 1/4] END max_depth=5, n_estimators=200;, score=-66.539 total time=   0.2s\n",
      "[CV 4/5; 2/4] START max_depth=5, n_estimators=300...............................\n",
      "[CV 4/5; 2/4] END max_depth=5, n_estimators=300;, score=-64.522 total time=   0.3s\n",
      "[CV 2/5; 4/4] START max_depth=10, n_estimators=300..............................\n",
      "[CV 2/5; 4/4] END max_depth=10, n_estimators=300;, score=-67.841 total time=   0.4s\n",
      "[CV 2/5; 2/4] START max_depth=5, n_estimators=300...............................\n",
      "[CV 2/5; 2/4] END max_depth=5, n_estimators=300;, score=-0.389 total time=   0.3s\n",
      "[CV 5/5; 3/4] START max_depth=10, n_estimators=200..............................\n",
      "[CV 5/5; 3/4] END max_depth=10, n_estimators=200;, score=-0.397 total time=   0.4s\n",
      "[CV 1/5; 1/4] START max_depth=5, n_estimators=200...............................\n",
      "[CV 1/5; 1/4] END max_depth=5, n_estimators=200;, score=-73.977 total time=   0.2s\n",
      "[CV 5/5; 2/4] START max_depth=5, n_estimators=300...............................\n",
      "[CV 5/5; 2/4] END max_depth=5, n_estimators=300;, score=-68.891 total time=   0.3s\n",
      "[CV 3/5; 4/4] START max_depth=10, n_estimators=300..............................\n",
      "[CV 3/5; 4/4] END max_depth=10, n_estimators=300;, score=-65.959 total time=   0.4s\n",
      "[CV 3/5; 2/4] START max_depth=5, n_estimators=300...............................\n",
      "[CV 3/5; 2/4] END max_depth=5, n_estimators=300;, score=-0.404 total time=   0.3s\n",
      "[CV 1/5; 4/4] START max_depth=10, n_estimators=300..............................\n",
      "[CV 1/5; 4/4] END max_depth=10, n_estimators=300;, score=-0.419 total time=   0.5s\n",
      "[CV 2/5; 2/4] START max_depth=5, n_estimators=300...............................\n",
      "[CV 2/5; 2/4] END max_depth=5, n_estimators=300;, score=-65.127 total time=   0.3s\n",
      "[CV 4/5; 3/4] START max_depth=10, n_estimators=200..............................\n",
      "[CV 4/5; 3/4] END max_depth=10, n_estimators=200;, score=-65.899 total time=   0.3s\n",
      "[CV 2/5; 1/4] START max_depth=5, n_estimators=200...............................\n",
      "[CV 2/5; 1/4] END max_depth=5, n_estimators=200;, score=-0.390 total time=   0.2s\n",
      "[CV 4/5; 2/4] START max_depth=5, n_estimators=300...............................\n",
      "[CV 4/5; 2/4] END max_depth=5, n_estimators=300;, score=-0.393 total time=   0.3s\n",
      "[CV 2/5; 4/4] START max_depth=10, n_estimators=300..............................\n",
      "[CV 2/5; 4/4] END max_depth=10, n_estimators=300;, score=-0.405 total time=   0.5s\n",
      "[CV 3/5; 2/4] START max_depth=5, n_estimators=300...............................\n",
      "[CV 3/5; 2/4] END max_depth=5, n_estimators=300;, score=-64.076 total time=   0.3s\n",
      "[CV 1/5; 4/4] START max_depth=10, n_estimators=300..............................\n",
      "[CV 1/5; 4/4] END max_depth=10, n_estimators=300;, score=-76.823 total time=   0.5s\n",
      "[CV 4/5; 1/4] START max_depth=5, n_estimators=200...............................\n",
      "[CV 4/5; 1/4] END max_depth=5, n_estimators=200;, score=-0.394 total time=   0.2s\n",
      "[CV 5/5; 2/4] START max_depth=5, n_estimators=300...............................\n",
      "[CV 5/5; 2/4] END max_depth=5, n_estimators=300;, score=-0.386 total time=   0.3s\n",
      "[CV 3/5; 4/4] START max_depth=10, n_estimators=300..............................\n",
      "[CV 3/5; 4/4] END max_depth=10, n_estimators=300;, score=-0.402 total time=   0.5s\n",
      "[CV 2/5; 1/4] START max_depth=5, n_estimators=200...............................\n",
      "[CV 2/5; 1/4] END max_depth=5, n_estimators=200;, score=-63.821 total time=   0.2s\n",
      "[CV 2/5; 3/4] START max_depth=10, n_estimators=200..............................\n",
      "[CV 2/5; 3/4] END max_depth=10, n_estimators=200;, score=-67.980 total time=   0.3s\n",
      "[CV 1/5; 1/4] START max_depth=5, n_estimators=200...............................\n",
      "[CV 1/5; 1/4] END max_depth=5, n_estimators=200;, score=-0.408 total time=   0.2s\n",
      "[CV 1/5; 3/4] START max_depth=10, n_estimators=200..............................\n",
      "[CV 1/5; 3/4] END max_depth=10, n_estimators=200;, score=-0.413 total time=   0.4s\n",
      "[CV 4/5; 4/4] START max_depth=10, n_estimators=300..............................\n",
      "[CV 4/5; 4/4] END max_depth=10, n_estimators=300;, score=-0.406 total time=   0.5s\n",
      "[CV 4/5; 1/4] START max_depth=5, n_estimators=200...............................\n",
      "[CV 4/5; 1/4] END max_depth=5, n_estimators=200;, score=-64.669 total time=   0.2s\n",
      "[CV 1/5; 3/4] START max_depth=10, n_estimators=200..............................\n",
      "[CV 1/5; 3/4] END max_depth=10, n_estimators=200;, score=-75.808 total time=   0.3s\n",
      "[CV 4/5; 4/4] START max_depth=10, n_estimators=300..............................\n",
      "[CV 4/5; 4/4] END max_depth=10, n_estimators=300;, score=-66.051 total time=   0.4s\n",
      "[CV 3/5; 1/4] START max_depth=5, n_estimators=200...............................\n",
      "[CV 3/5; 1/4] END max_depth=5, n_estimators=200;, score=-0.395 total time=   0.2s\n",
      "[CV 2/5; 3/4] START max_depth=10, n_estimators=200..............................\n",
      "[CV 2/5; 3/4] END max_depth=10, n_estimators=200;, score=-0.403 total time=   0.3s\n",
      "[CV 5/5; 4/4] START max_depth=10, n_estimators=300..............................\n",
      "[CV 5/5; 4/4] END max_depth=10, n_estimators=300;, score=-0.403 total time=   0.5s\n"
     ]
    }
   ],
   "source": [
    "display = PartialDependenceDisplay(\n",
    "    pd_results = [bathrooms_pdp],\n",
    "    features = [(0,)], \n",
    "    feature_names = data_holdout[predictors_2].columns.tolist(), \n",
    "    target_idx = 0,\n",
    "    deciles = {0: np.linspace(1, 3, num=7)}\n",
    ")\n",
    "display.plot()\n",
    "plt.title('Partial dependence plot for n_accomodates')\n",
    "plt.show();"
   ]
  },
  {
   "cell_type": "markdown",
   "metadata": {},
   "source": [
    "There is a clear effect in the expected direction of number of acoomodates on prices."
   ]
  },
  {
   "cell_type": "code",
   "execution_count": 1046,
   "metadata": {},
   "outputs": [],
   "source": [
    "roomtype_pdp = partial_dependence(\n",
    "    rf_pipeline, data_holdout[predictors_2], [\"f_room_type\"], kind=\"average\"\n",
    ")"
   ]
  },
  {
   "cell_type": "code",
   "execution_count": 1047,
   "metadata": {},
   "outputs": [
    {
     "data": {
      "text/plain": [
       "{'grid_values': [array(['Entire home/apt', 'Private room'], dtype=object)],\n",
       " 'values': [array(['Entire home/apt', 'Private room'], dtype=object)],\n",
       " 'average': array([[137.31847529, 104.48541309]])}"
      ]
     },
     "execution_count": 1047,
     "metadata": {},
     "output_type": "execute_result"
    }
   ],
   "source": [
    "roomtype_pdp"
   ]
  },
  {
   "cell_type": "code",
   "execution_count": 1048,
   "metadata": {},
   "outputs": [
    {
     "data": {
      "text/plain": [
       "array([137.31847529, 104.48541309])"
      ]
     },
     "execution_count": 1048,
     "metadata": {},
     "output_type": "execute_result"
    }
   ],
   "source": [
    "roomtype_pdp['average'][0]"
   ]
  },
  {
   "cell_type": "code",
   "execution_count": 1049,
   "metadata": {},
   "outputs": [
    {
     "data": {
      "text/plain": [
       "array(['Entire home/apt', 'Private room'], dtype=object)"
      ]
     },
     "execution_count": 1049,
     "metadata": {},
     "output_type": "execute_result"
    }
   ],
   "source": [
    "roomtype_pdp['values'][0]"
   ]
  },
  {
   "cell_type": "code",
   "execution_count": 1050,
   "metadata": {
    "tags": []
   },
   "outputs": [
    {
     "data": {
      "image/png": "[encoded data removed]",
      "text/plain": [
       "<Figure size 1000x600 with 1 Axes>"
      ]
     },
     "metadata": {},
     "output_type": "display_data"
    }
   ],
   "source": [
    "# creating DataFrame from the dictionary\n",
    "df = pd.DataFrame({'room type': roomtype_pdp['values'][0], 'average price': roomtype_pdp['average'][0]})\n",
    "\n",
    "# plotting\n",
    "plt.figure(figsize=(10, 6))\n",
    "plt.plot(df['room type'], df['average price'], color='k', marker='o', markersize=10, linewidth=1)\n",
    "plt.ylim(0, 200)\n",
    "plt.title('Partial dependence plot: room type')\n",
    "plt.xlabel('Room Type')\n",
    "plt.ylabel('Average Price')\n",
    "plt.grid(True)\n",
    "\n",
    "# setting x-axis labels manually\n",
    "plt.xticks(range(len(df['room type'])), df['room type'])\n",
    "\n",
    "plt.show()"
   ]
  },
  {
   "cell_type": "markdown",
   "metadata": {},
   "source": [
    "Room type which is categorical variable found to be fourth most important factor that affect the prices. Private rooms seem cheaper than an entire home, which is expected."
   ]
  },
  {
   "cell_type": "markdown",
   "metadata": {},
   "source": [
    "**SHAP Importance**"
   ]
  },
  {
   "cell_type": "code",
   "execution_count": 1051,
   "metadata": {},
   "outputs": [
    {
     "name": "stderr",
     "output_type": "stream",
     "text": [
      " 97%|=================== | 447/460 [00:13<00:00]       "
     ]
    },
    {
     "data": {
      "image/png": "[encoded data removed]",
      "text/plain": [
       "<Figure size 800x950 with 2 Axes>"
      ]
     },
     "metadata": {},
     "output_type": "display_data"
    }
   ],
   "source": [
    "import shap\n",
    "\n",
    "columns_to_filter = [\n",
    "    \"n_accommodates\",\n",
    "    \"n_beds\",\n",
    "    \"f_property_type\",\n",
    "    \"f_room_type\",\n",
    "    \"n_bathrooms\",\n",
    "    \"f_neighbourhood_cleansed\",\n",
    "    \"n_availability_90\", \n",
    "    \"n_maximum_nights\", \n",
    "    \"f_host_response_time\",\n",
    "    \"n_host_response_rate\",\n",
    "    \"n_host_acceptance_rate\",\n",
    "    \"n_number_of_reviews\",\n",
    "    \"n_review_scores_rating\",\n",
    "    \"d_host_is_superhost\", \n",
    "    \"price\", \n",
    "    \"ln_price\"] \n",
    "\n",
    "data_for_shap = data_final[columns_to_filter].copy()\n",
    "\n",
    "# performing one-hot encoding for the 'category' column\n",
    "data_encoded = pd.get_dummies(data_for_shap, columns=[\"f_property_type\",\"f_room_type\",\n",
    "                                                      \"f_neighbourhood_cleansed\", \"f_host_response_time\"])\n",
    "\n",
    "\n",
    "data_encoded = data_encoded.astype(int)\n",
    "\n",
    "# splitting the data into features (X) and target (y)\n",
    "X_shap = data_encoded.drop(['price', 'ln_price'], axis=1)\n",
    "y_shap = data_encoded['price']\n",
    "\n",
    "# splitting the data into training and test sets\n",
    "X_train_shap, X_test_shap, y_train_shap, y_test_shap = train_test_split(X_shap, y_shap, test_size=0.2, random_state=42)\n",
    "\n",
    "# training a Random Forest model\n",
    "model_shap = RandomForestRegressor(random_state=42)\n",
    "model_shap.fit(X_train_shap, y_train_shap)\n",
    "\n",
    "# creating a SHAP explainer\n",
    "explainer = shap.Explainer(model_shap, X_train_shap)\n",
    "\n",
    "# computing SHAP values\n",
    "shap_values = explainer(X_test_shap)\n",
    "\n",
    "# plotting SHAP values\n",
    "shap.summary_plot(shap_values, X_test_shap)"
   ]
  },
  {
   "cell_type": "markdown",
   "metadata": {},
   "source": [
    "**Subsample performance: RMSE / mean(y)**\n",
    "\n",
    "The Test/Holdout RMSE is computed by applying the test data to the models and using the predicted values for evaluation. We will then contrast both the cross-validated RMSE values and the test RMSE values across the various alternative ML models."
   ]
  },
  {
   "cell_type": "code",
   "execution_count": 1052,
   "metadata": {},
   "outputs": [],
   "source": [
    "data_holdout_w_prediction = data_holdout.assign(\n",
    "    predicted_price=rf_pipeline.predict(data_holdout[predictors_2])\n",
    ")"
   ]
  },
  {
   "cell_type": "code",
   "execution_count": 1053,
   "metadata": {},
   "outputs": [],
   "source": [
    "data_holdout_w_prediction2 = data_holdout.assign(\n",
    "    predicted_price=rf_pipeline2.predict(data_holdout[predictors_2])\n",
    ")"
   ]
  },
  {
   "cell_type": "code",
   "execution_count": 1054,
   "metadata": {},
   "outputs": [
    {
     "name": "stdout",
     "output_type": "stream",
     "text": [
      "RMSE on Holdout/Test Data for Random Forest With Level Prices: 65.40649353352404\n"
     ]
    }
   ],
   "source": [
    "# RMSE on holdout/test data\n",
    "\n",
    "rf_test_rmse_level_price = np.sqrt((sum((data_holdout_w_prediction['predicted_price']-\n",
    "                                         data_holdout_w_prediction['price'])**2))/len(data_holdout_w_prediction))\n",
    "print(\"RMSE on Holdout/Test Data for Random Forest With Level Prices:\", rf_test_rmse_level_price)"
   ]
  },
  {
   "cell_type": "code",
   "execution_count": 1055,
   "metadata": {},
   "outputs": [
    {
     "name": "stdout",
     "output_type": "stream",
     "text": [
      "RMSE on Holdout/Test Data for Random Forest With Log Prices: 0.3835984346164461\n"
     ]
    }
   ],
   "source": [
    "# RMSE of ln_price on holdout/test data\n",
    "\n",
    "rf_test_rmse_log_price = np.sqrt((sum((data_holdout_w_prediction2['predicted_price']-\n",
    "                                      data_holdout_w_prediction2['ln_price'])**2))/len(data_holdout_w_prediction2))\n",
    "print(\"RMSE on Holdout/Test Data for Random Forest With Log Prices:\", rf_test_rmse_log_price)"
   ]
  },
  {
   "cell_type": "markdown",
   "metadata": {},
   "source": [
    "**Creating tables of heterogeneity by various grouping factors**\n",
    "\n",
    "In this part we can check how model performance changes for different categories of categorical variables. By creating a new grouping using a numeric variable, model performance can even be tested on these artificially produced groups."
   ]
  },
  {
   "cell_type": "markdown",
   "metadata": {},
   "source": [
    "- Apartment size: In our analysis for Florence, apartment sizes are between 2-6 people. If we assume apartments with 2-3 people are small apartments and  4-6 are large apartments, we can compare the model performance between these two grpups."
   ]
  },
  {
   "cell_type": "code",
   "execution_count": 1107,
   "metadata": {},
   "outputs": [],
   "source": [
    "data_holdout_w_prediction['is_low_size'] = data_holdout_w_prediction.n_accommodates.map(lambda x: 'small apt' \n",
    "                                                                                        if x <= 3 else 'large apt')"
   ]
  },
  {
   "cell_type": "code",
   "execution_count": 1057,
   "metadata": {},
   "outputs": [
    {
     "data": {
      "text/html": [
       "<div>\n",
       "<style scoped>\n",
       "    .dataframe tbody tr th:only-of-type {\n",
       "        vertical-align: middle;\n",
       "    }\n",
       "\n",
       "    .dataframe tbody tr th {\n",
       "        vertical-align: top;\n",
       "    }\n",
       "\n",
       "    .dataframe thead th {\n",
       "        text-align: right;\n",
       "    }\n",
       "</style>\n",
       "<table border=\"1\" class=\"dataframe\">\n",
       "  <thead>\n",
       "    <tr style=\"text-align: right;\">\n",
       "      <th></th>\n",
       "      <th>ln_price</th>\n",
       "      <th>predicted_price</th>\n",
       "      <th>is_low_size</th>\n",
       "    </tr>\n",
       "  </thead>\n",
       "  <tbody>\n",
       "    <tr>\n",
       "      <th>1168</th>\n",
       "      <td>4.532599</td>\n",
       "      <td>134.605340</td>\n",
       "      <td>small apt</td>\n",
       "    </tr>\n",
       "    <tr>\n",
       "      <th>4093</th>\n",
       "      <td>5.164786</td>\n",
       "      <td>144.229570</td>\n",
       "      <td>large apt</td>\n",
       "    </tr>\n",
       "    <tr>\n",
       "      <th>614</th>\n",
       "      <td>3.637586</td>\n",
       "      <td>88.161180</td>\n",
       "      <td>small apt</td>\n",
       "    </tr>\n",
       "    <tr>\n",
       "      <th>6728</th>\n",
       "      <td>5.802118</td>\n",
       "      <td>285.513714</td>\n",
       "      <td>large apt</td>\n",
       "    </tr>\n",
       "    <tr>\n",
       "      <th>825</th>\n",
       "      <td>4.934474</td>\n",
       "      <td>129.328680</td>\n",
       "      <td>large apt</td>\n",
       "    </tr>\n",
       "  </tbody>\n",
       "</table>\n",
       "</div>"
      ],
      "text/plain": [
       "      ln_price  predicted_price is_low_size\n",
       "1168  4.532599       134.605340   small apt\n",
       "4093  5.164786       144.229570   large apt\n",
       "614   3.637586        88.161180   small apt\n",
       "6728  5.802118       285.513714   large apt\n",
       "825   4.934474       129.328680   large apt"
      ]
     },
     "execution_count": 1057,
     "metadata": {},
     "output_type": "execute_result"
    }
   ],
   "source": [
    "data_holdout_w_prediction.iloc[0:5, -3:]"
   ]
  },
  {
   "cell_type": "code",
   "execution_count": 1058,
   "metadata": {
    "tags": []
   },
   "outputs": [
    {
     "data": {
      "text/plain": [
       "is_low_size\n",
       "large apt    70.932979\n",
       "small apt    56.105188\n",
       "dtype: float64"
      ]
     },
     "execution_count": 1058,
     "metadata": {},
     "output_type": "execute_result"
    }
   ],
   "source": [
    "data_holdout_w_prediction.groupby('is_low_size').apply(lambda x: mean_squared_error(x.predicted_price, x.price, squared=False))"
   ]
  },
  {
   "cell_type": "markdown",
   "metadata": {},
   "source": [
    "Putting it in a function with additional columns"
   ]
  },
  {
   "cell_type": "code",
   "execution_count": 1059,
   "metadata": {},
   "outputs": [],
   "source": [
    "def calculate_rmse(groupby_obj):\n",
    "    return (\n",
    "        groupby_obj.apply(\n",
    "            lambda x: mean_squared_error(x.predicted_price, x.price, squared=False),\n",
    "        )\n",
    "        .to_frame(name=\"rmse\")\n",
    "        .assign(mean_price=groupby_obj.apply(lambda x: np.mean(x.price)).values)\n",
    "        .assign(rmse_norm=lambda x: x.rmse / x.mean_price).round(2)\n",
    "    )"
   ]
  },
  {
   "cell_type": "code",
   "execution_count": 1060,
   "metadata": {
    "tags": []
   },
   "outputs": [],
   "source": [
    "# cheaper or more expensive flats \n",
    "grouped_object = data_holdout_w_prediction.assign(\n",
    "    is_low_size=lambda x: np.where(x.n_accommodates <= 3, \"small apt\", \"large apt\")\n",
    ").groupby(\"is_low_size\")\n",
    "accom_subset = calculate_rmse(grouped_object)"
   ]
  },
  {
   "cell_type": "code",
   "execution_count": 1061,
   "metadata": {
    "tags": []
   },
   "outputs": [
    {
     "data": {
      "text/html": [
       "<div>\n",
       "<style scoped>\n",
       "    .dataframe tbody tr th:only-of-type {\n",
       "        vertical-align: middle;\n",
       "    }\n",
       "\n",
       "    .dataframe tbody tr th {\n",
       "        vertical-align: top;\n",
       "    }\n",
       "\n",
       "    .dataframe thead th {\n",
       "        text-align: right;\n",
       "    }\n",
       "</style>\n",
       "<table border=\"1\" class=\"dataframe\">\n",
       "  <thead>\n",
       "    <tr style=\"text-align: right;\">\n",
       "      <th></th>\n",
       "      <th>rmse</th>\n",
       "      <th>mean_price</th>\n",
       "      <th>rmse_norm</th>\n",
       "    </tr>\n",
       "    <tr>\n",
       "      <th>is_low_size</th>\n",
       "      <th></th>\n",
       "      <th></th>\n",
       "      <th></th>\n",
       "    </tr>\n",
       "  </thead>\n",
       "  <tbody>\n",
       "    <tr>\n",
       "      <th>large apt</th>\n",
       "      <td>70.93</td>\n",
       "      <td>161.87</td>\n",
       "      <td>0.44</td>\n",
       "    </tr>\n",
       "    <tr>\n",
       "      <th>small apt</th>\n",
       "      <td>56.11</td>\n",
       "      <td>107.86</td>\n",
       "      <td>0.52</td>\n",
       "    </tr>\n",
       "  </tbody>\n",
       "</table>\n",
       "</div>"
      ],
      "text/plain": [
       "              rmse  mean_price  rmse_norm\n",
       "is_low_size                              \n",
       "large apt    70.93      161.87       0.44\n",
       "small apt    56.11      107.86       0.52"
      ]
     },
     "execution_count": 1061,
     "metadata": {},
     "output_type": "execute_result"
    }
   ],
   "source": [
    "accom_subset"
   ]
  },
  {
   "cell_type": "markdown",
   "metadata": {},
   "source": [
    "Although the mean prices is lower for small size apartments, we found a higher RMSE/mean(y) for this category."
   ]
  },
  {
   "cell_type": "markdown",
   "metadata": {},
   "source": [
    "The analysis can be extended to compare room types, property types and neighbourhoods. In order not to make the analysis too long, we will only compare model performance according to apartment sizes."
   ]
  },
  {
   "cell_type": "markdown",
   "metadata": {},
   "source": [
    "##### Model2: Ordinary Least Squares Regression (OLS)"
   ]
  },
  {
   "cell_type": "markdown",
   "metadata": {},
   "source": [
    "For OLS and LASSO, utilizing log-transformed price data is advisable because OLS is susceptible to non-normal data, unlike Random Forest. Subsequently, we can assess RMSE values for all three models when the target variable is ln(price). Each model (Random Forest, OLS, LASSO, and GBM) is executed for both level and log prices."
   ]
  },
  {
   "cell_type": "code",
   "execution_count": 1062,
   "metadata": {},
   "outputs": [],
   "source": [
    "from sklearn.linear_model import LinearRegression"
   ]
  },
  {
   "cell_type": "code",
   "execution_count": 1063,
   "metadata": {
    "tags": []
   },
   "outputs": [],
   "source": [
    "y, X = dmatrices(\"price ~ \" + \" + \".join(predictors_2), data_train)\n",
    "y2, X22 = dmatrices(\"ln_price ~ \" + \" + \".join(predictors_2), data_train)\n",
    "\n",
    "ols_model = LinearRegression().fit(X,y)\n",
    "ols_model2 = LinearRegression().fit(X22,y2)\n",
    "\n",
    "y_hat = ols_model.predict(X)\n",
    "y_hat2 = ols_model2.predict(X22)"
   ]
  },
  {
   "cell_type": "code",
   "execution_count": 1064,
   "metadata": {},
   "outputs": [
    {
     "name": "stdout",
     "output_type": "stream",
     "text": [
      "RMSE: 68.44018669673957\n",
      "RMSE of log model: 0.41804230789625135\n",
      "R-squared: 0.3443857789583782\n",
      "R-squared of log model: 0.3969934420761172\n"
     ]
    }
   ],
   "source": [
    "# 1. Evaluating the Model Performance\n",
    "ols_rmse = mean_squared_error(y,y_hat,squared=False)\n",
    "print(\"RMSE:\", ols_rmse)\n",
    "\n",
    "ols_rmse_log = mean_squared_error(y2,y_hat2,squared=False)\n",
    "print(\"RMSE of log model:\", ols_rmse_log)\n",
    "\n",
    "from sklearn.metrics import r2_score\n",
    "r2 = r2_score(y, y_hat)\n",
    "print(\"R-squared:\", r2)\n",
    "\n",
    "r2_ln = r2_score(y2, y_hat2)\n",
    "print(\"R-squared of log model:\", r2_ln)"
   ]
  },
  {
   "cell_type": "code",
   "execution_count": 1065,
   "metadata": {},
   "outputs": [
    {
     "name": "stdout",
     "output_type": "stream",
     "text": [
      "                            OLS Regression Results                            \n",
      "==============================================================================\n",
      "Dep. Variable:                  price   R-squared:                       0.344\n",
      "Model:                            OLS   Adj. R-squared:                  0.335\n",
      "Method:                 Least Squares   F-statistic:                     36.57\n",
      "Date:                Sun, 11 Feb 2024   Prob (F-statistic):          2.29e-145\n",
      "Time:                        22:24:59   Log-Likelihood:                -10370.\n",
      "No. Observations:                1837   AIC:                         2.079e+04\n",
      "Df Residuals:                    1810   BIC:                         2.094e+04\n",
      "Df Model:                          26                                         \n",
      "Covariance Type:            nonrobust                                         \n",
      "========================================================================================================================\n",
      "                                                           coef    std err          t      P>|t|      [0.025      0.975]\n",
      "------------------------------------------------------------------------------------------------------------------------\n",
      "Intercept                                             -135.9542     35.844     -3.793      0.000    -206.254     -65.654\n",
      "f_property_type[T.Entire home]                         -16.0566     11.571     -1.388      0.165     -38.750       6.637\n",
      "f_property_type[T.Entire loft]                          12.9197      8.217      1.572      0.116      -3.196      29.035\n",
      "f_property_type[T.Entire rental unit]                    1.6075      4.355      0.369      0.712      -6.933      10.148\n",
      "f_property_type[T.Entire serviced apartment]            33.5049     17.349      1.931      0.054      -0.522      67.531\n",
      "f_property_type[T.Entire vacation home]                -17.1507     16.386     -1.047      0.295     -49.289      14.987\n",
      "f_property_type[T.Private room in bed and breakfast]    31.6392     11.217      2.821      0.005       9.639      53.639\n",
      "f_property_type[T.Private room in condo]               -11.5736     11.358     -1.019      0.308     -33.849      10.702\n",
      "f_property_type[T.Private room in home]                -15.6316     13.396     -1.167      0.243     -41.904      10.641\n",
      "f_property_type[T.Private room in rental unit]         -21.3474      7.254     -2.943      0.003     -35.575      -7.120\n",
      "f_room_type[T.Private room]                            -16.9133      6.173     -2.740      0.006     -29.020      -4.806\n",
      "f_neighbourhood_cleansed[T.Centro Storico]              29.7940      6.397      4.657      0.000      17.248      42.340\n",
      "f_neighbourhood_cleansed[T.Gavinana Galluzzo]            5.1402     11.623      0.442      0.658     -17.656      27.936\n",
      "f_neighbourhood_cleansed[T.Isolotto Legnaia]           -16.7253     11.318     -1.478      0.140     -38.924       5.473\n",
      "f_neighbourhood_cleansed[T.Rifredi]                     -8.0689      9.236     -0.874      0.382     -26.183      10.045\n",
      "f_host_response_time[T.within a day]                    61.1014     32.870      1.859      0.063      -3.366     125.569\n",
      "f_host_response_time[T.within a few hours]              57.6179     34.116      1.689      0.091      -9.293     124.529\n",
      "f_host_response_time[T.within an hour]                  53.5135     34.662      1.544      0.123     -14.468     121.495\n",
      "n_accommodates                                           2.6131      1.888      1.384      0.167      -1.090       6.316\n",
      "n_beds                                                  13.0978      2.150      6.091      0.000       8.881      17.315\n",
      "n_bathrooms                                             60.0034      3.856     15.561      0.000      52.441      67.566\n",
      "n_availability_90                                        0.0072      0.050      0.144      0.885      -0.091       0.106\n",
      "n_maximum_nights                                         0.0115      0.003      3.437      0.001       0.005       0.018\n",
      "n_host_response_rate                                    -0.3233      0.328     -0.985      0.325      -0.967       0.320\n",
      "n_host_acceptance_rate                                   0.0924      0.127      0.725      0.468      -0.157       0.342\n",
      "n_number_of_reviews                                     -0.0912      0.013     -7.076      0.000      -0.117      -0.066\n",
      "n_review_scores_rating                                  23.3075      5.946      3.920      0.000      11.646      34.969\n",
      "d_host_is_superhost                                      5.7801      3.769      1.534      0.125      -1.612      13.172\n",
      "==============================================================================\n",
      "Omnibus:                      714.003   Durbin-Watson:                   1.995\n",
      "Prob(Omnibus):                  0.000   Jarque-Bera (JB):             3788.793\n",
      "Skew:                           1.760   Prob(JB):                         0.00\n",
      "Kurtosis:                       9.092   Cond. No.                     1.41e+16\n",
      "==============================================================================\n",
      "\n",
      "Notes:\n",
      "[1] Standard Errors assume that the covariance matrix of the errors is correctly specified.\n",
      "[2] The smallest eigenvalue is 4.22e-24. This might indicate that there are\n",
      "strong multicollinearity problems or that the design matrix is singular.\n"
     ]
    }
   ],
   "source": [
    "# 2. Checking for Assumptions\n",
    "# Using statsmodels' OLS to perform diagnostic tests\n",
    "import statsmodels.api as sm\n",
    "\n",
    "ols_model_stats = sm.OLS(y, X).fit()\n",
    "print(ols_model_stats.summary())"
   ]
  },
  {
   "cell_type": "code",
   "execution_count": 1066,
   "metadata": {},
   "outputs": [
    {
     "name": "stdout",
     "output_type": "stream",
     "text": [
      "Cross-Validation RMSE Scores: [75.53853473 67.32622172 65.40804823 66.03831393 72.7321498 ]\n",
      "Average Cross-Validation RMSE Score (level prices): 69.4086536844479\n",
      "Cross-Validation RMSE Scores For Log-Transformed Prices: [0.42195518 0.42736825 0.41495135 0.41886923 0.44665436]\n",
      "Average Cross-Validation RMSE Score (log prices): 0.4259596735247565\n"
     ]
    }
   ],
   "source": [
    "# 3. Cross-validation\n",
    "# Performing 5-fold cross-validation\n",
    "from sklearn.model_selection import cross_val_score\n",
    "\n",
    "cv_scores = cross_val_score(ols_model, X, y, cv=5, scoring='neg_mean_squared_error')\n",
    "cv_rmse_scores = np.sqrt(-cv_scores)\n",
    "\n",
    "cv_scores_log = cross_val_score(ols_model, X22, y2, cv=5, scoring='neg_mean_squared_error')\n",
    "cv_rmse_scores_log = np.sqrt(-cv_scores_log)\n",
    "\n",
    "print(\"Cross-Validation RMSE Scores:\", cv_rmse_scores)\n",
    "print(\"Average Cross-Validation RMSE Score (level prices):\", np.average(cv_rmse_scores))\n",
    "\n",
    "print(\"Cross-Validation RMSE Scores For Log-Transformed Prices:\", cv_rmse_scores_log)\n",
    "print(\"Average Cross-Validation RMSE Score (log prices):\", np.average(cv_rmse_scores_log))"
   ]
  },
  {
   "cell_type": "code",
   "execution_count": 1067,
   "metadata": {},
   "outputs": [
    {
     "data": {
      "image/png": "[encoded data removed]",
      "text/plain": [
       "<Figure size 640x480 with 1 Axes>"
      ]
     },
     "metadata": {},
     "output_type": "display_data"
    }
   ],
   "source": [
    "# 4. Visualization\n",
    "# Plotting residuals\n",
    "residuals = y - y_hat\n",
    "plt.scatter(y_hat, residuals)\n",
    "plt.xlabel(\"Predicted Values\")\n",
    "plt.ylabel(\"Residuals\")\n",
    "plt.title(\"Residuals vs. Predicted Values\")\n",
    "plt.show()\n"
   ]
  },
  {
   "cell_type": "markdown",
   "metadata": {},
   "source": [
    "- Due to the presence of heteroskedastic residuals, it makes sente to utilize log-transformed prices for the analysis."
   ]
  },
  {
   "cell_type": "code",
   "execution_count": 1068,
   "metadata": {},
   "outputs": [
    {
     "data": {
      "image/png": "[encoded data removed]",
      "text/plain": [
       "<Figure size 640x480 with 1 Axes>"
      ]
     },
     "metadata": {},
     "output_type": "display_data"
    }
   ],
   "source": [
    "# plotting residuals of log transformed prices\n",
    "residuals2 = y2 - y_hat2\n",
    "plt.scatter(y_hat2, residuals2)\n",
    "plt.xlabel(\"Predicted Values\")\n",
    "plt.ylabel(\"Residuals\")\n",
    "plt.title(\"Residuals vs. Predicted Values\")\n",
    "plt.show()"
   ]
  },
  {
   "cell_type": "markdown",
   "metadata": {},
   "source": [
    "- While not entirely eliminating the issue, heteroskedasticity appears to be mitigated to some extent when utilizing log-transformed price data."
   ]
  },
  {
   "cell_type": "code",
   "execution_count": 1069,
   "metadata": {},
   "outputs": [
    {
     "name": "stdout",
     "output_type": "stream",
     "text": [
      "Test RMSE for OLS model: 67.64255207040684\n",
      "Test RMSE for log transformed OLS model: 0.40662602308793666\n"
     ]
    }
   ],
   "source": [
    "# 5. Calculating RMSE on test/holdout data\n",
    "\n",
    "y_test, X_test = dmatrices(\"price ~ \" + \" + \".join(predictors_2), data_holdout)\n",
    "y_test2, X_test2 = dmatrices(\"ln_price ~ \" + \" + \".join(predictors_2), data_holdout)\n",
    "\n",
    "# Predicting the target variable on the test dataset\n",
    "y_hat_test = ols_model.predict(X_test)\n",
    "y_hat_test2 = ols_model2.predict(X_test2)\n",
    "\n",
    "\n",
    "# Computing the RMSE\n",
    "ols_rmse_test = mean_squared_error(y_test, y_hat_test, squared=False)\n",
    "ols_rmse_test2 = mean_squared_error(y_test2, y_hat_test2, squared=False)\n",
    "\n",
    "print(\"Test RMSE for OLS model:\", ols_rmse_test)\n",
    "print(\"Test RMSE for log transformed OLS model:\", ols_rmse_test2)"
   ]
  },
  {
   "cell_type": "markdown",
   "metadata": {},
   "source": [
    "#### Model3: LASSO Regression"
   ]
  },
  {
   "cell_type": "code",
   "execution_count": 1070,
   "metadata": {},
   "outputs": [],
   "source": [
    "from sklearn.linear_model import ElasticNet"
   ]
  },
  {
   "cell_type": "code",
   "execution_count": 1071,
   "metadata": {},
   "outputs": [],
   "source": [
    "lasso_model =  ElasticNet(l1_ratio = 1, fit_intercept = True)\n",
    "lasso_model_ln =  ElasticNet(l1_ratio = 1, fit_intercept = True)"
   ]
  },
  {
   "cell_type": "code",
   "execution_count": 1072,
   "metadata": {},
   "outputs": [],
   "source": [
    "lasso_model_cv = GridSearchCV(\n",
    "    lasso_model,\n",
    "    {\"alpha\":[i/100 for i in range(5, 26, 5)]},\n",
    "    cv=5,\n",
    "    scoring=\"neg_root_mean_squared_error\",\n",
    "    verbose=3,\n",
    ")\n",
    "\n",
    "lasso_model_cv2 = GridSearchCV(\n",
    "    lasso_model_ln,\n",
    "    {\"alpha\":[i/100 for i in range(5, 26, 5)]},\n",
    "    cv=5,\n",
    "    scoring=\"neg_root_mean_squared_error\",\n",
    "    verbose=3,\n",
    ")"
   ]
  },
  {
   "cell_type": "code",
   "execution_count": 1073,
   "metadata": {},
   "outputs": [],
   "source": [
    "y, X = dmatrices(\"price ~ \" + \" + \".join(predictors_E), data_train)\n",
    "y2, X22 = dmatrices(\"ln_price ~ \" + \" + \".join(predictors_E), data_train)"
   ]
  },
  {
   "cell_type": "code",
   "execution_count": 1074,
   "metadata": {
    "tags": []
   },
   "outputs": [
    {
     "name": "stdout",
     "output_type": "stream",
     "text": [
      "Fitting 5 folds for each of 5 candidates, totalling 25 fits\n",
      "[CV 1/5] END ......................alpha=0.05;, score=-75.231 total time=   0.1s\n",
      "[CV 2/5] END ......................alpha=0.05;, score=-67.875 total time=   0.2s\n",
      "[CV 3/5] END ......................alpha=0.05;, score=-65.084 total time=   0.3s\n",
      "[CV 4/5] END ......................alpha=0.05;, score=-66.019 total time=   0.1s\n",
      "[CV 5/5] END ......................alpha=0.05;, score=-72.523 total time=   0.3s\n",
      "[CV 1/5] END .......................alpha=0.1;, score=-75.264 total time=   0.1s\n",
      "[CV 2/5] END .......................alpha=0.1;, score=-67.577 total time=   0.1s\n",
      "[CV 3/5] END .......................alpha=0.1;, score=-65.212 total time=   0.3s\n",
      "[CV 4/5] END .......................alpha=0.1;, score=-65.843 total time=   0.2s\n",
      "[CV 5/5] END .......................alpha=0.1;, score=-72.576 total time=   0.3s\n",
      "[CV 1/5] END ......................alpha=0.15;, score=-75.356 total time=   0.1s\n",
      "[CV 2/5] END ......................alpha=0.15;, score=-67.353 total time=   0.3s\n",
      "[CV 3/5] END ......................alpha=0.15;, score=-65.372 total time=   0.1s\n",
      "[CV 4/5] END ......................alpha=0.15;, score=-65.738 total time=   0.1s\n",
      "[CV 5/5] END ......................alpha=0.15;, score=-72.651 total time=   0.3s\n",
      "[CV 1/5] END .......................alpha=0.2;, score=-75.376 total time=   0.2s\n",
      "[CV 2/5] END .......................alpha=0.2;, score=-67.180 total time=   0.1s\n",
      "[CV 3/5] END .......................alpha=0.2;, score=-65.498 total time=   0.2s\n",
      "[CV 4/5] END .......................alpha=0.2;, score=-65.647 total time=   0.1s\n",
      "[CV 5/5] END .......................alpha=0.2;, score=-72.661 total time=   0.3s\n",
      "[CV 1/5] END ......................alpha=0.25;, score=-75.353 total time=   0.1s\n",
      "[CV 2/5] END ......................alpha=0.25;, score=-67.055 total time=   0.1s\n",
      "[CV 3/5] END ......................alpha=0.25;, score=-65.577 total time=   0.2s\n",
      "[CV 4/5] END ......................alpha=0.25;, score=-65.582 total time=   0.1s\n",
      "[CV 5/5] END ......................alpha=0.25;, score=-72.663 total time=   0.2s\n",
      "CPU times: user 18.1 s, sys: 15.3 s, total: 33.5 s\n",
      "Wall time: 4.7 s\n"
     ]
    },
    {
     "data": {
      "text/html": [
       "<style>#sk-container-id-55 {color: black;}#sk-container-id-55 pre{padding: 0;}#sk-container-id-55 div.sk-toggleable {background-color: white;}#sk-container-id-55 label.sk-toggleable__label {cursor: pointer;display: block;width: 100%;margin-bottom: 0;padding: 0.3em;box-sizing: border-box;text-align: center;}#sk-container-id-55 label.sk-toggleable__label-arrow:before {content: \"▸\";float: left;margin-right: 0.25em;color: #696969;}#sk-container-id-55 label.sk-toggleable__label-arrow:hover:before {color: black;}#sk-container-id-55 div.sk-estimator:hover label.sk-toggleable__label-arrow:before {color: black;}#sk-container-id-55 div.sk-toggleable__content {max-height: 0;max-width: 0;overflow: hidden;text-align: left;background-color: #f0f8ff;}#sk-container-id-55 div.sk-toggleable__content pre {margin: 0.2em;color: black;border-radius: 0.25em;background-color: #f0f8ff;}#sk-container-id-55 input.sk-toggleable__control:checked~div.sk-toggleable__content {max-height: 200px;max-width: 100%;overflow: auto;}#sk-container-id-55 input.sk-toggleable__control:checked~label.sk-toggleable__label-arrow:before {content: \"▾\";}#sk-container-id-55 div.sk-estimator input.sk-toggleable__control:checked~label.sk-toggleable__label {background-color: #d4ebff;}#sk-container-id-55 div.sk-label input.sk-toggleable__control:checked~label.sk-toggleable__label {background-color: #d4ebff;}#sk-container-id-55 input.sk-hidden--visually {border: 0;clip: rect(1px 1px 1px 1px);clip: rect(1px, 1px, 1px, 1px);height: 1px;margin: -1px;overflow: hidden;padding: 0;position: absolute;width: 1px;}#sk-container-id-55 div.sk-estimator {font-family: monospace;background-color: #f0f8ff;border: 1px dotted black;border-radius: 0.25em;box-sizing: border-box;margin-bottom: 0.5em;}#sk-container-id-55 div.sk-estimator:hover {background-color: #d4ebff;}#sk-container-id-55 div.sk-parallel-item::after {content: \"\";width: 100%;border-bottom: 1px solid gray;flex-grow: 1;}#sk-container-id-55 div.sk-label:hover label.sk-toggleable__label {background-color: #d4ebff;}#sk-container-id-55 div.sk-serial::before {content: \"\";position: absolute;border-left: 1px solid gray;box-sizing: border-box;top: 0;bottom: 0;left: 50%;z-index: 0;}#sk-container-id-55 div.sk-serial {display: flex;flex-direction: column;align-items: center;background-color: white;padding-right: 0.2em;padding-left: 0.2em;position: relative;}#sk-container-id-55 div.sk-item {position: relative;z-index: 1;}#sk-container-id-55 div.sk-parallel {display: flex;align-items: stretch;justify-content: center;background-color: white;position: relative;}#sk-container-id-55 div.sk-item::before, #sk-container-id-55 div.sk-parallel-item::before {content: \"\";position: absolute;border-left: 1px solid gray;box-sizing: border-box;top: 0;bottom: 0;left: 50%;z-index: -1;}#sk-container-id-55 div.sk-parallel-item {display: flex;flex-direction: column;z-index: 1;position: relative;background-color: white;}#sk-container-id-55 div.sk-parallel-item:first-child::after {align-self: flex-end;width: 50%;}#sk-container-id-55 div.sk-parallel-item:last-child::after {align-self: flex-start;width: 50%;}#sk-container-id-55 div.sk-parallel-item:only-child::after {width: 0;}#sk-container-id-55 div.sk-dashed-wrapped {border: 1px dashed gray;margin: 0 0.4em 0.5em 0.4em;box-sizing: border-box;padding-bottom: 0.4em;background-color: white;}#sk-container-id-55 div.sk-label label {font-family: monospace;font-weight: bold;display: inline-block;line-height: 1.2em;}#sk-container-id-55 div.sk-label-container {text-align: center;}#sk-container-id-55 div.sk-container {/* jupyter's `normalize.less` sets `[hidden] { display: none; }` but bootstrap.min.css set `[hidden] { display: none !important; }` so we also need the `!important` here to be able to override the default hidden behavior on the sphinx rendered scikit-learn.org. See: https://github.com/scikit-learn/scikit-learn/issues/21755 */display: inline-block !important;position: relative;}#sk-container-id-55 div.sk-text-repr-fallback {display: none;}</style><div id=\"sk-container-id-55\" class=\"sk-top-container\"><div class=\"sk-text-repr-fallback\"><pre>GridSearchCV(cv=5, estimator=ElasticNet(l1_ratio=1),\n",
       "             param_grid={&#x27;alpha&#x27;: [0.05, 0.1, 0.15, 0.2, 0.25]},\n",
       "             scoring=&#x27;neg_root_mean_squared_error&#x27;, verbose=3)</pre><b>In a Jupyter environment, please rerun this cell to show the HTML representation or trust the notebook. <br />On GitHub, the HTML representation is unable to render, please try loading this page with nbviewer.org.</b></div><div class=\"sk-container\" hidden><div class=\"sk-item sk-dashed-wrapped\"><div class=\"sk-label-container\"><div class=\"sk-label sk-toggleable\"><input class=\"sk-toggleable__control sk-hidden--visually\" id=\"sk-estimator-id-225\" type=\"checkbox\" ><label for=\"sk-estimator-id-225\" class=\"sk-toggleable__label sk-toggleable__label-arrow\">GridSearchCV</label><div class=\"sk-toggleable__content\"><pre>GridSearchCV(cv=5, estimator=ElasticNet(l1_ratio=1),\n",
       "             param_grid={&#x27;alpha&#x27;: [0.05, 0.1, 0.15, 0.2, 0.25]},\n",
       "             scoring=&#x27;neg_root_mean_squared_error&#x27;, verbose=3)</pre></div></div></div><div class=\"sk-parallel\"><div class=\"sk-parallel-item\"><div class=\"sk-item\"><div class=\"sk-label-container\"><div class=\"sk-label sk-toggleable\"><input class=\"sk-toggleable__control sk-hidden--visually\" id=\"sk-estimator-id-226\" type=\"checkbox\" ><label for=\"sk-estimator-id-226\" class=\"sk-toggleable__label sk-toggleable__label-arrow\">estimator: ElasticNet</label><div class=\"sk-toggleable__content\"><pre>ElasticNet(l1_ratio=1)</pre></div></div></div><div class=\"sk-serial\"><div class=\"sk-item\"><div class=\"sk-estimator sk-toggleable\"><input class=\"sk-toggleable__control sk-hidden--visually\" id=\"sk-estimator-id-227\" type=\"checkbox\" ><label for=\"sk-estimator-id-227\" class=\"sk-toggleable__label sk-toggleable__label-arrow\">ElasticNet</label><div class=\"sk-toggleable__content\"><pre>ElasticNet(l1_ratio=1)</pre></div></div></div></div></div></div></div></div></div></div>"
      ],
      "text/plain": [
       "GridSearchCV(cv=5, estimator=ElasticNet(l1_ratio=1),\n",
       "             param_grid={'alpha': [0.05, 0.1, 0.15, 0.2, 0.25]},\n",
       "             scoring='neg_root_mean_squared_error', verbose=3)"
      ]
     },
     "execution_count": 1074,
     "metadata": {},
     "output_type": "execute_result"
    }
   ],
   "source": [
    "%%time\n",
    "lasso_model_cv.fit(X, y.ravel())"
   ]
  },
  {
   "cell_type": "code",
   "execution_count": 1075,
   "metadata": {},
   "outputs": [
    {
     "name": "stdout",
     "output_type": "stream",
     "text": [
      "Fitting 5 folds for each of 5 candidates, totalling 25 fits\n",
      "[CV 1/5] END .......................alpha=0.05;, score=-0.460 total time=   0.1s\n",
      "[CV 2/5] END .......................alpha=0.05;, score=-0.448 total time=   0.1s\n",
      "[CV 3/5] END .......................alpha=0.05;, score=-0.465 total time=   0.1s\n",
      "[CV 4/5] END .......................alpha=0.05;, score=-0.445 total time=   0.1s\n",
      "[CV 5/5] END .......................alpha=0.05;, score=-0.480 total time=   0.1s\n",
      "[CV 1/5] END ........................alpha=0.1;, score=-0.472 total time=   0.1s\n",
      "[CV 2/5] END ........................alpha=0.1;, score=-0.464 total time=   0.0s\n",
      "[CV 3/5] END ........................alpha=0.1;, score=-0.481 total time=   0.1s\n",
      "[CV 4/5] END ........................alpha=0.1;, score=-0.462 total time=   0.1s\n",
      "[CV 5/5] END ........................alpha=0.1;, score=-0.490 total time=   0.1s\n",
      "[CV 1/5] END .......................alpha=0.15;, score=-0.481 total time=   0.1s\n",
      "[CV 2/5] END .......................alpha=0.15;, score=-0.471 total time=   0.1s\n",
      "[CV 3/5] END .......................alpha=0.15;, score=-0.488 total time=   0.1s\n",
      "[CV 4/5] END .......................alpha=0.15;, score=-0.468 total time=   0.1s\n",
      "[CV 5/5] END .......................alpha=0.15;, score=-0.495 total time=   0.1s\n",
      "[CV 1/5] END ........................alpha=0.2;, score=-0.489 total time=   0.1s\n",
      "[CV 2/5] END ........................alpha=0.2;, score=-0.479 total time=   0.1s\n",
      "[CV 3/5] END ........................alpha=0.2;, score=-0.495 total time=   0.1s\n",
      "[CV 4/5] END ........................alpha=0.2;, score=-0.474 total time=   0.1s\n",
      "[CV 5/5] END ........................alpha=0.2;, score=-0.499 total time=   0.1s\n",
      "[CV 1/5] END .......................alpha=0.25;, score=-0.497 total time=   0.1s\n",
      "[CV 2/5] END .......................alpha=0.25;, score=-0.486 total time=   0.1s\n",
      "[CV 3/5] END .......................alpha=0.25;, score=-0.500 total time=   0.1s\n",
      "[CV 4/5] END .......................alpha=0.25;, score=-0.482 total time=   0.0s\n",
      "[CV 5/5] END .......................alpha=0.25;, score=-0.505 total time=   0.1s\n",
      "CPU times: user 9.49 s, sys: 7.63 s, total: 17.1 s\n",
      "Wall time: 2.39 s\n"
     ]
    },
    {
     "data": {
      "text/html": [
       "<style>#sk-container-id-56 {color: black;}#sk-container-id-56 pre{padding: 0;}#sk-container-id-56 div.sk-toggleable {background-color: white;}#sk-container-id-56 label.sk-toggleable__label {cursor: pointer;display: block;width: 100%;margin-bottom: 0;padding: 0.3em;box-sizing: border-box;text-align: center;}#sk-container-id-56 label.sk-toggleable__label-arrow:before {content: \"▸\";float: left;margin-right: 0.25em;color: #696969;}#sk-container-id-56 label.sk-toggleable__label-arrow:hover:before {color: black;}#sk-container-id-56 div.sk-estimator:hover label.sk-toggleable__label-arrow:before {color: black;}#sk-container-id-56 div.sk-toggleable__content {max-height: 0;max-width: 0;overflow: hidden;text-align: left;background-color: #f0f8ff;}#sk-container-id-56 div.sk-toggleable__content pre {margin: 0.2em;color: black;border-radius: 0.25em;background-color: #f0f8ff;}#sk-container-id-56 input.sk-toggleable__control:checked~div.sk-toggleable__content {max-height: 200px;max-width: 100%;overflow: auto;}#sk-container-id-56 input.sk-toggleable__control:checked~label.sk-toggleable__label-arrow:before {content: \"▾\";}#sk-container-id-56 div.sk-estimator input.sk-toggleable__control:checked~label.sk-toggleable__label {background-color: #d4ebff;}#sk-container-id-56 div.sk-label input.sk-toggleable__control:checked~label.sk-toggleable__label {background-color: #d4ebff;}#sk-container-id-56 input.sk-hidden--visually {border: 0;clip: rect(1px 1px 1px 1px);clip: rect(1px, 1px, 1px, 1px);height: 1px;margin: -1px;overflow: hidden;padding: 0;position: absolute;width: 1px;}#sk-container-id-56 div.sk-estimator {font-family: monospace;background-color: #f0f8ff;border: 1px dotted black;border-radius: 0.25em;box-sizing: border-box;margin-bottom: 0.5em;}#sk-container-id-56 div.sk-estimator:hover {background-color: #d4ebff;}#sk-container-id-56 div.sk-parallel-item::after {content: \"\";width: 100%;border-bottom: 1px solid gray;flex-grow: 1;}#sk-container-id-56 div.sk-label:hover label.sk-toggleable__label {background-color: #d4ebff;}#sk-container-id-56 div.sk-serial::before {content: \"\";position: absolute;border-left: 1px solid gray;box-sizing: border-box;top: 0;bottom: 0;left: 50%;z-index: 0;}#sk-container-id-56 div.sk-serial {display: flex;flex-direction: column;align-items: center;background-color: white;padding-right: 0.2em;padding-left: 0.2em;position: relative;}#sk-container-id-56 div.sk-item {position: relative;z-index: 1;}#sk-container-id-56 div.sk-parallel {display: flex;align-items: stretch;justify-content: center;background-color: white;position: relative;}#sk-container-id-56 div.sk-item::before, #sk-container-id-56 div.sk-parallel-item::before {content: \"\";position: absolute;border-left: 1px solid gray;box-sizing: border-box;top: 0;bottom: 0;left: 50%;z-index: -1;}#sk-container-id-56 div.sk-parallel-item {display: flex;flex-direction: column;z-index: 1;position: relative;background-color: white;}#sk-container-id-56 div.sk-parallel-item:first-child::after {align-self: flex-end;width: 50%;}#sk-container-id-56 div.sk-parallel-item:last-child::after {align-self: flex-start;width: 50%;}#sk-container-id-56 div.sk-parallel-item:only-child::after {width: 0;}#sk-container-id-56 div.sk-dashed-wrapped {border: 1px dashed gray;margin: 0 0.4em 0.5em 0.4em;box-sizing: border-box;padding-bottom: 0.4em;background-color: white;}#sk-container-id-56 div.sk-label label {font-family: monospace;font-weight: bold;display: inline-block;line-height: 1.2em;}#sk-container-id-56 div.sk-label-container {text-align: center;}#sk-container-id-56 div.sk-container {/* jupyter's `normalize.less` sets `[hidden] { display: none; }` but bootstrap.min.css set `[hidden] { display: none !important; }` so we also need the `!important` here to be able to override the default hidden behavior on the sphinx rendered scikit-learn.org. See: https://github.com/scikit-learn/scikit-learn/issues/21755 */display: inline-block !important;position: relative;}#sk-container-id-56 div.sk-text-repr-fallback {display: none;}</style><div id=\"sk-container-id-56\" class=\"sk-top-container\"><div class=\"sk-text-repr-fallback\"><pre>GridSearchCV(cv=5, estimator=ElasticNet(l1_ratio=1),\n",
       "             param_grid={&#x27;alpha&#x27;: [0.05, 0.1, 0.15, 0.2, 0.25]},\n",
       "             scoring=&#x27;neg_root_mean_squared_error&#x27;, verbose=3)</pre><b>In a Jupyter environment, please rerun this cell to show the HTML representation or trust the notebook. <br />On GitHub, the HTML representation is unable to render, please try loading this page with nbviewer.org.</b></div><div class=\"sk-container\" hidden><div class=\"sk-item sk-dashed-wrapped\"><div class=\"sk-label-container\"><div class=\"sk-label sk-toggleable\"><input class=\"sk-toggleable__control sk-hidden--visually\" id=\"sk-estimator-id-228\" type=\"checkbox\" ><label for=\"sk-estimator-id-228\" class=\"sk-toggleable__label sk-toggleable__label-arrow\">GridSearchCV</label><div class=\"sk-toggleable__content\"><pre>GridSearchCV(cv=5, estimator=ElasticNet(l1_ratio=1),\n",
       "             param_grid={&#x27;alpha&#x27;: [0.05, 0.1, 0.15, 0.2, 0.25]},\n",
       "             scoring=&#x27;neg_root_mean_squared_error&#x27;, verbose=3)</pre></div></div></div><div class=\"sk-parallel\"><div class=\"sk-parallel-item\"><div class=\"sk-item\"><div class=\"sk-label-container\"><div class=\"sk-label sk-toggleable\"><input class=\"sk-toggleable__control sk-hidden--visually\" id=\"sk-estimator-id-229\" type=\"checkbox\" ><label for=\"sk-estimator-id-229\" class=\"sk-toggleable__label sk-toggleable__label-arrow\">estimator: ElasticNet</label><div class=\"sk-toggleable__content\"><pre>ElasticNet(l1_ratio=1)</pre></div></div></div><div class=\"sk-serial\"><div class=\"sk-item\"><div class=\"sk-estimator sk-toggleable\"><input class=\"sk-toggleable__control sk-hidden--visually\" id=\"sk-estimator-id-230\" type=\"checkbox\" ><label for=\"sk-estimator-id-230\" class=\"sk-toggleable__label sk-toggleable__label-arrow\">ElasticNet</label><div class=\"sk-toggleable__content\"><pre>ElasticNet(l1_ratio=1)</pre></div></div></div></div></div></div></div></div></div></div>"
      ],
      "text/plain": [
       "GridSearchCV(cv=5, estimator=ElasticNet(l1_ratio=1),\n",
       "             param_grid={'alpha': [0.05, 0.1, 0.15, 0.2, 0.25]},\n",
       "             scoring='neg_root_mean_squared_error', verbose=3)"
      ]
     },
     "execution_count": 1075,
     "metadata": {},
     "output_type": "execute_result"
    }
   ],
   "source": [
    "%%time\n",
    "lasso_model_cv2.fit(X22, y2.ravel())"
   ]
  },
  {
   "cell_type": "code",
   "execution_count": 1076,
   "metadata": {},
   "outputs": [
    {
     "data": {
      "text/html": [
       "<div>\n",
       "<style scoped>\n",
       "    .dataframe tbody tr th:only-of-type {\n",
       "        vertical-align: middle;\n",
       "    }\n",
       "\n",
       "    .dataframe tbody tr th {\n",
       "        vertical-align: top;\n",
       "    }\n",
       "\n",
       "    .dataframe thead th {\n",
       "        text-align: right;\n",
       "    }\n",
       "</style>\n",
       "<table border=\"1\" class=\"dataframe\">\n",
       "  <thead>\n",
       "    <tr style=\"text-align: right;\">\n",
       "      <th></th>\n",
       "      <th>lasso_coefficient</th>\n",
       "    </tr>\n",
       "  </thead>\n",
       "  <tbody>\n",
       "    <tr>\n",
       "      <th>f_room_type[T.Private room]</th>\n",
       "      <td>-25.945</td>\n",
       "    </tr>\n",
       "    <tr>\n",
       "      <th>f_host_response_time[T.within an hour]</th>\n",
       "      <td>-3.505</td>\n",
       "    </tr>\n",
       "    <tr>\n",
       "      <th>f_property_type[T.Entire rental unit]:f_neighbourhood_cleansed[T.Centro Storico]</th>\n",
       "      <td>3.917</td>\n",
       "    </tr>\n",
       "    <tr>\n",
       "      <th>f_property_type[T.Entire home]:f_neighbourhood_cleansed[T.Gavinana Galluzzo]</th>\n",
       "      <td>7.492</td>\n",
       "    </tr>\n",
       "    <tr>\n",
       "      <th>n_accommodates</th>\n",
       "      <td>-2.874</td>\n",
       "    </tr>\n",
       "    <tr>\n",
       "      <th>n_accommodates:f_property_type[T.Entire home]</th>\n",
       "      <td>-2.980</td>\n",
       "    </tr>\n",
       "    <tr>\n",
       "      <th>n_accommodates:f_property_type[T.Entire loft]</th>\n",
       "      <td>3.472</td>\n",
       "    </tr>\n",
       "    <tr>\n",
       "      <th>n_accommodates:f_property_type[T.Entire rental unit]</th>\n",
       "      <td>-0.526</td>\n",
       "    </tr>\n",
       "    <tr>\n",
       "      <th>n_accommodates:f_property_type[T.Entire serviced apartment]</th>\n",
       "      <td>7.758</td>\n",
       "    </tr>\n",
       "    <tr>\n",
       "      <th>n_accommodates:f_property_type[T.Entire vacation home]</th>\n",
       "      <td>-1.986</td>\n",
       "    </tr>\n",
       "    <tr>\n",
       "      <th>n_accommodates:f_property_type[T.Private room in bed and breakfast]</th>\n",
       "      <td>14.817</td>\n",
       "    </tr>\n",
       "    <tr>\n",
       "      <th>n_accommodates:f_property_type[T.Private room in home]</th>\n",
       "      <td>-0.424</td>\n",
       "    </tr>\n",
       "    <tr>\n",
       "      <th>n_accommodates:f_property_type[T.Private room in rental unit]</th>\n",
       "      <td>-5.519</td>\n",
       "    </tr>\n",
       "    <tr>\n",
       "      <th>n_accommodates:f_neighbourhood_cleansed[T.Centro Storico]</th>\n",
       "      <td>8.143</td>\n",
       "    </tr>\n",
       "    <tr>\n",
       "      <th>n_accommodates:f_neighbourhood_cleansed[T.Isolotto Legnaia]</th>\n",
       "      <td>-2.977</td>\n",
       "    </tr>\n",
       "    <tr>\n",
       "      <th>n_accommodates:f_neighbourhood_cleansed[T.Rifredi]</th>\n",
       "      <td>-1.888</td>\n",
       "    </tr>\n",
       "    <tr>\n",
       "      <th>n_beds</th>\n",
       "      <td>12.264</td>\n",
       "    </tr>\n",
       "    <tr>\n",
       "      <th>n_bathrooms</th>\n",
       "      <td>57.680</td>\n",
       "    </tr>\n",
       "    <tr>\n",
       "      <th>n_availability_90</th>\n",
       "      <td>0.010</td>\n",
       "    </tr>\n",
       "    <tr>\n",
       "      <th>n_maximum_nights</th>\n",
       "      <td>0.012</td>\n",
       "    </tr>\n",
       "    <tr>\n",
       "      <th>n_host_response_rate</th>\n",
       "      <td>0.112</td>\n",
       "    </tr>\n",
       "    <tr>\n",
       "      <th>n_host_acceptance_rate</th>\n",
       "      <td>0.116</td>\n",
       "    </tr>\n",
       "    <tr>\n",
       "      <th>n_number_of_reviews</th>\n",
       "      <td>-0.088</td>\n",
       "    </tr>\n",
       "    <tr>\n",
       "      <th>n_review_scores_rating</th>\n",
       "      <td>23.991</td>\n",
       "    </tr>\n",
       "  </tbody>\n",
       "</table>\n",
       "</div>"
      ],
      "text/plain": [
       "                                                    lasso_coefficient\n",
       "f_room_type[T.Private room]                                   -25.945\n",
       "f_host_response_time[T.within an hour]                         -3.505\n",
       "f_property_type[T.Entire rental unit]:f_neighbo...              3.917\n",
       "f_property_type[T.Entire home]:f_neighbourhood_...              7.492\n",
       "n_accommodates                                                 -2.874\n",
       "n_accommodates:f_property_type[T.Entire home]                  -2.980\n",
       "n_accommodates:f_property_type[T.Entire loft]                   3.472\n",
       "n_accommodates:f_property_type[T.Entire rental ...             -0.526\n",
       "n_accommodates:f_property_type[T.Entire service...              7.758\n",
       "n_accommodates:f_property_type[T.Entire vacatio...             -1.986\n",
       "n_accommodates:f_property_type[T.Private room i...             14.817\n",
       "n_accommodates:f_property_type[T.Private room i...             -0.424\n",
       "n_accommodates:f_property_type[T.Private room i...             -5.519\n",
       "n_accommodates:f_neighbourhood_cleansed[T.Centr...              8.143\n",
       "n_accommodates:f_neighbourhood_cleansed[T.Isolo...             -2.977\n",
       "n_accommodates:f_neighbourhood_cleansed[T.Rifredi]             -1.888\n",
       "n_beds                                                         12.264\n",
       "n_bathrooms                                                    57.680\n",
       "n_availability_90                                               0.010\n",
       "n_maximum_nights                                                0.012\n",
       "n_host_response_rate                                            0.112\n",
       "n_host_acceptance_rate                                          0.116\n",
       "n_number_of_reviews                                            -0.088\n",
       "n_review_scores_rating                                         23.991"
      ]
     },
     "execution_count": 1076,
     "metadata": {},
     "output_type": "execute_result"
    }
   ],
   "source": [
    "pd.DataFrame(\n",
    "    lasso_model_cv.best_estimator_.coef_.tolist(),\n",
    "    index=X.design_info.column_names,\n",
    "    columns=[\"lasso_coefficient\"],\n",
    ").assign(lasso_coefficient=lambda x: x.lasso_coefficient.round(3)).loc[\n",
    "    lambda x: x.lasso_coefficient != 0\n",
    "]"
   ]
  },
  {
   "cell_type": "code",
   "execution_count": 1077,
   "metadata": {},
   "outputs": [
    {
     "data": {
      "text/html": [
       "<style>#sk-container-id-57 {color: black;}#sk-container-id-57 pre{padding: 0;}#sk-container-id-57 div.sk-toggleable {background-color: white;}#sk-container-id-57 label.sk-toggleable__label {cursor: pointer;display: block;width: 100%;margin-bottom: 0;padding: 0.3em;box-sizing: border-box;text-align: center;}#sk-container-id-57 label.sk-toggleable__label-arrow:before {content: \"▸\";float: left;margin-right: 0.25em;color: #696969;}#sk-container-id-57 label.sk-toggleable__label-arrow:hover:before {color: black;}#sk-container-id-57 div.sk-estimator:hover label.sk-toggleable__label-arrow:before {color: black;}#sk-container-id-57 div.sk-toggleable__content {max-height: 0;max-width: 0;overflow: hidden;text-align: left;background-color: #f0f8ff;}#sk-container-id-57 div.sk-toggleable__content pre {margin: 0.2em;color: black;border-radius: 0.25em;background-color: #f0f8ff;}#sk-container-id-57 input.sk-toggleable__control:checked~div.sk-toggleable__content {max-height: 200px;max-width: 100%;overflow: auto;}#sk-container-id-57 input.sk-toggleable__control:checked~label.sk-toggleable__label-arrow:before {content: \"▾\";}#sk-container-id-57 div.sk-estimator input.sk-toggleable__control:checked~label.sk-toggleable__label {background-color: #d4ebff;}#sk-container-id-57 div.sk-label input.sk-toggleable__control:checked~label.sk-toggleable__label {background-color: #d4ebff;}#sk-container-id-57 input.sk-hidden--visually {border: 0;clip: rect(1px 1px 1px 1px);clip: rect(1px, 1px, 1px, 1px);height: 1px;margin: -1px;overflow: hidden;padding: 0;position: absolute;width: 1px;}#sk-container-id-57 div.sk-estimator {font-family: monospace;background-color: #f0f8ff;border: 1px dotted black;border-radius: 0.25em;box-sizing: border-box;margin-bottom: 0.5em;}#sk-container-id-57 div.sk-estimator:hover {background-color: #d4ebff;}#sk-container-id-57 div.sk-parallel-item::after {content: \"\";width: 100%;border-bottom: 1px solid gray;flex-grow: 1;}#sk-container-id-57 div.sk-label:hover label.sk-toggleable__label {background-color: #d4ebff;}#sk-container-id-57 div.sk-serial::before {content: \"\";position: absolute;border-left: 1px solid gray;box-sizing: border-box;top: 0;bottom: 0;left: 50%;z-index: 0;}#sk-container-id-57 div.sk-serial {display: flex;flex-direction: column;align-items: center;background-color: white;padding-right: 0.2em;padding-left: 0.2em;position: relative;}#sk-container-id-57 div.sk-item {position: relative;z-index: 1;}#sk-container-id-57 div.sk-parallel {display: flex;align-items: stretch;justify-content: center;background-color: white;position: relative;}#sk-container-id-57 div.sk-item::before, #sk-container-id-57 div.sk-parallel-item::before {content: \"\";position: absolute;border-left: 1px solid gray;box-sizing: border-box;top: 0;bottom: 0;left: 50%;z-index: -1;}#sk-container-id-57 div.sk-parallel-item {display: flex;flex-direction: column;z-index: 1;position: relative;background-color: white;}#sk-container-id-57 div.sk-parallel-item:first-child::after {align-self: flex-end;width: 50%;}#sk-container-id-57 div.sk-parallel-item:last-child::after {align-self: flex-start;width: 50%;}#sk-container-id-57 div.sk-parallel-item:only-child::after {width: 0;}#sk-container-id-57 div.sk-dashed-wrapped {border: 1px dashed gray;margin: 0 0.4em 0.5em 0.4em;box-sizing: border-box;padding-bottom: 0.4em;background-color: white;}#sk-container-id-57 div.sk-label label {font-family: monospace;font-weight: bold;display: inline-block;line-height: 1.2em;}#sk-container-id-57 div.sk-label-container {text-align: center;}#sk-container-id-57 div.sk-container {/* jupyter's `normalize.less` sets `[hidden] { display: none; }` but bootstrap.min.css set `[hidden] { display: none !important; }` so we also need the `!important` here to be able to override the default hidden behavior on the sphinx rendered scikit-learn.org. See: https://github.com/scikit-learn/scikit-learn/issues/21755 */display: inline-block !important;position: relative;}#sk-container-id-57 div.sk-text-repr-fallback {display: none;}</style><div id=\"sk-container-id-57\" class=\"sk-top-container\"><div class=\"sk-text-repr-fallback\"><pre>ElasticNet(alpha=0.25, l1_ratio=1)</pre><b>In a Jupyter environment, please rerun this cell to show the HTML representation or trust the notebook. <br />On GitHub, the HTML representation is unable to render, please try loading this page with nbviewer.org.</b></div><div class=\"sk-container\" hidden><div class=\"sk-item\"><div class=\"sk-estimator sk-toggleable\"><input class=\"sk-toggleable__control sk-hidden--visually\" id=\"sk-estimator-id-231\" type=\"checkbox\" checked><label for=\"sk-estimator-id-231\" class=\"sk-toggleable__label sk-toggleable__label-arrow\">ElasticNet</label><div class=\"sk-toggleable__content\"><pre>ElasticNet(alpha=0.25, l1_ratio=1)</pre></div></div></div></div></div>"
      ],
      "text/plain": [
       "ElasticNet(alpha=0.25, l1_ratio=1)"
      ]
     },
     "execution_count": 1077,
     "metadata": {},
     "output_type": "execute_result"
    }
   ],
   "source": [
    "lasso_model_cv.best_estimator_"
   ]
  },
  {
   "cell_type": "code",
   "execution_count": 1078,
   "metadata": {
    "scrolled": true,
    "tags": []
   },
   "outputs": [
    {
     "name": "stdout",
     "output_type": "stream",
     "text": [
      "LASSO Cross-Validated RMSE for Level Prices: 69.24594343466117\n"
     ]
    }
   ],
   "source": [
    "lasso_rmse = pd.DataFrame(lasso_model_cv.cv_results_).loc[\n",
    "    lambda x: x.param_alpha == lasso_model_cv.best_estimator_.alpha\n",
    "].mean_test_score.values[0] * -1\n",
    "print(\"LASSO Cross-Validated RMSE for Level Prices:\", lasso_rmse)"
   ]
  },
  {
   "cell_type": "code",
   "execution_count": 1079,
   "metadata": {},
   "outputs": [
    {
     "name": "stdout",
     "output_type": "stream",
     "text": [
      "LASSO Cross-Validated RMSE for Log Prices: 0.45938818146744903\n"
     ]
    }
   ],
   "source": [
    "lasso_rmse_ln = pd.DataFrame(lasso_model_cv2.cv_results_).loc[\n",
    "    lambda x: x.param_alpha == lasso_model_cv2.best_estimator_.alpha\n",
    "].mean_test_score.values[0] * -1\n",
    "print(\"LASSO Cross-Validated RMSE for Log Prices:\", lasso_rmse_ln)"
   ]
  },
  {
   "cell_type": "code",
   "execution_count": 1080,
   "metadata": {},
   "outputs": [
    {
     "name": "stdout",
     "output_type": "stream",
     "text": [
      "Test RMSE for LASSO Model With Level Prices: 68.30298757754646\n",
      "Test RMSE for LASSO Model With Log Prices: 0.45263723660073985\n"
     ]
    }
   ],
   "source": [
    "y_test, X_test = dmatrices(\"price ~ \" + \" + \".join(predictors_E), data_holdout)\n",
    "y_test2, X_test2 = dmatrices(\"ln_price ~ \" + \" + \".join(predictors_E), data_holdout)\n",
    "\n",
    "# predicting the target variable on the test dataset\n",
    "y_hat_test_lasso_level = lasso_model_cv.predict(X_test)\n",
    "y_hat_test_lasso_log = lasso_model_cv2.predict(X_test2)\n",
    "\n",
    "# computing the RMSE\n",
    "lasso_rmse_test_level = mean_squared_error(y_test, y_hat_test_lasso_level, squared=False)\n",
    "print(\"Test RMSE for LASSO Model With Level Prices:\", lasso_rmse_test_level)\n",
    "\n",
    "lasso_rmse_test_log = mean_squared_error(y_test2, y_hat_test_lasso_log, squared=False)\n",
    "print(\"Test RMSE for LASSO Model With Log Prices:\", lasso_rmse_test_log)"
   ]
  },
  {
   "cell_type": "markdown",
   "metadata": {},
   "source": [
    "##### Model4: Gradient Boosting Machines (GBM)"
   ]
  },
  {
   "cell_type": "code",
   "execution_count": 1081,
   "metadata": {},
   "outputs": [],
   "source": [
    "from sklearn.ensemble import GradientBoostingRegressor"
   ]
  },
  {
   "cell_type": "code",
   "execution_count": 1082,
   "metadata": {},
   "outputs": [],
   "source": [
    "gbm = GradientBoostingRegressor(learning_rate=0.1, min_samples_split=20, max_features = 10\n",
    "                               )\n",
    "\n",
    "tune_grid = {\"n_estimators\": [200, 300], \"max_depth\": [5, 10]}\n",
    "\n",
    "gbm_model_cv = GridSearchCV(\n",
    "    gbm,\n",
    "    tune_grid,\n",
    "    cv=5,\n",
    "    scoring=\"neg_root_mean_squared_error\",\n",
    "    verbose=10,\n",
    "    n_jobs=-1\n",
    ")"
   ]
  },
  {
   "cell_type": "code",
   "execution_count": 1083,
   "metadata": {},
   "outputs": [],
   "source": [
    "categorical_columns = [col for col in predictors_2 if col.startswith(\"f_\")]\n",
    "numerical_columns = [col for col in predictors_2 if col not in categorical_columns]\n",
    "\n",
    "categorical_encoder = OneHotEncoder(handle_unknown=\"ignore\")\n",
    "\n",
    "preprocessing = ColumnTransformer(\n",
    "    [\n",
    "        (\"cat\", categorical_encoder, categorical_columns),\n",
    "        (\"num\", \"passthrough\", numerical_columns),\n",
    "    ]\n",
    ")\n",
    "\n",
    "gbm_pipe = Pipeline(\n",
    "    [(\"preprocess\", preprocessing), (\"regressor\", gbm_model_cv)], verbose=True\n",
    ")"
   ]
  },
  {
   "cell_type": "code",
   "execution_count": 1084,
   "metadata": {},
   "outputs": [
    {
     "name": "stdout",
     "output_type": "stream",
     "text": [
      "[Pipeline] ........ (step 1 of 2) Processing preprocess, total=   0.0s\n",
      "Fitting 5 folds for each of 4 candidates, totalling 20 fits\n",
      "[Pipeline] ......... (step 2 of 2) Processing regressor, total=   2.2s\n",
      "CPU times: user 244 ms, sys: 91.8 ms, total: 336 ms\n",
      "Wall time: 2.23 s\n"
     ]
    },
    {
     "data": {
      "text/html": [
       "<style>#sk-container-id-58 {color: black;}#sk-container-id-58 pre{padding: 0;}#sk-container-id-58 div.sk-toggleable {background-color: white;}#sk-container-id-58 label.sk-toggleable__label {cursor: pointer;display: block;width: 100%;margin-bottom: 0;padding: 0.3em;box-sizing: border-box;text-align: center;}#sk-container-id-58 label.sk-toggleable__label-arrow:before {content: \"▸\";float: left;margin-right: 0.25em;color: #696969;}#sk-container-id-58 label.sk-toggleable__label-arrow:hover:before {color: black;}#sk-container-id-58 div.sk-estimator:hover label.sk-toggleable__label-arrow:before {color: black;}#sk-container-id-58 div.sk-toggleable__content {max-height: 0;max-width: 0;overflow: hidden;text-align: left;background-color: #f0f8ff;}#sk-container-id-58 div.sk-toggleable__content pre {margin: 0.2em;color: black;border-radius: 0.25em;background-color: #f0f8ff;}#sk-container-id-58 input.sk-toggleable__control:checked~div.sk-toggleable__content {max-height: 200px;max-width: 100%;overflow: auto;}#sk-container-id-58 input.sk-toggleable__control:checked~label.sk-toggleable__label-arrow:before {content: \"▾\";}#sk-container-id-58 div.sk-estimator input.sk-toggleable__control:checked~label.sk-toggleable__label {background-color: #d4ebff;}#sk-container-id-58 div.sk-label input.sk-toggleable__control:checked~label.sk-toggleable__label {background-color: #d4ebff;}#sk-container-id-58 input.sk-hidden--visually {border: 0;clip: rect(1px 1px 1px 1px);clip: rect(1px, 1px, 1px, 1px);height: 1px;margin: -1px;overflow: hidden;padding: 0;position: absolute;width: 1px;}#sk-container-id-58 div.sk-estimator {font-family: monospace;background-color: #f0f8ff;border: 1px dotted black;border-radius: 0.25em;box-sizing: border-box;margin-bottom: 0.5em;}#sk-container-id-58 div.sk-estimator:hover {background-color: #d4ebff;}#sk-container-id-58 div.sk-parallel-item::after {content: \"\";width: 100%;border-bottom: 1px solid gray;flex-grow: 1;}#sk-container-id-58 div.sk-label:hover label.sk-toggleable__label {background-color: #d4ebff;}#sk-container-id-58 div.sk-serial::before {content: \"\";position: absolute;border-left: 1px solid gray;box-sizing: border-box;top: 0;bottom: 0;left: 50%;z-index: 0;}#sk-container-id-58 div.sk-serial {display: flex;flex-direction: column;align-items: center;background-color: white;padding-right: 0.2em;padding-left: 0.2em;position: relative;}#sk-container-id-58 div.sk-item {position: relative;z-index: 1;}#sk-container-id-58 div.sk-parallel {display: flex;align-items: stretch;justify-content: center;background-color: white;position: relative;}#sk-container-id-58 div.sk-item::before, #sk-container-id-58 div.sk-parallel-item::before {content: \"\";position: absolute;border-left: 1px solid gray;box-sizing: border-box;top: 0;bottom: 0;left: 50%;z-index: -1;}#sk-container-id-58 div.sk-parallel-item {display: flex;flex-direction: column;z-index: 1;position: relative;background-color: white;}#sk-container-id-58 div.sk-parallel-item:first-child::after {align-self: flex-end;width: 50%;}#sk-container-id-58 div.sk-parallel-item:last-child::after {align-self: flex-start;width: 50%;}#sk-container-id-58 div.sk-parallel-item:only-child::after {width: 0;}#sk-container-id-58 div.sk-dashed-wrapped {border: 1px dashed gray;margin: 0 0.4em 0.5em 0.4em;box-sizing: border-box;padding-bottom: 0.4em;background-color: white;}#sk-container-id-58 div.sk-label label {font-family: monospace;font-weight: bold;display: inline-block;line-height: 1.2em;}#sk-container-id-58 div.sk-label-container {text-align: center;}#sk-container-id-58 div.sk-container {/* jupyter's `normalize.less` sets `[hidden] { display: none; }` but bootstrap.min.css set `[hidden] { display: none !important; }` so we also need the `!important` here to be able to override the default hidden behavior on the sphinx rendered scikit-learn.org. See: https://github.com/scikit-learn/scikit-learn/issues/21755 */display: inline-block !important;position: relative;}#sk-container-id-58 div.sk-text-repr-fallback {display: none;}</style><div id=\"sk-container-id-58\" class=\"sk-top-container\"><div class=\"sk-text-repr-fallback\"><pre>Pipeline(steps=[(&#x27;preprocess&#x27;,\n",
       "                 ColumnTransformer(transformers=[(&#x27;cat&#x27;,\n",
       "                                                  OneHotEncoder(handle_unknown=&#x27;ignore&#x27;),\n",
       "                                                  [&#x27;f_property_type&#x27;,\n",
       "                                                   &#x27;f_room_type&#x27;,\n",
       "                                                   &#x27;f_neighbourhood_cleansed&#x27;,\n",
       "                                                   &#x27;f_host_response_time&#x27;]),\n",
       "                                                 (&#x27;num&#x27;, &#x27;passthrough&#x27;,\n",
       "                                                  [&#x27;n_accommodates&#x27;, &#x27;n_beds&#x27;,\n",
       "                                                   &#x27;n_bathrooms&#x27;,\n",
       "                                                   &#x27;n_availability_90&#x27;,\n",
       "                                                   &#x27;n_maximum_nights&#x27;,\n",
       "                                                   &#x27;n_host_response_rate&#x27;,\n",
       "                                                   &#x27;n_host_acceptance_rate&#x27;,\n",
       "                                                   &#x27;n_number_of_reviews&#x27;,\n",
       "                                                   &#x27;n_review_scores_rating&#x27;,\n",
       "                                                   &#x27;d_host_is_superhost&#x27;])])),\n",
       "                (&#x27;regressor&#x27;,\n",
       "                 GridSearchCV(cv=5,\n",
       "                              estimator=GradientBoostingRegressor(max_features=10,\n",
       "                                                                  min_samples_split=20),\n",
       "                              n_jobs=-1,\n",
       "                              param_grid={&#x27;max_depth&#x27;: [5, 10],\n",
       "                                          &#x27;n_estimators&#x27;: [200, 300]},\n",
       "                              scoring=&#x27;neg_root_mean_squared_error&#x27;,\n",
       "                              verbose=10))],\n",
       "         verbose=True)</pre><b>In a Jupyter environment, please rerun this cell to show the HTML representation or trust the notebook. <br />On GitHub, the HTML representation is unable to render, please try loading this page with nbviewer.org.</b></div><div class=\"sk-container\" hidden><div class=\"sk-item sk-dashed-wrapped\"><div class=\"sk-label-container\"><div class=\"sk-label sk-toggleable\"><input class=\"sk-toggleable__control sk-hidden--visually\" id=\"sk-estimator-id-232\" type=\"checkbox\" ><label for=\"sk-estimator-id-232\" class=\"sk-toggleable__label sk-toggleable__label-arrow\">Pipeline</label><div class=\"sk-toggleable__content\"><pre>Pipeline(steps=[(&#x27;preprocess&#x27;,\n",
       "                 ColumnTransformer(transformers=[(&#x27;cat&#x27;,\n",
       "                                                  OneHotEncoder(handle_unknown=&#x27;ignore&#x27;),\n",
       "                                                  [&#x27;f_property_type&#x27;,\n",
       "                                                   &#x27;f_room_type&#x27;,\n",
       "                                                   &#x27;f_neighbourhood_cleansed&#x27;,\n",
       "                                                   &#x27;f_host_response_time&#x27;]),\n",
       "                                                 (&#x27;num&#x27;, &#x27;passthrough&#x27;,\n",
       "                                                  [&#x27;n_accommodates&#x27;, &#x27;n_beds&#x27;,\n",
       "                                                   &#x27;n_bathrooms&#x27;,\n",
       "                                                   &#x27;n_availability_90&#x27;,\n",
       "                                                   &#x27;n_maximum_nights&#x27;,\n",
       "                                                   &#x27;n_host_response_rate&#x27;,\n",
       "                                                   &#x27;n_host_acceptance_rate&#x27;,\n",
       "                                                   &#x27;n_number_of_reviews&#x27;,\n",
       "                                                   &#x27;n_review_scores_rating&#x27;,\n",
       "                                                   &#x27;d_host_is_superhost&#x27;])])),\n",
       "                (&#x27;regressor&#x27;,\n",
       "                 GridSearchCV(cv=5,\n",
       "                              estimator=GradientBoostingRegressor(max_features=10,\n",
       "                                                                  min_samples_split=20),\n",
       "                              n_jobs=-1,\n",
       "                              param_grid={&#x27;max_depth&#x27;: [5, 10],\n",
       "                                          &#x27;n_estimators&#x27;: [200, 300]},\n",
       "                              scoring=&#x27;neg_root_mean_squared_error&#x27;,\n",
       "                              verbose=10))],\n",
       "         verbose=True)</pre></div></div></div><div class=\"sk-serial\"><div class=\"sk-item sk-dashed-wrapped\"><div class=\"sk-label-container\"><div class=\"sk-label sk-toggleable\"><input class=\"sk-toggleable__control sk-hidden--visually\" id=\"sk-estimator-id-233\" type=\"checkbox\" ><label for=\"sk-estimator-id-233\" class=\"sk-toggleable__label sk-toggleable__label-arrow\">preprocess: ColumnTransformer</label><div class=\"sk-toggleable__content\"><pre>ColumnTransformer(transformers=[(&#x27;cat&#x27;, OneHotEncoder(handle_unknown=&#x27;ignore&#x27;),\n",
       "                                 [&#x27;f_property_type&#x27;, &#x27;f_room_type&#x27;,\n",
       "                                  &#x27;f_neighbourhood_cleansed&#x27;,\n",
       "                                  &#x27;f_host_response_time&#x27;]),\n",
       "                                (&#x27;num&#x27;, &#x27;passthrough&#x27;,\n",
       "                                 [&#x27;n_accommodates&#x27;, &#x27;n_beds&#x27;, &#x27;n_bathrooms&#x27;,\n",
       "                                  &#x27;n_availability_90&#x27;, &#x27;n_maximum_nights&#x27;,\n",
       "                                  &#x27;n_host_response_rate&#x27;,\n",
       "                                  &#x27;n_host_acceptance_rate&#x27;,\n",
       "                                  &#x27;n_number_of_reviews&#x27;,\n",
       "                                  &#x27;n_review_scores_rating&#x27;,\n",
       "                                  &#x27;d_host_is_superhost&#x27;])])</pre></div></div></div><div class=\"sk-parallel\"><div class=\"sk-parallel-item\"><div class=\"sk-item\"><div class=\"sk-label-container\"><div class=\"sk-label sk-toggleable\"><input class=\"sk-toggleable__control sk-hidden--visually\" id=\"sk-estimator-id-234\" type=\"checkbox\" ><label for=\"sk-estimator-id-234\" class=\"sk-toggleable__label sk-toggleable__label-arrow\">cat</label><div class=\"sk-toggleable__content\"><pre>[&#x27;f_property_type&#x27;, &#x27;f_room_type&#x27;, &#x27;f_neighbourhood_cleansed&#x27;, &#x27;f_host_response_time&#x27;]</pre></div></div></div><div class=\"sk-serial\"><div class=\"sk-item\"><div class=\"sk-estimator sk-toggleable\"><input class=\"sk-toggleable__control sk-hidden--visually\" id=\"sk-estimator-id-235\" type=\"checkbox\" ><label for=\"sk-estimator-id-235\" class=\"sk-toggleable__label sk-toggleable__label-arrow\">OneHotEncoder</label><div class=\"sk-toggleable__content\"><pre>OneHotEncoder(handle_unknown=&#x27;ignore&#x27;)</pre></div></div></div></div></div></div><div class=\"sk-parallel-item\"><div class=\"sk-item\"><div class=\"sk-label-container\"><div class=\"sk-label sk-toggleable\"><input class=\"sk-toggleable__control sk-hidden--visually\" id=\"sk-estimator-id-236\" type=\"checkbox\" ><label for=\"sk-estimator-id-236\" class=\"sk-toggleable__label sk-toggleable__label-arrow\">num</label><div class=\"sk-toggleable__content\"><pre>[&#x27;n_accommodates&#x27;, &#x27;n_beds&#x27;, &#x27;n_bathrooms&#x27;, &#x27;n_availability_90&#x27;, &#x27;n_maximum_nights&#x27;, &#x27;n_host_response_rate&#x27;, &#x27;n_host_acceptance_rate&#x27;, &#x27;n_number_of_reviews&#x27;, &#x27;n_review_scores_rating&#x27;, &#x27;d_host_is_superhost&#x27;]</pre></div></div></div><div class=\"sk-serial\"><div class=\"sk-item\"><div class=\"sk-estimator sk-toggleable\"><input class=\"sk-toggleable__control sk-hidden--visually\" id=\"sk-estimator-id-237\" type=\"checkbox\" ><label for=\"sk-estimator-id-237\" class=\"sk-toggleable__label sk-toggleable__label-arrow\">passthrough</label><div class=\"sk-toggleable__content\"><pre>passthrough</pre></div></div></div></div></div></div></div></div><div class=\"sk-item sk-dashed-wrapped\"><div class=\"sk-label-container\"><div class=\"sk-label sk-toggleable\"><input class=\"sk-toggleable__control sk-hidden--visually\" id=\"sk-estimator-id-238\" type=\"checkbox\" ><label for=\"sk-estimator-id-238\" class=\"sk-toggleable__label sk-toggleable__label-arrow\">regressor: GridSearchCV</label><div class=\"sk-toggleable__content\"><pre>GridSearchCV(cv=5,\n",
       "             estimator=GradientBoostingRegressor(max_features=10,\n",
       "                                                 min_samples_split=20),\n",
       "             n_jobs=-1,\n",
       "             param_grid={&#x27;max_depth&#x27;: [5, 10], &#x27;n_estimators&#x27;: [200, 300]},\n",
       "             scoring=&#x27;neg_root_mean_squared_error&#x27;, verbose=10)</pre></div></div></div><div class=\"sk-parallel\"><div class=\"sk-parallel-item\"><div class=\"sk-item\"><div class=\"sk-label-container\"><div class=\"sk-label sk-toggleable\"><input class=\"sk-toggleable__control sk-hidden--visually\" id=\"sk-estimator-id-239\" type=\"checkbox\" ><label for=\"sk-estimator-id-239\" class=\"sk-toggleable__label sk-toggleable__label-arrow\">estimator: GradientBoostingRegressor</label><div class=\"sk-toggleable__content\"><pre>GradientBoostingRegressor(max_features=10, min_samples_split=20)</pre></div></div></div><div class=\"sk-serial\"><div class=\"sk-item\"><div class=\"sk-estimator sk-toggleable\"><input class=\"sk-toggleable__control sk-hidden--visually\" id=\"sk-estimator-id-240\" type=\"checkbox\" ><label for=\"sk-estimator-id-240\" class=\"sk-toggleable__label sk-toggleable__label-arrow\">GradientBoostingRegressor</label><div class=\"sk-toggleable__content\"><pre>GradientBoostingRegressor(max_features=10, min_samples_split=20)</pre></div></div></div></div></div></div></div></div></div></div></div></div>"
      ],
      "text/plain": [
       "Pipeline(steps=[('preprocess',\n",
       "                 ColumnTransformer(transformers=[('cat',\n",
       "                                                  OneHotEncoder(handle_unknown='ignore'),\n",
       "                                                  ['f_property_type',\n",
       "                                                   'f_room_type',\n",
       "                                                   'f_neighbourhood_cleansed',\n",
       "                                                   'f_host_response_time']),\n",
       "                                                 ('num', 'passthrough',\n",
       "                                                  ['n_accommodates', 'n_beds',\n",
       "                                                   'n_bathrooms',\n",
       "                                                   'n_availability_90',\n",
       "                                                   'n_maximum_nights',\n",
       "                                                   'n_host_response_rate',\n",
       "                                                   'n_host_acceptance_rate',\n",
       "                                                   'n_number_of_reviews',\n",
       "                                                   'n_review_scores_rating',\n",
       "                                                   'd_host_is_superhost'])])),\n",
       "                ('regressor',\n",
       "                 GridSearchCV(cv=5,\n",
       "                              estimator=GradientBoostingRegressor(max_features=10,\n",
       "                                                                  min_samples_split=20),\n",
       "                              n_jobs=-1,\n",
       "                              param_grid={'max_depth': [5, 10],\n",
       "                                          'n_estimators': [200, 300]},\n",
       "                              scoring='neg_root_mean_squared_error',\n",
       "                              verbose=10))],\n",
       "         verbose=True)"
      ]
     },
     "execution_count": 1084,
     "metadata": {},
     "output_type": "execute_result"
    }
   ],
   "source": [
    "%%time\n",
    "gbm_pipe.fit(data_train[predictors_2],data_train.price)"
   ]
  },
  {
   "cell_type": "code",
   "execution_count": 1085,
   "metadata": {},
   "outputs": [
    {
     "data": {
      "text/html": [
       "<style>#sk-container-id-59 {color: black;}#sk-container-id-59 pre{padding: 0;}#sk-container-id-59 div.sk-toggleable {background-color: white;}#sk-container-id-59 label.sk-toggleable__label {cursor: pointer;display: block;width: 100%;margin-bottom: 0;padding: 0.3em;box-sizing: border-box;text-align: center;}#sk-container-id-59 label.sk-toggleable__label-arrow:before {content: \"▸\";float: left;margin-right: 0.25em;color: #696969;}#sk-container-id-59 label.sk-toggleable__label-arrow:hover:before {color: black;}#sk-container-id-59 div.sk-estimator:hover label.sk-toggleable__label-arrow:before {color: black;}#sk-container-id-59 div.sk-toggleable__content {max-height: 0;max-width: 0;overflow: hidden;text-align: left;background-color: #f0f8ff;}#sk-container-id-59 div.sk-toggleable__content pre {margin: 0.2em;color: black;border-radius: 0.25em;background-color: #f0f8ff;}#sk-container-id-59 input.sk-toggleable__control:checked~div.sk-toggleable__content {max-height: 200px;max-width: 100%;overflow: auto;}#sk-container-id-59 input.sk-toggleable__control:checked~label.sk-toggleable__label-arrow:before {content: \"▾\";}#sk-container-id-59 div.sk-estimator input.sk-toggleable__control:checked~label.sk-toggleable__label {background-color: #d4ebff;}#sk-container-id-59 div.sk-label input.sk-toggleable__control:checked~label.sk-toggleable__label {background-color: #d4ebff;}#sk-container-id-59 input.sk-hidden--visually {border: 0;clip: rect(1px 1px 1px 1px);clip: rect(1px, 1px, 1px, 1px);height: 1px;margin: -1px;overflow: hidden;padding: 0;position: absolute;width: 1px;}#sk-container-id-59 div.sk-estimator {font-family: monospace;background-color: #f0f8ff;border: 1px dotted black;border-radius: 0.25em;box-sizing: border-box;margin-bottom: 0.5em;}#sk-container-id-59 div.sk-estimator:hover {background-color: #d4ebff;}#sk-container-id-59 div.sk-parallel-item::after {content: \"\";width: 100%;border-bottom: 1px solid gray;flex-grow: 1;}#sk-container-id-59 div.sk-label:hover label.sk-toggleable__label {background-color: #d4ebff;}#sk-container-id-59 div.sk-serial::before {content: \"\";position: absolute;border-left: 1px solid gray;box-sizing: border-box;top: 0;bottom: 0;left: 50%;z-index: 0;}#sk-container-id-59 div.sk-serial {display: flex;flex-direction: column;align-items: center;background-color: white;padding-right: 0.2em;padding-left: 0.2em;position: relative;}#sk-container-id-59 div.sk-item {position: relative;z-index: 1;}#sk-container-id-59 div.sk-parallel {display: flex;align-items: stretch;justify-content: center;background-color: white;position: relative;}#sk-container-id-59 div.sk-item::before, #sk-container-id-59 div.sk-parallel-item::before {content: \"\";position: absolute;border-left: 1px solid gray;box-sizing: border-box;top: 0;bottom: 0;left: 50%;z-index: -1;}#sk-container-id-59 div.sk-parallel-item {display: flex;flex-direction: column;z-index: 1;position: relative;background-color: white;}#sk-container-id-59 div.sk-parallel-item:first-child::after {align-self: flex-end;width: 50%;}#sk-container-id-59 div.sk-parallel-item:last-child::after {align-self: flex-start;width: 50%;}#sk-container-id-59 div.sk-parallel-item:only-child::after {width: 0;}#sk-container-id-59 div.sk-dashed-wrapped {border: 1px dashed gray;margin: 0 0.4em 0.5em 0.4em;box-sizing: border-box;padding-bottom: 0.4em;background-color: white;}#sk-container-id-59 div.sk-label label {font-family: monospace;font-weight: bold;display: inline-block;line-height: 1.2em;}#sk-container-id-59 div.sk-label-container {text-align: center;}#sk-container-id-59 div.sk-container {/* jupyter's `normalize.less` sets `[hidden] { display: none; }` but bootstrap.min.css set `[hidden] { display: none !important; }` so we also need the `!important` here to be able to override the default hidden behavior on the sphinx rendered scikit-learn.org. See: https://github.com/scikit-learn/scikit-learn/issues/21755 */display: inline-block !important;position: relative;}#sk-container-id-59 div.sk-text-repr-fallback {display: none;}</style><div id=\"sk-container-id-59\" class=\"sk-top-container\"><div class=\"sk-text-repr-fallback\"><pre>GradientBoostingRegressor(max_depth=5, max_features=10, min_samples_split=20,\n",
       "                          n_estimators=200)</pre><b>In a Jupyter environment, please rerun this cell to show the HTML representation or trust the notebook. <br />On GitHub, the HTML representation is unable to render, please try loading this page with nbviewer.org.</b></div><div class=\"sk-container\" hidden><div class=\"sk-item\"><div class=\"sk-estimator sk-toggleable\"><input class=\"sk-toggleable__control sk-hidden--visually\" id=\"sk-estimator-id-241\" type=\"checkbox\" checked><label for=\"sk-estimator-id-241\" class=\"sk-toggleable__label sk-toggleable__label-arrow\">GradientBoostingRegressor</label><div class=\"sk-toggleable__content\"><pre>GradientBoostingRegressor(max_depth=5, max_features=10, min_samples_split=20,\n",
       "                          n_estimators=200)</pre></div></div></div></div></div>"
      ],
      "text/plain": [
       "GradientBoostingRegressor(max_depth=5, max_features=10, min_samples_split=20,\n",
       "                          n_estimators=200)"
      ]
     },
     "execution_count": 1085,
     "metadata": {},
     "output_type": "execute_result"
    }
   ],
   "source": [
    "gbm_model_cv.best_estimator_"
   ]
  },
  {
   "cell_type": "code",
   "execution_count": 1086,
   "metadata": {},
   "outputs": [],
   "source": [
    "gbm_rmse = gbm_model_cv.best_score_*-1"
   ]
  },
  {
   "cell_type": "code",
   "execution_count": 1087,
   "metadata": {
    "tags": []
   },
   "outputs": [
    {
     "data": {
      "text/plain": [
       "66.09698199724521"
      ]
     },
     "execution_count": 1087,
     "metadata": {},
     "output_type": "execute_result"
    }
   ],
   "source": [
    "gbm_rmse"
   ]
  },
  {
   "cell_type": "code",
   "execution_count": 1088,
   "metadata": {},
   "outputs": [],
   "source": [
    "# predicting the target variable on the test dataset using the trained pipeline\n",
    "y_hat_test_gbm = gbm_pipe.predict(data_holdout[predictors_2])"
   ]
  },
  {
   "cell_type": "code",
   "execution_count": 1089,
   "metadata": {},
   "outputs": [
    {
     "name": "stdout",
     "output_type": "stream",
     "text": [
      "Test RMSE for GBM Model With Level Prices: 66.30138608329376\n"
     ]
    }
   ],
   "source": [
    "# computing the test RMSE\n",
    "gbm_rmse_test = mean_squared_error(data_holdout.price, y_hat_test_gbm, squared=False)\n",
    "print(\"Test RMSE for GBM Model With Level Prices:\", gbm_rmse_test)"
   ]
  },
  {
   "cell_type": "code",
   "execution_count": 1090,
   "metadata": {},
   "outputs": [
    {
     "name": "stdout",
     "output_type": "stream",
     "text": [
      "[Pipeline] ........ (step 1 of 2) Processing preprocess, total=   0.0s\n",
      "Fitting 5 folds for each of 4 candidates, totalling 20 fits\n",
      "[Pipeline] ......... (step 2 of 2) Processing regressor, total=   1.3s\n",
      "CPU times: user 228 ms, sys: 13.7 ms, total: 241 ms\n",
      "Wall time: 1.31 s\n"
     ]
    },
    {
     "data": {
      "text/html": [
       "<style>#sk-container-id-60 {color: black;}#sk-container-id-60 pre{padding: 0;}#sk-container-id-60 div.sk-toggleable {background-color: white;}#sk-container-id-60 label.sk-toggleable__label {cursor: pointer;display: block;width: 100%;margin-bottom: 0;padding: 0.3em;box-sizing: border-box;text-align: center;}#sk-container-id-60 label.sk-toggleable__label-arrow:before {content: \"▸\";float: left;margin-right: 0.25em;color: #696969;}#sk-container-id-60 label.sk-toggleable__label-arrow:hover:before {color: black;}#sk-container-id-60 div.sk-estimator:hover label.sk-toggleable__label-arrow:before {color: black;}#sk-container-id-60 div.sk-toggleable__content {max-height: 0;max-width: 0;overflow: hidden;text-align: left;background-color: #f0f8ff;}#sk-container-id-60 div.sk-toggleable__content pre {margin: 0.2em;color: black;border-radius: 0.25em;background-color: #f0f8ff;}#sk-container-id-60 input.sk-toggleable__control:checked~div.sk-toggleable__content {max-height: 200px;max-width: 100%;overflow: auto;}#sk-container-id-60 input.sk-toggleable__control:checked~label.sk-toggleable__label-arrow:before {content: \"▾\";}#sk-container-id-60 div.sk-estimator input.sk-toggleable__control:checked~label.sk-toggleable__label {background-color: #d4ebff;}#sk-container-id-60 div.sk-label input.sk-toggleable__control:checked~label.sk-toggleable__label {background-color: #d4ebff;}#sk-container-id-60 input.sk-hidden--visually {border: 0;clip: rect(1px 1px 1px 1px);clip: rect(1px, 1px, 1px, 1px);height: 1px;margin: -1px;overflow: hidden;padding: 0;position: absolute;width: 1px;}#sk-container-id-60 div.sk-estimator {font-family: monospace;background-color: #f0f8ff;border: 1px dotted black;border-radius: 0.25em;box-sizing: border-box;margin-bottom: 0.5em;}#sk-container-id-60 div.sk-estimator:hover {background-color: #d4ebff;}#sk-container-id-60 div.sk-parallel-item::after {content: \"\";width: 100%;border-bottom: 1px solid gray;flex-grow: 1;}#sk-container-id-60 div.sk-label:hover label.sk-toggleable__label {background-color: #d4ebff;}#sk-container-id-60 div.sk-serial::before {content: \"\";position: absolute;border-left: 1px solid gray;box-sizing: border-box;top: 0;bottom: 0;left: 50%;z-index: 0;}#sk-container-id-60 div.sk-serial {display: flex;flex-direction: column;align-items: center;background-color: white;padding-right: 0.2em;padding-left: 0.2em;position: relative;}#sk-container-id-60 div.sk-item {position: relative;z-index: 1;}#sk-container-id-60 div.sk-parallel {display: flex;align-items: stretch;justify-content: center;background-color: white;position: relative;}#sk-container-id-60 div.sk-item::before, #sk-container-id-60 div.sk-parallel-item::before {content: \"\";position: absolute;border-left: 1px solid gray;box-sizing: border-box;top: 0;bottom: 0;left: 50%;z-index: -1;}#sk-container-id-60 div.sk-parallel-item {display: flex;flex-direction: column;z-index: 1;position: relative;background-color: white;}#sk-container-id-60 div.sk-parallel-item:first-child::after {align-self: flex-end;width: 50%;}#sk-container-id-60 div.sk-parallel-item:last-child::after {align-self: flex-start;width: 50%;}#sk-container-id-60 div.sk-parallel-item:only-child::after {width: 0;}#sk-container-id-60 div.sk-dashed-wrapped {border: 1px dashed gray;margin: 0 0.4em 0.5em 0.4em;box-sizing: border-box;padding-bottom: 0.4em;background-color: white;}#sk-container-id-60 div.sk-label label {font-family: monospace;font-weight: bold;display: inline-block;line-height: 1.2em;}#sk-container-id-60 div.sk-label-container {text-align: center;}#sk-container-id-60 div.sk-container {/* jupyter's `normalize.less` sets `[hidden] { display: none; }` but bootstrap.min.css set `[hidden] { display: none !important; }` so we also need the `!important` here to be able to override the default hidden behavior on the sphinx rendered scikit-learn.org. See: https://github.com/scikit-learn/scikit-learn/issues/21755 */display: inline-block !important;position: relative;}#sk-container-id-60 div.sk-text-repr-fallback {display: none;}</style><div id=\"sk-container-id-60\" class=\"sk-top-container\"><div class=\"sk-text-repr-fallback\"><pre>Pipeline(steps=[(&#x27;preprocess&#x27;,\n",
       "                 ColumnTransformer(transformers=[(&#x27;cat&#x27;,\n",
       "                                                  OneHotEncoder(handle_unknown=&#x27;ignore&#x27;),\n",
       "                                                  [&#x27;f_property_type&#x27;,\n",
       "                                                   &#x27;f_room_type&#x27;,\n",
       "                                                   &#x27;f_neighbourhood_cleansed&#x27;,\n",
       "                                                   &#x27;f_host_response_time&#x27;]),\n",
       "                                                 (&#x27;num&#x27;, &#x27;passthrough&#x27;,\n",
       "                                                  [&#x27;n_accommodates&#x27;, &#x27;n_beds&#x27;,\n",
       "                                                   &#x27;n_bathrooms&#x27;,\n",
       "                                                   &#x27;n_availability_90&#x27;,\n",
       "                                                   &#x27;n_maximum_nights&#x27;,\n",
       "                                                   &#x27;n_host_response_rate&#x27;,\n",
       "                                                   &#x27;n_host_acceptance_rate&#x27;,\n",
       "                                                   &#x27;n_number_of_reviews&#x27;,\n",
       "                                                   &#x27;n_review_scores_rating&#x27;,\n",
       "                                                   &#x27;d_host_is_superhost&#x27;])])),\n",
       "                (&#x27;regressor&#x27;,\n",
       "                 GridSearchCV(cv=5,\n",
       "                              estimator=GradientBoostingRegressor(max_features=10,\n",
       "                                                                  min_samples_split=20),\n",
       "                              n_jobs=-1,\n",
       "                              param_grid={&#x27;max_depth&#x27;: [5, 10],\n",
       "                                          &#x27;n_estimators&#x27;: [200, 300]},\n",
       "                              scoring=&#x27;neg_root_mean_squared_error&#x27;,\n",
       "                              verbose=10))],\n",
       "         verbose=True)</pre><b>In a Jupyter environment, please rerun this cell to show the HTML representation or trust the notebook. <br />On GitHub, the HTML representation is unable to render, please try loading this page with nbviewer.org.</b></div><div class=\"sk-container\" hidden><div class=\"sk-item sk-dashed-wrapped\"><div class=\"sk-label-container\"><div class=\"sk-label sk-toggleable\"><input class=\"sk-toggleable__control sk-hidden--visually\" id=\"sk-estimator-id-242\" type=\"checkbox\" ><label for=\"sk-estimator-id-242\" class=\"sk-toggleable__label sk-toggleable__label-arrow\">Pipeline</label><div class=\"sk-toggleable__content\"><pre>Pipeline(steps=[(&#x27;preprocess&#x27;,\n",
       "                 ColumnTransformer(transformers=[(&#x27;cat&#x27;,\n",
       "                                                  OneHotEncoder(handle_unknown=&#x27;ignore&#x27;),\n",
       "                                                  [&#x27;f_property_type&#x27;,\n",
       "                                                   &#x27;f_room_type&#x27;,\n",
       "                                                   &#x27;f_neighbourhood_cleansed&#x27;,\n",
       "                                                   &#x27;f_host_response_time&#x27;]),\n",
       "                                                 (&#x27;num&#x27;, &#x27;passthrough&#x27;,\n",
       "                                                  [&#x27;n_accommodates&#x27;, &#x27;n_beds&#x27;,\n",
       "                                                   &#x27;n_bathrooms&#x27;,\n",
       "                                                   &#x27;n_availability_90&#x27;,\n",
       "                                                   &#x27;n_maximum_nights&#x27;,\n",
       "                                                   &#x27;n_host_response_rate&#x27;,\n",
       "                                                   &#x27;n_host_acceptance_rate&#x27;,\n",
       "                                                   &#x27;n_number_of_reviews&#x27;,\n",
       "                                                   &#x27;n_review_scores_rating&#x27;,\n",
       "                                                   &#x27;d_host_is_superhost&#x27;])])),\n",
       "                (&#x27;regressor&#x27;,\n",
       "                 GridSearchCV(cv=5,\n",
       "                              estimator=GradientBoostingRegressor(max_features=10,\n",
       "                                                                  min_samples_split=20),\n",
       "                              n_jobs=-1,\n",
       "                              param_grid={&#x27;max_depth&#x27;: [5, 10],\n",
       "                                          &#x27;n_estimators&#x27;: [200, 300]},\n",
       "                              scoring=&#x27;neg_root_mean_squared_error&#x27;,\n",
       "                              verbose=10))],\n",
       "         verbose=True)</pre></div></div></div><div class=\"sk-serial\"><div class=\"sk-item sk-dashed-wrapped\"><div class=\"sk-label-container\"><div class=\"sk-label sk-toggleable\"><input class=\"sk-toggleable__control sk-hidden--visually\" id=\"sk-estimator-id-243\" type=\"checkbox\" ><label for=\"sk-estimator-id-243\" class=\"sk-toggleable__label sk-toggleable__label-arrow\">preprocess: ColumnTransformer</label><div class=\"sk-toggleable__content\"><pre>ColumnTransformer(transformers=[(&#x27;cat&#x27;, OneHotEncoder(handle_unknown=&#x27;ignore&#x27;),\n",
       "                                 [&#x27;f_property_type&#x27;, &#x27;f_room_type&#x27;,\n",
       "                                  &#x27;f_neighbourhood_cleansed&#x27;,\n",
       "                                  &#x27;f_host_response_time&#x27;]),\n",
       "                                (&#x27;num&#x27;, &#x27;passthrough&#x27;,\n",
       "                                 [&#x27;n_accommodates&#x27;, &#x27;n_beds&#x27;, &#x27;n_bathrooms&#x27;,\n",
       "                                  &#x27;n_availability_90&#x27;, &#x27;n_maximum_nights&#x27;,\n",
       "                                  &#x27;n_host_response_rate&#x27;,\n",
       "                                  &#x27;n_host_acceptance_rate&#x27;,\n",
       "                                  &#x27;n_number_of_reviews&#x27;,\n",
       "                                  &#x27;n_review_scores_rating&#x27;,\n",
       "                                  &#x27;d_host_is_superhost&#x27;])])</pre></div></div></div><div class=\"sk-parallel\"><div class=\"sk-parallel-item\"><div class=\"sk-item\"><div class=\"sk-label-container\"><div class=\"sk-label sk-toggleable\"><input class=\"sk-toggleable__control sk-hidden--visually\" id=\"sk-estimator-id-244\" type=\"checkbox\" ><label for=\"sk-estimator-id-244\" class=\"sk-toggleable__label sk-toggleable__label-arrow\">cat</label><div class=\"sk-toggleable__content\"><pre>[&#x27;f_property_type&#x27;, &#x27;f_room_type&#x27;, &#x27;f_neighbourhood_cleansed&#x27;, &#x27;f_host_response_time&#x27;]</pre></div></div></div><div class=\"sk-serial\"><div class=\"sk-item\"><div class=\"sk-estimator sk-toggleable\"><input class=\"sk-toggleable__control sk-hidden--visually\" id=\"sk-estimator-id-245\" type=\"checkbox\" ><label for=\"sk-estimator-id-245\" class=\"sk-toggleable__label sk-toggleable__label-arrow\">OneHotEncoder</label><div class=\"sk-toggleable__content\"><pre>OneHotEncoder(handle_unknown=&#x27;ignore&#x27;)</pre></div></div></div></div></div></div><div class=\"sk-parallel-item\"><div class=\"sk-item\"><div class=\"sk-label-container\"><div class=\"sk-label sk-toggleable\"><input class=\"sk-toggleable__control sk-hidden--visually\" id=\"sk-estimator-id-246\" type=\"checkbox\" ><label for=\"sk-estimator-id-246\" class=\"sk-toggleable__label sk-toggleable__label-arrow\">num</label><div class=\"sk-toggleable__content\"><pre>[&#x27;n_accommodates&#x27;, &#x27;n_beds&#x27;, &#x27;n_bathrooms&#x27;, &#x27;n_availability_90&#x27;, &#x27;n_maximum_nights&#x27;, &#x27;n_host_response_rate&#x27;, &#x27;n_host_acceptance_rate&#x27;, &#x27;n_number_of_reviews&#x27;, &#x27;n_review_scores_rating&#x27;, &#x27;d_host_is_superhost&#x27;]</pre></div></div></div><div class=\"sk-serial\"><div class=\"sk-item\"><div class=\"sk-estimator sk-toggleable\"><input class=\"sk-toggleable__control sk-hidden--visually\" id=\"sk-estimator-id-247\" type=\"checkbox\" ><label for=\"sk-estimator-id-247\" class=\"sk-toggleable__label sk-toggleable__label-arrow\">passthrough</label><div class=\"sk-toggleable__content\"><pre>passthrough</pre></div></div></div></div></div></div></div></div><div class=\"sk-item sk-dashed-wrapped\"><div class=\"sk-label-container\"><div class=\"sk-label sk-toggleable\"><input class=\"sk-toggleable__control sk-hidden--visually\" id=\"sk-estimator-id-248\" type=\"checkbox\" ><label for=\"sk-estimator-id-248\" class=\"sk-toggleable__label sk-toggleable__label-arrow\">regressor: GridSearchCV</label><div class=\"sk-toggleable__content\"><pre>GridSearchCV(cv=5,\n",
       "             estimator=GradientBoostingRegressor(max_features=10,\n",
       "                                                 min_samples_split=20),\n",
       "             n_jobs=-1,\n",
       "             param_grid={&#x27;max_depth&#x27;: [5, 10], &#x27;n_estimators&#x27;: [200, 300]},\n",
       "             scoring=&#x27;neg_root_mean_squared_error&#x27;, verbose=10)</pre></div></div></div><div class=\"sk-parallel\"><div class=\"sk-parallel-item\"><div class=\"sk-item\"><div class=\"sk-label-container\"><div class=\"sk-label sk-toggleable\"><input class=\"sk-toggleable__control sk-hidden--visually\" id=\"sk-estimator-id-249\" type=\"checkbox\" ><label for=\"sk-estimator-id-249\" class=\"sk-toggleable__label sk-toggleable__label-arrow\">estimator: GradientBoostingRegressor</label><div class=\"sk-toggleable__content\"><pre>GradientBoostingRegressor(max_features=10, min_samples_split=20)</pre></div></div></div><div class=\"sk-serial\"><div class=\"sk-item\"><div class=\"sk-estimator sk-toggleable\"><input class=\"sk-toggleable__control sk-hidden--visually\" id=\"sk-estimator-id-250\" type=\"checkbox\" ><label for=\"sk-estimator-id-250\" class=\"sk-toggleable__label sk-toggleable__label-arrow\">GradientBoostingRegressor</label><div class=\"sk-toggleable__content\"><pre>GradientBoostingRegressor(max_features=10, min_samples_split=20)</pre></div></div></div></div></div></div></div></div></div></div></div></div>"
      ],
      "text/plain": [
       "Pipeline(steps=[('preprocess',\n",
       "                 ColumnTransformer(transformers=[('cat',\n",
       "                                                  OneHotEncoder(handle_unknown='ignore'),\n",
       "                                                  ['f_property_type',\n",
       "                                                   'f_room_type',\n",
       "                                                   'f_neighbourhood_cleansed',\n",
       "                                                   'f_host_response_time']),\n",
       "                                                 ('num', 'passthrough',\n",
       "                                                  ['n_accommodates', 'n_beds',\n",
       "                                                   'n_bathrooms',\n",
       "                                                   'n_availability_90',\n",
       "                                                   'n_maximum_nights',\n",
       "                                                   'n_host_response_rate',\n",
       "                                                   'n_host_acceptance_rate',\n",
       "                                                   'n_number_of_reviews',\n",
       "                                                   'n_review_scores_rating',\n",
       "                                                   'd_host_is_superhost'])])),\n",
       "                ('regressor',\n",
       "                 GridSearchCV(cv=5,\n",
       "                              estimator=GradientBoostingRegressor(max_features=10,\n",
       "                                                                  min_samples_split=20),\n",
       "                              n_jobs=-1,\n",
       "                              param_grid={'max_depth': [5, 10],\n",
       "                                          'n_estimators': [200, 300]},\n",
       "                              scoring='neg_root_mean_squared_error',\n",
       "                              verbose=10))],\n",
       "         verbose=True)"
      ]
     },
     "execution_count": 1090,
     "metadata": {},
     "output_type": "execute_result"
    }
   ],
   "source": [
    "%%time\n",
    "gbm_pipe.fit(data_train[predictors_2],data_train.ln_price)"
   ]
  },
  {
   "cell_type": "code",
   "execution_count": 1091,
   "metadata": {},
   "outputs": [
    {
     "data": {
      "text/html": [
       "<style>#sk-container-id-61 {color: black;}#sk-container-id-61 pre{padding: 0;}#sk-container-id-61 div.sk-toggleable {background-color: white;}#sk-container-id-61 label.sk-toggleable__label {cursor: pointer;display: block;width: 100%;margin-bottom: 0;padding: 0.3em;box-sizing: border-box;text-align: center;}#sk-container-id-61 label.sk-toggleable__label-arrow:before {content: \"▸\";float: left;margin-right: 0.25em;color: #696969;}#sk-container-id-61 label.sk-toggleable__label-arrow:hover:before {color: black;}#sk-container-id-61 div.sk-estimator:hover label.sk-toggleable__label-arrow:before {color: black;}#sk-container-id-61 div.sk-toggleable__content {max-height: 0;max-width: 0;overflow: hidden;text-align: left;background-color: #f0f8ff;}#sk-container-id-61 div.sk-toggleable__content pre {margin: 0.2em;color: black;border-radius: 0.25em;background-color: #f0f8ff;}#sk-container-id-61 input.sk-toggleable__control:checked~div.sk-toggleable__content {max-height: 200px;max-width: 100%;overflow: auto;}#sk-container-id-61 input.sk-toggleable__control:checked~label.sk-toggleable__label-arrow:before {content: \"▾\";}#sk-container-id-61 div.sk-estimator input.sk-toggleable__control:checked~label.sk-toggleable__label {background-color: #d4ebff;}#sk-container-id-61 div.sk-label input.sk-toggleable__control:checked~label.sk-toggleable__label {background-color: #d4ebff;}#sk-container-id-61 input.sk-hidden--visually {border: 0;clip: rect(1px 1px 1px 1px);clip: rect(1px, 1px, 1px, 1px);height: 1px;margin: -1px;overflow: hidden;padding: 0;position: absolute;width: 1px;}#sk-container-id-61 div.sk-estimator {font-family: monospace;background-color: #f0f8ff;border: 1px dotted black;border-radius: 0.25em;box-sizing: border-box;margin-bottom: 0.5em;}#sk-container-id-61 div.sk-estimator:hover {background-color: #d4ebff;}#sk-container-id-61 div.sk-parallel-item::after {content: \"\";width: 100%;border-bottom: 1px solid gray;flex-grow: 1;}#sk-container-id-61 div.sk-label:hover label.sk-toggleable__label {background-color: #d4ebff;}#sk-container-id-61 div.sk-serial::before {content: \"\";position: absolute;border-left: 1px solid gray;box-sizing: border-box;top: 0;bottom: 0;left: 50%;z-index: 0;}#sk-container-id-61 div.sk-serial {display: flex;flex-direction: column;align-items: center;background-color: white;padding-right: 0.2em;padding-left: 0.2em;position: relative;}#sk-container-id-61 div.sk-item {position: relative;z-index: 1;}#sk-container-id-61 div.sk-parallel {display: flex;align-items: stretch;justify-content: center;background-color: white;position: relative;}#sk-container-id-61 div.sk-item::before, #sk-container-id-61 div.sk-parallel-item::before {content: \"\";position: absolute;border-left: 1px solid gray;box-sizing: border-box;top: 0;bottom: 0;left: 50%;z-index: -1;}#sk-container-id-61 div.sk-parallel-item {display: flex;flex-direction: column;z-index: 1;position: relative;background-color: white;}#sk-container-id-61 div.sk-parallel-item:first-child::after {align-self: flex-end;width: 50%;}#sk-container-id-61 div.sk-parallel-item:last-child::after {align-self: flex-start;width: 50%;}#sk-container-id-61 div.sk-parallel-item:only-child::after {width: 0;}#sk-container-id-61 div.sk-dashed-wrapped {border: 1px dashed gray;margin: 0 0.4em 0.5em 0.4em;box-sizing: border-box;padding-bottom: 0.4em;background-color: white;}#sk-container-id-61 div.sk-label label {font-family: monospace;font-weight: bold;display: inline-block;line-height: 1.2em;}#sk-container-id-61 div.sk-label-container {text-align: center;}#sk-container-id-61 div.sk-container {/* jupyter's `normalize.less` sets `[hidden] { display: none; }` but bootstrap.min.css set `[hidden] { display: none !important; }` so we also need the `!important` here to be able to override the default hidden behavior on the sphinx rendered scikit-learn.org. See: https://github.com/scikit-learn/scikit-learn/issues/21755 */display: inline-block !important;position: relative;}#sk-container-id-61 div.sk-text-repr-fallback {display: none;}</style><div id=\"sk-container-id-61\" class=\"sk-top-container\"><div class=\"sk-text-repr-fallback\"><pre>GradientBoostingRegressor(max_depth=5, max_features=10, min_samples_split=20,\n",
       "                          n_estimators=200)</pre><b>In a Jupyter environment, please rerun this cell to show the HTML representation or trust the notebook. <br />On GitHub, the HTML representation is unable to render, please try loading this page with nbviewer.org.</b></div><div class=\"sk-container\" hidden><div class=\"sk-item\"><div class=\"sk-estimator sk-toggleable\"><input class=\"sk-toggleable__control sk-hidden--visually\" id=\"sk-estimator-id-251\" type=\"checkbox\" checked><label for=\"sk-estimator-id-251\" class=\"sk-toggleable__label sk-toggleable__label-arrow\">GradientBoostingRegressor</label><div class=\"sk-toggleable__content\"><pre>GradientBoostingRegressor(max_depth=5, max_features=10, min_samples_split=20,\n",
       "                          n_estimators=200)</pre></div></div></div></div></div>"
      ],
      "text/plain": [
       "GradientBoostingRegressor(max_depth=5, max_features=10, min_samples_split=20,\n",
       "                          n_estimators=200)"
      ]
     },
     "execution_count": 1091,
     "metadata": {},
     "output_type": "execute_result"
    }
   ],
   "source": [
    "gbm_model_cv.best_estimator_"
   ]
  },
  {
   "cell_type": "code",
   "execution_count": 1092,
   "metadata": {},
   "outputs": [],
   "source": [
    "gbm_rmse_ln = gbm_model_cv.best_score_*-1"
   ]
  },
  {
   "cell_type": "code",
   "execution_count": 1093,
   "metadata": {},
   "outputs": [
    {
     "data": {
      "text/plain": [
       "0.39562161619070085"
      ]
     },
     "execution_count": 1093,
     "metadata": {},
     "output_type": "execute_result"
    }
   ],
   "source": [
    "gbm_rmse_ln"
   ]
  },
  {
   "cell_type": "code",
   "execution_count": 1094,
   "metadata": {},
   "outputs": [],
   "source": [
    "# predicting the target variable (log prices) on the test dataset using the trained pipeline\n",
    "y_hat_test_gbm_log = gbm_pipe.predict(data_holdout[predictors_2])"
   ]
  },
  {
   "cell_type": "code",
   "execution_count": 1095,
   "metadata": {},
   "outputs": [
    {
     "name": "stdout",
     "output_type": "stream",
     "text": [
      "Test RMSE for GBM Model With Log Prices: 0.3783503327041733\n"
     ]
    }
   ],
   "source": [
    "# computing the test RMSE for log prices\n",
    "gbm_rmse_test_log = mean_squared_error(data_holdout.ln_price, y_hat_test_gbm_log, squared=False)\n",
    "print(\"Test RMSE for GBM Model With Log Prices:\", gbm_rmse_test_log)"
   ]
  },
  {
   "cell_type": "markdown",
   "metadata": {},
   "source": [
    "##### Comparison of models"
   ]
  },
  {
   "cell_type": "code",
   "execution_count": 1096,
   "metadata": {
    "tags": []
   },
   "outputs": [],
   "source": [
    "# comparing Cross-validated RMSEs for level prices as target variable\n",
    "df_cv_level_prices = pd.DataFrame({'Model': ['OLS', 'LASSO', 'Random Forest', 'GBM'],\n",
    "              'CV RMSE (Level Prices)': [np.average(cv_rmse_scores), lasso_rmse, \n",
    "                                                      -rf_model_level.best_score_, gbm_rmse]})"
   ]
  },
  {
   "cell_type": "code",
   "execution_count": 1097,
   "metadata": {},
   "outputs": [],
   "source": [
    "# comparing Cross-validated RMSEs for log transformed prices as target variable\n",
    "df_cv_log_prices = pd.DataFrame({'Model': ['OLS', 'LASSO', 'Random Forest', 'GBM'],\n",
    "              'CV RMSE (Log Prices)': [np.average(cv_rmse_scores_log), lasso_rmse_ln, \n",
    "                                                                -rf_model_log.best_score_, gbm_rmse_ln]})"
   ]
  },
  {
   "cell_type": "code",
   "execution_count": 1098,
   "metadata": {},
   "outputs": [],
   "source": [
    "# comparing RMSEs on test data for level prices as target variable\n",
    "\n",
    "df_test_level_prices = pd.DataFrame({'Model': ['OLS', 'LASSO', 'Random Forest', 'GBM'],\n",
    "              'Test RMSE (Level Prices)': [ols_rmse_test, lasso_rmse_test_level, rf_test_rmse_level_price, gbm_rmse_test]})"
   ]
  },
  {
   "cell_type": "code",
   "execution_count": 1099,
   "metadata": {},
   "outputs": [],
   "source": [
    "# comparing RMSEs on test data for log transformed prices as target variable\n",
    "\n",
    "df_test_log_prices = pd.DataFrame({'Model': ['OLS', 'LASSO', 'Random Forest', 'GBM'],\n",
    "              'Test RMSE (Log Prices)': [ols_rmse_test2, lasso_rmse_test_log, \n",
    "                                                     rf_test_rmse_log_price, gbm_rmse_test_log]})"
   ]
  },
  {
   "cell_type": "code",
   "execution_count": 1100,
   "metadata": {},
   "outputs": [],
   "source": [
    "# merging dataframes\n",
    "df_combined = pd.merge(df_cv_level_prices, df_test_level_prices, on='Model')\n",
    "df_combined = pd.merge(df_combined, df_cv_log_prices, on='Model')\n",
    "df_combined = pd.merge(df_combined, df_test_log_prices, on='Model')"
   ]
  },
  {
   "cell_type": "code",
   "execution_count": 1101,
   "metadata": {},
   "outputs": [
    {
     "data": {
      "text/html": [
       "<div>\n",
       "<style scoped>\n",
       "    .dataframe tbody tr th:only-of-type {\n",
       "        vertical-align: middle;\n",
       "    }\n",
       "\n",
       "    .dataframe tbody tr th {\n",
       "        vertical-align: top;\n",
       "    }\n",
       "\n",
       "    .dataframe thead th {\n",
       "        text-align: right;\n",
       "    }\n",
       "</style>\n",
       "<table border=\"1\" class=\"dataframe\">\n",
       "  <thead>\n",
       "    <tr style=\"text-align: right;\">\n",
       "      <th></th>\n",
       "      <th>Model</th>\n",
       "      <th>CV RMSE (Level Prices)</th>\n",
       "      <th>Test RMSE (Level Prices)</th>\n",
       "      <th>CV RMSE (Log Prices)</th>\n",
       "      <th>Test RMSE (Log Prices)</th>\n",
       "    </tr>\n",
       "  </thead>\n",
       "  <tbody>\n",
       "    <tr>\n",
       "      <th>0</th>\n",
       "      <td>OLS</td>\n",
       "      <td>69.408654</td>\n",
       "      <td>67.642552</td>\n",
       "      <td>0.425960</td>\n",
       "      <td>0.406626</td>\n",
       "    </tr>\n",
       "    <tr>\n",
       "      <th>1</th>\n",
       "      <td>LASSO</td>\n",
       "      <td>69.245943</td>\n",
       "      <td>68.302988</td>\n",
       "      <td>0.459388</td>\n",
       "      <td>0.452637</td>\n",
       "    </tr>\n",
       "    <tr>\n",
       "      <th>2</th>\n",
       "      <td>Random Forest</td>\n",
       "      <td>66.816975</td>\n",
       "      <td>65.406494</td>\n",
       "      <td>0.400065</td>\n",
       "      <td>0.383598</td>\n",
       "    </tr>\n",
       "    <tr>\n",
       "      <th>3</th>\n",
       "      <td>GBM</td>\n",
       "      <td>66.096982</td>\n",
       "      <td>66.301386</td>\n",
       "      <td>0.395622</td>\n",
       "      <td>0.378350</td>\n",
       "    </tr>\n",
       "  </tbody>\n",
       "</table>\n",
       "</div>"
      ],
      "text/plain": [
       "           Model  CV RMSE (Level Prices)  Test RMSE (Level Prices)  \\\n",
       "0            OLS               69.408654                 67.642552   \n",
       "1          LASSO               69.245943                 68.302988   \n",
       "2  Random Forest               66.816975                 65.406494   \n",
       "3            GBM               66.096982                 66.301386   \n",
       "\n",
       "   CV RMSE (Log Prices)  Test RMSE (Log Prices)  \n",
       "0              0.425960                0.406626  \n",
       "1              0.459388                0.452637  \n",
       "2              0.400065                0.383598  \n",
       "3              0.395622                0.378350  "
      ]
     },
     "execution_count": 1101,
     "metadata": {},
     "output_type": "execute_result"
    }
   ],
   "source": [
    "df_combined"
   ]
  },
  {
   "cell_type": "markdown",
   "metadata": {},
   "source": [
    "- The best performing model in terms of cross-validated RMSEs is GBM and then Random Forest comes. OLS and LASSO have very similar RMSEs."
   ]
  },
  {
   "cell_type": "markdown",
   "metadata": {},
   "source": [
    "- The next step is to compare RMSEs on holdout/test data"
   ]
  },
  {
   "cell_type": "markdown",
   "metadata": {},
   "source": [
    "- Now Random Forest is the best performing model with holdout/test data."
   ]
  },
  {
   "cell_type": "markdown",
   "metadata": {},
   "source": [
    "### Conclusion"
   ]
  },
  {
   "cell_type": "markdown",
   "metadata": {},
   "source": [
    "We commenced our analysis using Airbnb data for Florence, which encompasses numerous qualitative variables along with a handful of quantitative ones. Employing exploratory data analysis (EDA) and feature engineering techniques, we leveraged our domain expertise to craft estimation models. Initially, we opted for a Random Forest model and meticulously scrutinized to identify the key factors influencing prices. Subsequently, we gauged the overall performance of the base Random Forest model against three alternative models: OLS, LASSO, and GBM.\n",
    "\n",
    "In terms of overall performance, GBM emerged as the frontrunner, yielding the lowest RMSE across cross-validated samples and the test dataset. Interestingly, while room type proved to be the most influential factor in London's data, the number of accommodates took precedence in Florence. Similarly, the second crucial factor in London was the number of bathrooms, whereas in Florence, it was the room type. Moreover, the third significant factor in London was the number of accommodates, while in Florence, it was the neighborhood. Notably, certain neighborhoods in both London and Florence exhibited tendencies to either elevate or diminish accommodation prices."
   ]
  }
 ],
 "metadata": {
  "kernelspec": {
   "display_name": "Python 3 (ipykernel)",
   "language": "python",
   "name": "python3"
  },
  "language_info": {
   "codemirror_mode": {
    "name": "ipython",
    "version": 3
   },
   "file_extension": ".py",
   "mimetype": "text/x-python",
   "name": "python",
   "nbconvert_exporter": "python",
   "pygments_lexer": "ipython3",
   "version": "3.11.5"
  }
 },
 "nbformat": 4,
 "nbformat_minor": 4
}
